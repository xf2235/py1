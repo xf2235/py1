{
 "cells": [
  {
   "cell_type": "markdown",
   "id": "570fc024-be23-4f8b-9539-a1903fb93614",
   "metadata": {},
   "source": [
    "# Support Vector Machine (SVM)"
   ]
  },
  {
   "cell_type": "markdown",
   "id": "e1b785e4-02da-4f0c-add1-bace36c5696c",
   "metadata": {},
   "source": [
    "## ie10"
   ]
  },
  {
   "cell_type": "code",
   "execution_count": 19,
   "id": "73953b88-2755-4aef-9008-221125b9b04d",
   "metadata": {},
   "outputs": [],
   "source": [
    "import pandas as pd\n",
    "from sklearn.datasets import load_iris\n",
    "iris = load_iris()"
   ]
  },
  {
   "cell_type": "code",
   "execution_count": 21,
   "id": "51910562-7485-4fc6-9a0c-1cb7357ed03e",
   "metadata": {},
   "outputs": [
    {
     "data": {
      "text/plain": [
       "['DESCR',\n",
       " 'data',\n",
       " 'feature_names',\n",
       " 'filename',\n",
       " 'frame',\n",
       " 'target',\n",
       " 'target_names']"
      ]
     },
     "execution_count": 21,
     "metadata": {},
     "output_type": "execute_result"
    }
   ],
   "source": [
    "dir(iris)"
   ]
  },
  {
   "cell_type": "code",
   "execution_count": 24,
   "id": "ac172d15-e7d4-454a-80f0-d4bd9b51b936",
   "metadata": {},
   "outputs": [
    {
     "data": {
      "text/plain": [
       "['sepal length (cm)',\n",
       " 'sepal width (cm)',\n",
       " 'petal length (cm)',\n",
       " 'petal width (cm)']"
      ]
     },
     "execution_count": 24,
     "metadata": {},
     "output_type": "execute_result"
    }
   ],
   "source": [
    "iris.feature_names"
   ]
  },
  {
   "cell_type": "code",
   "execution_count": 30,
   "id": "d5b8b35e-81a9-4f0b-aded-9f46199da9ba",
   "metadata": {},
   "outputs": [
    {
     "data": {
      "text/html": [
       "<div>\n",
       "<style scoped>\n",
       "    .dataframe tbody tr th:only-of-type {\n",
       "        vertical-align: middle;\n",
       "    }\n",
       "\n",
       "    .dataframe tbody tr th {\n",
       "        vertical-align: top;\n",
       "    }\n",
       "\n",
       "    .dataframe thead th {\n",
       "        text-align: right;\n",
       "    }\n",
       "</style>\n",
       "<table border=\"1\" class=\"dataframe\">\n",
       "  <thead>\n",
       "    <tr style=\"text-align: right;\">\n",
       "      <th></th>\n",
       "      <th>sepal length (cm)</th>\n",
       "      <th>sepal width (cm)</th>\n",
       "      <th>petal length (cm)</th>\n",
       "      <th>petal width (cm)</th>\n",
       "    </tr>\n",
       "  </thead>\n",
       "  <tbody>\n",
       "    <tr>\n",
       "      <th>0</th>\n",
       "      <td>5.1</td>\n",
       "      <td>3.5</td>\n",
       "      <td>1.4</td>\n",
       "      <td>0.2</td>\n",
       "    </tr>\n",
       "    <tr>\n",
       "      <th>1</th>\n",
       "      <td>4.9</td>\n",
       "      <td>3.0</td>\n",
       "      <td>1.4</td>\n",
       "      <td>0.2</td>\n",
       "    </tr>\n",
       "    <tr>\n",
       "      <th>2</th>\n",
       "      <td>4.7</td>\n",
       "      <td>3.2</td>\n",
       "      <td>1.3</td>\n",
       "      <td>0.2</td>\n",
       "    </tr>\n",
       "    <tr>\n",
       "      <th>3</th>\n",
       "      <td>4.6</td>\n",
       "      <td>3.1</td>\n",
       "      <td>1.5</td>\n",
       "      <td>0.2</td>\n",
       "    </tr>\n",
       "    <tr>\n",
       "      <th>4</th>\n",
       "      <td>5.0</td>\n",
       "      <td>3.6</td>\n",
       "      <td>1.4</td>\n",
       "      <td>0.2</td>\n",
       "    </tr>\n",
       "  </tbody>\n",
       "</table>\n",
       "</div>"
      ],
      "text/plain": [
       "   sepal length (cm)  sepal width (cm)  petal length (cm)  petal width (cm)\n",
       "0                5.1               3.5                1.4               0.2\n",
       "1                4.9               3.0                1.4               0.2\n",
       "2                4.7               3.2                1.3               0.2\n",
       "3                4.6               3.1                1.5               0.2\n",
       "4                5.0               3.6                1.4               0.2"
      ]
     },
     "execution_count": 30,
     "metadata": {},
     "output_type": "execute_result"
    }
   ],
   "source": [
    "df = pd.DataFrame(iris.data, columns=iris.feature_names)\n",
    "df.head()"
   ]
  },
  {
   "cell_type": "code",
   "execution_count": 36,
   "id": "07f2c749-b213-4dbf-a239-b99b0532fc8a",
   "metadata": {},
   "outputs": [
    {
     "name": "stdout",
     "output_type": "stream",
     "text": [
      "     sepal length (cm)  sepal width (cm)  petal length (cm)  petal width (cm)  \\\n",
      "0                  5.1               3.5                1.4               0.2   \n",
      "1                  4.9               3.0                1.4               0.2   \n",
      "2                  4.7               3.2                1.3               0.2   \n",
      "3                  4.6               3.1                1.5               0.2   \n",
      "4                  5.0               3.6                1.4               0.2   \n",
      "..                 ...               ...                ...               ...   \n",
      "145                6.7               3.0                5.2               2.3   \n",
      "146                6.3               2.5                5.0               1.9   \n",
      "147                6.5               3.0                5.2               2.0   \n",
      "148                6.2               3.4                5.4               2.3   \n",
      "149                5.9               3.0                5.1               1.8   \n",
      "\n",
      "     target  \n",
      "0         0  \n",
      "1         0  \n",
      "2         0  \n",
      "3         0  \n",
      "4         0  \n",
      "..      ...  \n",
      "145       2  \n",
      "146       2  \n",
      "147       2  \n",
      "148       2  \n",
      "149       2  \n",
      "\n",
      "[150 rows x 5 columns]\n",
      "['setosa' 'versicolor' 'virginica']\n"
     ]
    }
   ],
   "source": [
    "df[\"target\"] = iris.target\n",
    "print(df)\n",
    "print(iris.target_names)"
   ]
  },
  {
   "cell_type": "code",
   "execution_count": 39,
   "id": "303ccb5b-5b8c-4a30-afcf-6a2f7df20143",
   "metadata": {},
   "outputs": [
    {
     "data": {
      "text/html": [
       "<div>\n",
       "<style scoped>\n",
       "    .dataframe tbody tr th:only-of-type {\n",
       "        vertical-align: middle;\n",
       "    }\n",
       "\n",
       "    .dataframe tbody tr th {\n",
       "        vertical-align: top;\n",
       "    }\n",
       "\n",
       "    .dataframe thead th {\n",
       "        text-align: right;\n",
       "    }\n",
       "</style>\n",
       "<table border=\"1\" class=\"dataframe\">\n",
       "  <thead>\n",
       "    <tr style=\"text-align: right;\">\n",
       "      <th></th>\n",
       "      <th>sepal length (cm)</th>\n",
       "      <th>sepal width (cm)</th>\n",
       "      <th>petal length (cm)</th>\n",
       "      <th>petal width (cm)</th>\n",
       "      <th>target</th>\n",
       "    </tr>\n",
       "  </thead>\n",
       "  <tbody>\n",
       "    <tr>\n",
       "      <th>0</th>\n",
       "      <td>5.1</td>\n",
       "      <td>3.5</td>\n",
       "      <td>1.4</td>\n",
       "      <td>0.2</td>\n",
       "      <td>0</td>\n",
       "    </tr>\n",
       "    <tr>\n",
       "      <th>1</th>\n",
       "      <td>4.9</td>\n",
       "      <td>3.0</td>\n",
       "      <td>1.4</td>\n",
       "      <td>0.2</td>\n",
       "      <td>0</td>\n",
       "    </tr>\n",
       "    <tr>\n",
       "      <th>2</th>\n",
       "      <td>4.7</td>\n",
       "      <td>3.2</td>\n",
       "      <td>1.3</td>\n",
       "      <td>0.2</td>\n",
       "      <td>0</td>\n",
       "    </tr>\n",
       "    <tr>\n",
       "      <th>3</th>\n",
       "      <td>4.6</td>\n",
       "      <td>3.1</td>\n",
       "      <td>1.5</td>\n",
       "      <td>0.2</td>\n",
       "      <td>0</td>\n",
       "    </tr>\n",
       "    <tr>\n",
       "      <th>4</th>\n",
       "      <td>5.0</td>\n",
       "      <td>3.6</td>\n",
       "      <td>1.4</td>\n",
       "      <td>0.2</td>\n",
       "      <td>0</td>\n",
       "    </tr>\n",
       "  </tbody>\n",
       "</table>\n",
       "</div>"
      ],
      "text/plain": [
       "   sepal length (cm)  sepal width (cm)  petal length (cm)  petal width (cm)  \\\n",
       "0                5.1               3.5                1.4               0.2   \n",
       "1                4.9               3.0                1.4               0.2   \n",
       "2                4.7               3.2                1.3               0.2   \n",
       "3                4.6               3.1                1.5               0.2   \n",
       "4                5.0               3.6                1.4               0.2   \n",
       "\n",
       "   target  \n",
       "0       0  \n",
       "1       0  \n",
       "2       0  \n",
       "3       0  \n",
       "4       0  "
      ]
     },
     "execution_count": 39,
     "metadata": {},
     "output_type": "execute_result"
    }
   ],
   "source": [
    "df[df.target==0].head()"
   ]
  },
  {
   "cell_type": "code",
   "execution_count": 44,
   "id": "7d127457-b089-4c0c-b7c0-893eb5534b3c",
   "metadata": {},
   "outputs": [
    {
     "data": {
      "text/html": [
       "<div>\n",
       "<style scoped>\n",
       "    .dataframe tbody tr th:only-of-type {\n",
       "        vertical-align: middle;\n",
       "    }\n",
       "\n",
       "    .dataframe tbody tr th {\n",
       "        vertical-align: top;\n",
       "    }\n",
       "\n",
       "    .dataframe thead th {\n",
       "        text-align: right;\n",
       "    }\n",
       "</style>\n",
       "<table border=\"1\" class=\"dataframe\">\n",
       "  <thead>\n",
       "    <tr style=\"text-align: right;\">\n",
       "      <th></th>\n",
       "      <th>sepal length (cm)</th>\n",
       "      <th>sepal width (cm)</th>\n",
       "      <th>petal length (cm)</th>\n",
       "      <th>petal width (cm)</th>\n",
       "      <th>target</th>\n",
       "      <th>flower_name</th>\n",
       "    </tr>\n",
       "  </thead>\n",
       "  <tbody>\n",
       "    <tr>\n",
       "      <th>0</th>\n",
       "      <td>5.1</td>\n",
       "      <td>3.5</td>\n",
       "      <td>1.4</td>\n",
       "      <td>0.2</td>\n",
       "      <td>0</td>\n",
       "      <td>setosa</td>\n",
       "    </tr>\n",
       "    <tr>\n",
       "      <th>1</th>\n",
       "      <td>4.9</td>\n",
       "      <td>3.0</td>\n",
       "      <td>1.4</td>\n",
       "      <td>0.2</td>\n",
       "      <td>0</td>\n",
       "      <td>setosa</td>\n",
       "    </tr>\n",
       "    <tr>\n",
       "      <th>2</th>\n",
       "      <td>4.7</td>\n",
       "      <td>3.2</td>\n",
       "      <td>1.3</td>\n",
       "      <td>0.2</td>\n",
       "      <td>0</td>\n",
       "      <td>setosa</td>\n",
       "    </tr>\n",
       "    <tr>\n",
       "      <th>3</th>\n",
       "      <td>4.6</td>\n",
       "      <td>3.1</td>\n",
       "      <td>1.5</td>\n",
       "      <td>0.2</td>\n",
       "      <td>0</td>\n",
       "      <td>setosa</td>\n",
       "    </tr>\n",
       "    <tr>\n",
       "      <th>4</th>\n",
       "      <td>5.0</td>\n",
       "      <td>3.6</td>\n",
       "      <td>1.4</td>\n",
       "      <td>0.2</td>\n",
       "      <td>0</td>\n",
       "      <td>setosa</td>\n",
       "    </tr>\n",
       "  </tbody>\n",
       "</table>\n",
       "</div>"
      ],
      "text/plain": [
       "   sepal length (cm)  sepal width (cm)  petal length (cm)  petal width (cm)  \\\n",
       "0                5.1               3.5                1.4               0.2   \n",
       "1                4.9               3.0                1.4               0.2   \n",
       "2                4.7               3.2                1.3               0.2   \n",
       "3                4.6               3.1                1.5               0.2   \n",
       "4                5.0               3.6                1.4               0.2   \n",
       "\n",
       "   target flower_name  \n",
       "0       0      setosa  \n",
       "1       0      setosa  \n",
       "2       0      setosa  \n",
       "3       0      setosa  \n",
       "4       0      setosa  "
      ]
     },
     "execution_count": 44,
     "metadata": {},
     "output_type": "execute_result"
    }
   ],
   "source": [
    "df[\"flower_name\"] = df.target.apply(lambda x: iris.target_names[x])\n",
    "df.head()"
   ]
  },
  {
   "cell_type": "code",
   "execution_count": 52,
   "id": "93648c38-4f66-4b58-a4d5-241e04ac473d",
   "metadata": {},
   "outputs": [
    {
     "name": "stdout",
     "output_type": "stream",
     "text": [
      "   sepal length (cm)  sepal width (cm)  petal length (cm)  petal width (cm)  \\\n",
      "0                5.1               3.5                1.4               0.2   \n",
      "1                4.9               3.0                1.4               0.2   \n",
      "2                4.7               3.2                1.3               0.2   \n",
      "3                4.6               3.1                1.5               0.2   \n",
      "4                5.0               3.6                1.4               0.2   \n",
      "\n",
      "   target flower_name  \n",
      "0       0      setosa  \n",
      "1       0      setosa  \n",
      "2       0      setosa  \n",
      "3       0      setosa  \n",
      "4       0      setosa  \n",
      "    sepal length (cm)  sepal width (cm)  petal length (cm)  petal width (cm)  \\\n",
      "50                7.0               3.2                4.7               1.4   \n",
      "51                6.4               3.2                4.5               1.5   \n",
      "52                6.9               3.1                4.9               1.5   \n",
      "53                5.5               2.3                4.0               1.3   \n",
      "54                6.5               2.8                4.6               1.5   \n",
      "\n",
      "    target flower_name  \n",
      "50       1  versicolor  \n",
      "51       1  versicolor  \n",
      "52       1  versicolor  \n",
      "53       1  versicolor  \n",
      "54       1  versicolor  \n",
      "     sepal length (cm)  sepal width (cm)  petal length (cm)  petal width (cm)  \\\n",
      "100                6.3               3.3                6.0               2.5   \n",
      "101                5.8               2.7                5.1               1.9   \n",
      "102                7.1               3.0                5.9               2.1   \n",
      "103                6.3               2.9                5.6               1.8   \n",
      "104                6.5               3.0                5.8               2.2   \n",
      "\n",
      "     target flower_name  \n",
      "100       2   virginica  \n",
      "101       2   virginica  \n",
      "102       2   virginica  \n",
      "103       2   virginica  \n",
      "104       2   virginica  \n"
     ]
    }
   ],
   "source": [
    "import matplotlib.pyplot as plt\n",
    "%matplotlib inline\n",
    "df0 = df[df.target==0]\n",
    "df1 = df[df.target==1]\n",
    "df2 = df[df.target==2]\n",
    "print(df0.head())\n",
    "print(df1.head())\n",
    "print(df2.head())"
   ]
  },
  {
   "cell_type": "code",
   "execution_count": 65,
   "id": "e53a921e-c3c9-44b7-b456-fb6aa62fe42f",
   "metadata": {},
   "outputs": [
    {
     "data": {
      "text/plain": [
       "<matplotlib.collections.PathCollection at 0x219d83cbb20>"
      ]
     },
     "execution_count": 65,
     "metadata": {},
     "output_type": "execute_result"
    },
    {
     "data": {
      "image/png": "[encoded data removed]",
      "text/plain": [
       "<Figure size 432x288 with 1 Axes>"
      ]
     },
     "metadata": {
      "needs_background": "light"
     },
     "output_type": "display_data"
    }
   ],
   "source": [
    "plt.xlabel(\"sepal length (cm)\")\n",
    "plt.ylabel(\"sepal width (cm)\")\n",
    "plt.scatter(df0[\"sepal length (cm)\"], df0[\"sepal width (cm)\"], color=\"green\", marker=\"+\")\n",
    "plt.scatter(df1[\"sepal length (cm)\"], df1[\"sepal width (cm)\"], color=\"blue\", marker=\".\")\n",
    "plt.scatter(df2[\"sepal length (cm)\"], df2[\"sepal width (cm)\"], color=\"red\", marker=\"*\")"
   ]
  },
  {
   "cell_type": "code",
   "execution_count": 66,
   "id": "c0871616-c33e-4bb7-9638-bf8373f51d7c",
   "metadata": {},
   "outputs": [
    {
     "data": {
      "text/plain": [
       "<matplotlib.collections.PathCollection at 0x219d8444850>"
      ]
     },
     "execution_count": 66,
     "metadata": {},
     "output_type": "execute_result"
    },
    {
     "data": {
      "image/png": "[encoded data removed]",
      "text/plain": [
       "<Figure size 432x288 with 1 Axes>"
      ]
     },
     "metadata": {
      "needs_background": "light"
     },
     "output_type": "display_data"
    }
   ],
   "source": [
    "plt.xlabel(\"petal length (cm)\")\n",
    "plt.ylabel(\"petal width (cm)\")\n",
    "plt.scatter(df0[\"petal length (cm)\"], df0[\"petal width (cm)\"], color=\"green\", marker=\"+\")\n",
    "plt.scatter(df1[\"petal length (cm)\"], df1[\"petal width (cm)\"], color=\"blue\", marker=\".\")\n",
    "plt.scatter(df2[\"petal length (cm)\"], df2[\"petal width (cm)\"], color=\"red\", marker=\"*\")"
   ]
  },
  {
   "cell_type": "code",
   "execution_count": 70,
   "id": "08510a0a-1a38-4bb9-a700-3eef29fc3a1e",
   "metadata": {},
   "outputs": [
    {
     "name": "stdout",
     "output_type": "stream",
     "text": [
      "     sepal length (cm)  sepal width (cm)  petal length (cm)  petal width (cm)\n",
      "0                  5.1               3.5                1.4               0.2\n",
      "1                  4.9               3.0                1.4               0.2\n",
      "2                  4.7               3.2                1.3               0.2\n",
      "3                  4.6               3.1                1.5               0.2\n",
      "4                  5.0               3.6                1.4               0.2\n",
      "..                 ...               ...                ...               ...\n",
      "145                6.7               3.0                5.2               2.3\n",
      "146                6.3               2.5                5.0               1.9\n",
      "147                6.5               3.0                5.2               2.0\n",
      "148                6.2               3.4                5.4               2.3\n",
      "149                5.9               3.0                5.1               1.8\n",
      "\n",
      "[150 rows x 4 columns]\n",
      "0      0\n",
      "1      0\n",
      "2      0\n",
      "3      0\n",
      "4      0\n",
      "      ..\n",
      "145    2\n",
      "146    2\n",
      "147    2\n",
      "148    2\n",
      "149    2\n",
      "Name: target, Length: 150, dtype: int32\n"
     ]
    }
   ],
   "source": [
    "from sklearn.model_selection import train_test_split\n",
    "x = df.drop([\"target\", \"flower_name\"], axis=\"columns\")\n",
    "print(x)\n",
    "y = df.target\n",
    "print(y)"
   ]
  },
  {
   "cell_type": "code",
   "execution_count": 76,
   "id": "e30b0616-9284-4619-956d-6e384a777dfd",
   "metadata": {},
   "outputs": [
    {
     "data": {
      "text/plain": [
       "30"
      ]
     },
     "execution_count": 76,
     "metadata": {},
     "output_type": "execute_result"
    }
   ],
   "source": [
    "import numpy as np\n",
    "np.random.seed(23)\n",
    "x_train, x_test, y_train, y_test = train_test_split(x, y, train_size=0.8)\n",
    "len(x_test)"
   ]
  },
  {
   "cell_type": "code",
   "execution_count": 77,
   "id": "6ea2000a-edb3-461c-a241-ee5af14e524a",
   "metadata": {},
   "outputs": [
    {
     "data": {
      "text/html": [
       "<div>\n",
       "<style scoped>\n",
       "    .dataframe tbody tr th:only-of-type {\n",
       "        vertical-align: middle;\n",
       "    }\n",
       "\n",
       "    .dataframe tbody tr th {\n",
       "        vertical-align: top;\n",
       "    }\n",
       "\n",
       "    .dataframe thead th {\n",
       "        text-align: right;\n",
       "    }\n",
       "</style>\n",
       "<table border=\"1\" class=\"dataframe\">\n",
       "  <thead>\n",
       "    <tr style=\"text-align: right;\">\n",
       "      <th></th>\n",
       "      <th>sepal length (cm)</th>\n",
       "      <th>sepal width (cm)</th>\n",
       "      <th>petal length (cm)</th>\n",
       "      <th>petal width (cm)</th>\n",
       "    </tr>\n",
       "  </thead>\n",
       "  <tbody>\n",
       "    <tr>\n",
       "      <th>139</th>\n",
       "      <td>6.9</td>\n",
       "      <td>3.1</td>\n",
       "      <td>5.4</td>\n",
       "      <td>2.1</td>\n",
       "    </tr>\n",
       "    <tr>\n",
       "      <th>125</th>\n",
       "      <td>7.2</td>\n",
       "      <td>3.2</td>\n",
       "      <td>6.0</td>\n",
       "      <td>1.8</td>\n",
       "    </tr>\n",
       "    <tr>\n",
       "      <th>67</th>\n",
       "      <td>5.8</td>\n",
       "      <td>2.7</td>\n",
       "      <td>4.1</td>\n",
       "      <td>1.0</td>\n",
       "    </tr>\n",
       "    <tr>\n",
       "      <th>3</th>\n",
       "      <td>4.6</td>\n",
       "      <td>3.1</td>\n",
       "      <td>1.5</td>\n",
       "      <td>0.2</td>\n",
       "    </tr>\n",
       "    <tr>\n",
       "      <th>113</th>\n",
       "      <td>5.7</td>\n",
       "      <td>2.5</td>\n",
       "      <td>5.0</td>\n",
       "      <td>2.0</td>\n",
       "    </tr>\n",
       "    <tr>\n",
       "      <th>52</th>\n",
       "      <td>6.9</td>\n",
       "      <td>3.1</td>\n",
       "      <td>4.9</td>\n",
       "      <td>1.5</td>\n",
       "    </tr>\n",
       "    <tr>\n",
       "      <th>18</th>\n",
       "      <td>5.7</td>\n",
       "      <td>3.8</td>\n",
       "      <td>1.7</td>\n",
       "      <td>0.3</td>\n",
       "    </tr>\n",
       "    <tr>\n",
       "      <th>137</th>\n",
       "      <td>6.4</td>\n",
       "      <td>3.1</td>\n",
       "      <td>5.5</td>\n",
       "      <td>1.8</td>\n",
       "    </tr>\n",
       "    <tr>\n",
       "      <th>20</th>\n",
       "      <td>5.4</td>\n",
       "      <td>3.4</td>\n",
       "      <td>1.7</td>\n",
       "      <td>0.2</td>\n",
       "    </tr>\n",
       "    <tr>\n",
       "      <th>64</th>\n",
       "      <td>5.6</td>\n",
       "      <td>2.9</td>\n",
       "      <td>3.6</td>\n",
       "      <td>1.3</td>\n",
       "    </tr>\n",
       "    <tr>\n",
       "      <th>73</th>\n",
       "      <td>6.1</td>\n",
       "      <td>2.8</td>\n",
       "      <td>4.7</td>\n",
       "      <td>1.2</td>\n",
       "    </tr>\n",
       "    <tr>\n",
       "      <th>30</th>\n",
       "      <td>4.8</td>\n",
       "      <td>3.1</td>\n",
       "      <td>1.6</td>\n",
       "      <td>0.2</td>\n",
       "    </tr>\n",
       "    <tr>\n",
       "      <th>102</th>\n",
       "      <td>7.1</td>\n",
       "      <td>3.0</td>\n",
       "      <td>5.9</td>\n",
       "      <td>2.1</td>\n",
       "    </tr>\n",
       "    <tr>\n",
       "      <th>19</th>\n",
       "      <td>5.1</td>\n",
       "      <td>3.8</td>\n",
       "      <td>1.5</td>\n",
       "      <td>0.3</td>\n",
       "    </tr>\n",
       "    <tr>\n",
       "      <th>10</th>\n",
       "      <td>5.4</td>\n",
       "      <td>3.7</td>\n",
       "      <td>1.5</td>\n",
       "      <td>0.2</td>\n",
       "    </tr>\n",
       "    <tr>\n",
       "      <th>133</th>\n",
       "      <td>6.3</td>\n",
       "      <td>2.8</td>\n",
       "      <td>5.1</td>\n",
       "      <td>1.5</td>\n",
       "    </tr>\n",
       "    <tr>\n",
       "      <th>51</th>\n",
       "      <td>6.4</td>\n",
       "      <td>3.2</td>\n",
       "      <td>4.5</td>\n",
       "      <td>1.5</td>\n",
       "    </tr>\n",
       "    <tr>\n",
       "      <th>63</th>\n",
       "      <td>6.1</td>\n",
       "      <td>2.9</td>\n",
       "      <td>4.7</td>\n",
       "      <td>1.4</td>\n",
       "    </tr>\n",
       "    <tr>\n",
       "      <th>135</th>\n",
       "      <td>7.7</td>\n",
       "      <td>3.0</td>\n",
       "      <td>6.1</td>\n",
       "      <td>2.3</td>\n",
       "    </tr>\n",
       "    <tr>\n",
       "      <th>28</th>\n",
       "      <td>5.2</td>\n",
       "      <td>3.4</td>\n",
       "      <td>1.4</td>\n",
       "      <td>0.2</td>\n",
       "    </tr>\n",
       "    <tr>\n",
       "      <th>115</th>\n",
       "      <td>6.4</td>\n",
       "      <td>3.2</td>\n",
       "      <td>5.3</td>\n",
       "      <td>2.3</td>\n",
       "    </tr>\n",
       "    <tr>\n",
       "      <th>45</th>\n",
       "      <td>4.8</td>\n",
       "      <td>3.0</td>\n",
       "      <td>1.4</td>\n",
       "      <td>0.3</td>\n",
       "    </tr>\n",
       "    <tr>\n",
       "      <th>46</th>\n",
       "      <td>5.1</td>\n",
       "      <td>3.8</td>\n",
       "      <td>1.6</td>\n",
       "      <td>0.2</td>\n",
       "    </tr>\n",
       "    <tr>\n",
       "      <th>2</th>\n",
       "      <td>4.7</td>\n",
       "      <td>3.2</td>\n",
       "      <td>1.3</td>\n",
       "      <td>0.2</td>\n",
       "    </tr>\n",
       "    <tr>\n",
       "      <th>140</th>\n",
       "      <td>6.7</td>\n",
       "      <td>3.1</td>\n",
       "      <td>5.6</td>\n",
       "      <td>2.4</td>\n",
       "    </tr>\n",
       "    <tr>\n",
       "      <th>17</th>\n",
       "      <td>5.1</td>\n",
       "      <td>3.5</td>\n",
       "      <td>1.4</td>\n",
       "      <td>0.3</td>\n",
       "    </tr>\n",
       "    <tr>\n",
       "      <th>44</th>\n",
       "      <td>5.1</td>\n",
       "      <td>3.8</td>\n",
       "      <td>1.9</td>\n",
       "      <td>0.4</td>\n",
       "    </tr>\n",
       "    <tr>\n",
       "      <th>126</th>\n",
       "      <td>6.2</td>\n",
       "      <td>2.8</td>\n",
       "      <td>4.8</td>\n",
       "      <td>1.8</td>\n",
       "    </tr>\n",
       "    <tr>\n",
       "      <th>75</th>\n",
       "      <td>6.6</td>\n",
       "      <td>3.0</td>\n",
       "      <td>4.4</td>\n",
       "      <td>1.4</td>\n",
       "    </tr>\n",
       "    <tr>\n",
       "      <th>69</th>\n",
       "      <td>5.6</td>\n",
       "      <td>2.5</td>\n",
       "      <td>3.9</td>\n",
       "      <td>1.1</td>\n",
       "    </tr>\n",
       "  </tbody>\n",
       "</table>\n",
       "</div>"
      ],
      "text/plain": [
       "     sepal length (cm)  sepal width (cm)  petal length (cm)  petal width (cm)\n",
       "139                6.9               3.1                5.4               2.1\n",
       "125                7.2               3.2                6.0               1.8\n",
       "67                 5.8               2.7                4.1               1.0\n",
       "3                  4.6               3.1                1.5               0.2\n",
       "113                5.7               2.5                5.0               2.0\n",
       "52                 6.9               3.1                4.9               1.5\n",
       "18                 5.7               3.8                1.7               0.3\n",
       "137                6.4               3.1                5.5               1.8\n",
       "20                 5.4               3.4                1.7               0.2\n",
       "64                 5.6               2.9                3.6               1.3\n",
       "73                 6.1               2.8                4.7               1.2\n",
       "30                 4.8               3.1                1.6               0.2\n",
       "102                7.1               3.0                5.9               2.1\n",
       "19                 5.1               3.8                1.5               0.3\n",
       "10                 5.4               3.7                1.5               0.2\n",
       "133                6.3               2.8                5.1               1.5\n",
       "51                 6.4               3.2                4.5               1.5\n",
       "63                 6.1               2.9                4.7               1.4\n",
       "135                7.7               3.0                6.1               2.3\n",
       "28                 5.2               3.4                1.4               0.2\n",
       "115                6.4               3.2                5.3               2.3\n",
       "45                 4.8               3.0                1.4               0.3\n",
       "46                 5.1               3.8                1.6               0.2\n",
       "2                  4.7               3.2                1.3               0.2\n",
       "140                6.7               3.1                5.6               2.4\n",
       "17                 5.1               3.5                1.4               0.3\n",
       "44                 5.1               3.8                1.9               0.4\n",
       "126                6.2               2.8                4.8               1.8\n",
       "75                 6.6               3.0                4.4               1.4\n",
       "69                 5.6               2.5                3.9               1.1"
      ]
     },
     "execution_count": 77,
     "metadata": {},
     "output_type": "execute_result"
    }
   ],
   "source": [
    "x_test"
   ]
  },
  {
   "cell_type": "code",
   "execution_count": 91,
   "id": "1a9be76b-ff44-4ee3-ad20-3de54ecec1d8",
   "metadata": {},
   "outputs": [
    {
     "data": {
      "text/plain": [
       "0.9666666666666667"
      ]
     },
     "execution_count": 91,
     "metadata": {},
     "output_type": "execute_result"
    }
   ],
   "source": [
    "from sklearn.svm import SVC\n",
    "model = SVC()\n",
    "model.fit(x_train, y_train)\n",
    "model.score(x_test, y_test)"
   ]
  },
  {
   "cell_type": "markdown",
   "id": "ed0496c6-0abf-4f3a-9d1a-aaf731961f2e",
   "metadata": {},
   "source": [
    "## sample"
   ]
  },
  {
   "cell_type": "code",
   "execution_count": 101,
   "id": "6e5ac033-f4ac-4198-95b1-c0a744bd0de0",
   "metadata": {},
   "outputs": [
    {
     "name": "stdout",
     "output_type": "stream",
     "text": [
      "[0]\n"
     ]
    },
    {
     "data": {
      "image/png": "[encoded data removed]",
      "text/plain": [
       "<Figure size 432x288 with 1 Axes>"
      ]
     },
     "metadata": {},
     "output_type": "display_data"
    }
   ],
   "source": [
    "# https://stackoverflow.com/questions/45554008/error-in-python-script-expected-2d-array-got-1d-array-instead\n",
    "import numpy as np\n",
    "import matplotlib.pyplot as plt\n",
    "# from matplotlib import style\n",
    "# style.use(\"ggplot\")\n",
    "from sklearn import svm\n",
    "x = [1, 5, 1.5, 8, 1, 9]\n",
    "y = [2, 8, 1.8, 8, 0.6, 11]\n",
    "plt.scatter(x,y)\n",
    "# plt.show()\n",
    "X = np.array([[1,2],\n",
    "             [5,8],\n",
    "             [1.5,1.8],\n",
    "             [8,8],\n",
    "             [1,0.6],\n",
    "             [9,11]])\n",
    "y = [0,1,0,1,0,1]\n",
    "# X.reshape(1, -1)\n",
    "clf = svm.SVC(kernel='linear', C = 1.0)\n",
    "clf.fit(X,y)\n",
    "test = [[0.58,0.76]]\n",
    "print(clf.predict(test))"
   ]
  },
  {
   "cell_type": "markdown",
   "id": "c2a0fedf-07e0-40f9-bfaa-f065f1161716",
   "metadata": {},
   "source": [
    "## ie10"
   ]
  },
  {
   "cell_type": "code",
   "execution_count": 103,
   "id": "4845e15e-b3d0-45e0-bc67-9f09f1d834d3",
   "metadata": {},
   "outputs": [],
   "source": [
    "%matplotlib inline\n",
    "import matplotlib.pyplot as plt\n",
    "from sklearn.datasets import load_digits"
   ]
  },
  {
   "cell_type": "code",
   "execution_count": 148,
   "id": "6eb9ee7b-b20b-46ba-b436-86892a0aaf44",
   "metadata": {},
   "outputs": [
    {
     "name": "stdout",
     "output_type": "stream",
     "text": [
      "['DESCR', 'data', 'feature_names', 'frame', 'images', 'target', 'target_names']\n",
      "[ 0.  0.  5. 13.  9.  1.  0.  0.  0.  0. 13. 15. 10. 15.  5.  0.  0.  3.\n",
      " 15.  2.  0. 11.  8.  0.  0.  4. 12.  0.  0.  8.  8.  0.  0.  5.  8.  0.\n",
      "  0.  9.  8.  0.  0.  4. 11.  0.  1. 12.  7.  0.  0.  2. 14.  5. 10. 12.\n",
      "  0.  0.  0.  0.  6. 13. 10.  0.  0.  0.]\n",
      "target: 0\n",
      "target: 1\n",
      "target: 2\n",
      "target names: [0 1 2 3 4 5 6 7 8 9]\n",
      "    0    1    2     3     4     5    6    7    8    9   ...   54   55   56  \\\n",
      "0  0.0  0.0  5.0  13.0   9.0   1.0  0.0  0.0  0.0  0.0  ...  0.0  0.0  0.0   \n",
      "1  0.0  0.0  0.0  12.0  13.0   5.0  0.0  0.0  0.0  0.0  ...  0.0  0.0  0.0   \n",
      "2  0.0  0.0  0.0   4.0  15.0  12.0  0.0  0.0  0.0  0.0  ...  5.0  0.0  0.0   \n",
      "3  0.0  0.0  7.0  15.0  13.0   1.0  0.0  0.0  0.0  8.0  ...  9.0  0.0  0.0   \n",
      "4  0.0  0.0  0.0   1.0  11.0   0.0  0.0  0.0  0.0  0.0  ...  0.0  0.0  0.0   \n",
      "\n",
      "    57   58    59    60    61   62   63  \n",
      "0  0.0  6.0  13.0  10.0   0.0  0.0  0.0  \n",
      "1  0.0  0.0  11.0  16.0  10.0  0.0  0.0  \n",
      "2  0.0  0.0   3.0  11.0  16.0  9.0  0.0  \n",
      "3  0.0  7.0  13.0  13.0   9.0  0.0  0.0  \n",
      "4  0.0  0.0   2.0  16.0   4.0  0.0  0.0  \n",
      "\n",
      "[5 rows x 64 columns]\n",
      "     0    1     2     3     4     5     6    7    8     9  ...   55   56   57  \\\n",
      "0  0.0  0.0   5.0  13.0   9.0   1.0   0.0  0.0  0.0   0.0  ...  0.0  0.0  0.0   \n",
      "1  0.0  0.0   0.0  12.0  13.0   5.0   0.0  0.0  0.0   0.0  ...  0.0  0.0  0.0   \n",
      "2  0.0  0.0   0.0   4.0  15.0  12.0   0.0  0.0  0.0   0.0  ...  0.0  0.0  0.0   \n",
      "3  0.0  0.0   7.0  15.0  13.0   1.0   0.0  0.0  0.0   8.0  ...  0.0  0.0  0.0   \n",
      "4  0.0  0.0   0.0   1.0  11.0   0.0   0.0  0.0  0.0   0.0  ...  0.0  0.0  0.0   \n",
      "5  0.0  0.0  12.0  10.0   0.0   0.0   0.0  0.0  0.0   0.0  ...  0.0  0.0  0.0   \n",
      "6  0.0  0.0   0.0  12.0  13.0   0.0   0.0  0.0  0.0   0.0  ...  0.0  0.0  0.0   \n",
      "7  0.0  0.0   7.0   8.0  13.0  16.0  15.0  1.0  0.0   0.0  ...  0.0  0.0  0.0   \n",
      "8  0.0  0.0   9.0  14.0   8.0   1.0   0.0  0.0  0.0   0.0  ...  0.0  0.0  0.0   \n",
      "9  0.0  0.0  11.0  12.0   0.0   0.0   0.0  0.0  0.0   2.0  ...  0.0  0.0  0.0   \n",
      "0  0.0  0.0   1.0   9.0  15.0  11.0   0.0  0.0  0.0   0.0  ...  0.0  0.0  0.0   \n",
      "1  0.0  0.0   0.0   0.0  14.0  13.0   1.0  0.0  0.0   0.0  ...  0.0  0.0  0.0   \n",
      "2  0.0  0.0   5.0  12.0   1.0   0.0   0.0  0.0  0.0   0.0  ...  2.0  0.0  0.0   \n",
      "3  0.0  2.0   9.0  15.0  14.0   9.0   3.0  0.0  0.0   4.0  ...  0.0  0.0  2.0   \n",
      "4  0.0  0.0   0.0   8.0  15.0   1.0   0.0  0.0  0.0   0.0  ...  0.0  0.0  0.0   \n",
      "5  0.0  5.0  12.0  13.0  16.0  16.0   2.0  0.0  0.0  11.0  ...  0.0  0.0  4.0   \n",
      "6  0.0  0.0   0.0   8.0  15.0   1.0   0.0  0.0  0.0   0.0  ...  2.0  0.0  0.0   \n",
      "7  0.0  0.0   1.0   8.0  15.0  10.0   0.0  0.0  0.0   3.0  ...  0.0  0.0  0.0   \n",
      "8  0.0  0.0  10.0   7.0  13.0   9.0   0.0  0.0  0.0   0.0  ...  0.0  0.0  0.0   \n",
      "9  0.0  0.0   6.0  14.0   4.0   0.0   0.0  0.0  0.0   0.0  ...  2.0  0.0  0.0   \n",
      "\n",
      "     58    59    60    61    62   63  target  \n",
      "0   6.0  13.0  10.0   0.0   0.0  0.0       0  \n",
      "1   0.0  11.0  16.0  10.0   0.0  0.0       1  \n",
      "2   0.0   3.0  11.0  16.0   9.0  0.0       2  \n",
      "3   7.0  13.0  13.0   9.0   0.0  0.0       3  \n",
      "4   0.0   2.0  16.0   4.0   0.0  0.0       4  \n",
      "5   9.0  16.0  16.0  10.0   0.0  0.0       5  \n",
      "6   1.0   9.0  15.0  11.0   3.0  0.0       6  \n",
      "7  13.0   5.0   0.0   0.0   0.0  0.0       7  \n",
      "8  11.0  16.0  15.0  11.0   1.0  0.0       8  \n",
      "9   9.0  12.0  13.0   3.0   0.0  0.0       9  \n",
      "0   1.0  10.0  13.0   3.0   0.0  0.0       0  \n",
      "1   0.0   1.0  13.0  16.0   1.0  0.0       1  \n",
      "2   3.0  11.0   8.0  13.0  12.0  4.0       2  \n",
      "3  12.0  12.0  13.0  11.0   0.0  0.0       3  \n",
      "4   0.0  10.0  15.0   4.0   0.0  0.0       4  \n",
      "5  15.0  16.0   2.0   0.0   0.0  0.0       5  \n",
      "6   0.0   7.0  15.0  16.0  11.0  0.0       6  \n",
      "7   0.0  11.0   9.0   0.0   0.0  0.0       7  \n",
      "8  11.0  14.0   5.0   0.0   0.0  0.0       8  \n",
      "9   7.0  16.0  16.0  13.0  11.0  1.0       9  \n",
      "\n",
      "[20 rows x 65 columns]\n"
     ]
    },
    {
     "data": {
      "text/plain": [
       "<Figure size 432x288 with 0 Axes>"
      ]
     },
     "metadata": {},
     "output_type": "display_data"
    },
    {
     "data": {
      "image/png": "[encoded data removed]",
      "text/plain": [
       "<Figure size 288x288 with 1 Axes>"
      ]
     },
     "metadata": {
      "needs_background": "light"
     },
     "output_type": "display_data"
    },
    {
     "data": {
      "image/png": "[encoded data removed]",
      "text/plain": [
       "<Figure size 288x288 with 1 Axes>"
      ]
     },
     "metadata": {
      "needs_background": "light"
     },
     "output_type": "display_data"
    },
    {
     "data": {
      "image/png": "[encoded data removed]",
      "text/plain": [
       "<Figure size 288x288 with 1 Axes>"
      ]
     },
     "metadata": {
      "needs_background": "light"
     },
     "output_type": "display_data"
    }
   ],
   "source": [
    "digits = load_digits()\n",
    "print(dir(digits))\n",
    "print(digits.data[0])\n",
    "plt.gray()\n",
    "for i in range(3):\n",
    "    plt.matshow(digits.images[i])\n",
    "    print(\"target:\", digits.target[i])\n",
    "print(\"target names:\", digits.target_names)\n",
    "df = pd.DataFrame(digits.data,digits.target)\n",
    "print(df.head())\n",
    "df['target'] = digits.target\n",
    "print(df.head(20))"
   ]
  },
  {
   "cell_type": "code",
   "execution_count": 112,
   "id": "5f61aaa4-34e4-42ce-9949-9eb9b68b7197",
   "metadata": {},
   "outputs": [
    {
     "name": "stdout",
     "output_type": "stream",
     "text": [
      "360\n"
     ]
    }
   ],
   "source": [
    "from sklearn.model_selection import train_test_split\n",
    "import numpy as np\n",
    "np.random.seed(23)\n",
    "x_train, x_test, y_train, y_test = train_test_split(digits.data, digits.target, train_size=0.8)\n",
    "print(len(x_test))"
   ]
  },
  {
   "cell_type": "code",
   "execution_count": 113,
   "id": "6cfe87cb-e23f-4bf4-adb7-4b4d78d6cb7d",
   "metadata": {},
   "outputs": [
    {
     "data": {
      "text/plain": [
       "array([[ 0.,  0.,  0., ...,  7.,  0.,  0.],\n",
       "       [ 0.,  0.,  0., ..., 14.,  1.,  0.],\n",
       "       [ 0.,  0., 12., ...,  0.,  0.,  0.],\n",
       "       ...,\n",
       "       [ 0.,  0.,  2., ...,  3.,  0.,  0.],\n",
       "       [ 0.,  0.,  0., ..., 14.,  2.,  0.],\n",
       "       [ 0.,  0.,  2., ...,  0.,  0.,  0.]])"
      ]
     },
     "execution_count": 113,
     "metadata": {},
     "output_type": "execute_result"
    }
   ],
   "source": [
    "x_test"
   ]
  },
  {
   "cell_type": "code",
   "execution_count": 170,
   "id": "9fd0e9c9-3155-4030-bc00-e56d9e9a10c9",
   "metadata": {},
   "outputs": [
    {
     "data": {
      "text/plain": [
       "1.0"
      ]
     },
     "execution_count": 170,
     "metadata": {},
     "output_type": "execute_result"
    }
   ],
   "source": [
    "from sklearn.svm import SVC\n",
    "lm_model = SVC(kernel=\"linear\")\n",
    "lm_model.fit(x_train, y_train)\n",
    "lm_model.score(x_train, y_train)"
   ]
  },
  {
   "cell_type": "code",
   "execution_count": 155,
   "id": "00b7fc55-d94d-4379-8de6-1701bae84ff8",
   "metadata": {},
   "outputs": [
    {
     "data": {
      "text/plain": [
       "0.9993041057759221"
      ]
     },
     "execution_count": 155,
     "metadata": {},
     "output_type": "execute_result"
    }
   ],
   "source": [
    "poly_model = SVC(kernel=\"poly\")\n",
    "poly_model.fit(x_train, y_train)\n",
    "poly_model.score(x_train, y_train)"
   ]
  },
  {
   "cell_type": "code",
   "execution_count": 156,
   "id": "b1bcd7b8-c35b-4e9f-97f5-68c7a1e527b7",
   "metadata": {},
   "outputs": [
    {
     "data": {
      "text/plain": [
       "0.9965205288796103"
      ]
     },
     "execution_count": 156,
     "metadata": {},
     "output_type": "execute_result"
    }
   ],
   "source": [
    "rbf_model = SVC(kernel=\"rbf\")\n",
    "rbf_model.fit(x_train, y_train)\n",
    "rbf_model.score(x_train, y_train)"
   ]
  },
  {
   "cell_type": "code",
   "execution_count": 157,
   "id": "4c496bf5-eb68-454d-8db2-d2c4a7ec22fc",
   "metadata": {},
   "outputs": [
    {
     "data": {
      "text/plain": [
       "0.9151009046624913"
      ]
     },
     "execution_count": 157,
     "metadata": {},
     "output_type": "execute_result"
    }
   ],
   "source": [
    "sigmoid_model = SVC(kernel=\"sigmoid\")\n",
    "sigmoid_model.fit(x_train, y_train)\n",
    "sigmoid_model.score(x_train, y_train)"
   ]
  },
  {
   "cell_type": "code",
   "execution_count": 160,
   "id": "667f2f77-ccbb-4c16-b372-6e2c3651f0ce",
   "metadata": {},
   "outputs": [],
   "source": [
    "# Precomputed matrix must be a square matrix. Input is a 1437x64 matrix."
   ]
  },
  {
   "cell_type": "code",
   "execution_count": 173,
   "id": "3d62d893-d9cb-4782-8edb-fe109a161c23",
   "metadata": {},
   "outputs": [
    {
     "name": "stdout",
     "output_type": "stream",
     "text": [
      "coef: [[ 0.          0.          0.0002862  ... -0.01641305 -0.0066348\n",
      "  -0.0026374 ]\n",
      " [ 0.         -0.00025697 -0.01640406 ... -0.01992621 -0.02527313\n",
      "  -0.01122714]\n",
      " [ 0.          0.00023982 -0.0059115  ... -0.01455326 -0.00285795\n",
      "  -0.0005439 ]\n",
      " ...\n",
      " [ 0.          0.01535383  0.02149751 ... -0.0471836  -0.01800716\n",
      "   0.        ]\n",
      " [ 0.          0.01161192  0.0392186  ... -0.04518871 -0.00683732\n",
      "  -0.00042733]\n",
      " [ 0.          0.00654906  0.00280349 ... -0.05552618 -0.01360001\n",
      "  -0.00269279]]\n",
      "intercept: [-7.23530281e-01  6.83789032e-01  5.45108024e-01 -5.44093485e-01\n",
      " -5.07613552e-02  3.27491232e-01 -1.50161123e-01  1.98820377e-01\n",
      "  7.04675619e-01  4.03404065e-01  5.40603215e-01 -2.66727999e+00\n",
      "  8.28234204e-01  4.78621213e-01 -8.19045984e-01 -1.51325532e+00\n",
      "  1.31953591e+00 -7.05004938e-01 -9.28995613e-01 -4.43055974e-01\n",
      "  3.29023911e-01 -3.75703380e-02  5.96034268e-01 -3.18035153e-01\n",
      " -3.50169459e-01 -5.12723467e-05 -1.21324550e-01  4.99979139e-01\n",
      "  7.42882377e-01  2.10976603e+00  1.09765320e+00  1.92757210e+00\n",
      "  8.90844965e-01  2.53226485e+00 -3.84064116e-02  7.63137298e-01\n",
      " -1.02048913e+00  1.53859450e+00 -2.46607876e-01 -7.69576599e-01\n",
      " -4.34830969e-02  1.70039229e-02  5.48185657e-01  1.20713113e+00\n",
      "  1.31513721e+00]\n"
     ]
    }
   ],
   "source": [
    "import pickle\n",
    "with open(\"model_pickle\", \"wb\") as f:\n",
    "    pickle.dump(lm_model, f)\n",
    "with open(\"model_pickle\", \"rb\") as f:\n",
    "    mp = pickle.load(f)\n",
    "print(\"coef:\",mp.coef_)\n",
    "print(\"intercept:\",mp.intercept_)"
   ]
  },
  {
   "cell_type": "code",
   "execution_count": 178,
   "id": "db3f0525-d924-40d3-9195-30d36d2f46a6",
   "metadata": {},
   "outputs": [
    {
     "name": "stdout",
     "output_type": "stream",
     "text": [
      "coef: [[ 0.          0.          0.0002862  ... -0.01641305 -0.0066348\n",
      "  -0.0026374 ]\n",
      " [ 0.         -0.00025697 -0.01640406 ... -0.01992621 -0.02527313\n",
      "  -0.01122714]\n",
      " [ 0.          0.00023982 -0.0059115  ... -0.01455326 -0.00285795\n",
      "  -0.0005439 ]\n",
      " ...\n",
      " [ 0.          0.01535383  0.02149751 ... -0.0471836  -0.01800716\n",
      "   0.        ]\n",
      " [ 0.          0.01161192  0.0392186  ... -0.04518871 -0.00683732\n",
      "  -0.00042733]\n",
      " [ 0.          0.00654906  0.00280349 ... -0.05552618 -0.01360001\n",
      "  -0.00269279]]\n",
      "intercept: [-7.23530281e-01  6.83789032e-01  5.45108024e-01 -5.44093485e-01\n",
      " -5.07613552e-02  3.27491232e-01 -1.50161123e-01  1.98820377e-01\n",
      "  7.04675619e-01  4.03404065e-01  5.40603215e-01 -2.66727999e+00\n",
      "  8.28234204e-01  4.78621213e-01 -8.19045984e-01 -1.51325532e+00\n",
      "  1.31953591e+00 -7.05004938e-01 -9.28995613e-01 -4.43055974e-01\n",
      "  3.29023911e-01 -3.75703380e-02  5.96034268e-01 -3.18035153e-01\n",
      " -3.50169459e-01 -5.12723467e-05 -1.21324550e-01  4.99979139e-01\n",
      "  7.42882377e-01  2.10976603e+00  1.09765320e+00  1.92757210e+00\n",
      "  8.90844965e-01  2.53226485e+00 -3.84064116e-02  7.63137298e-01\n",
      " -1.02048913e+00  1.53859450e+00 -2.46607876e-01 -7.69576599e-01\n",
      " -4.34830969e-02  1.70039229e-02  5.48185657e-01  1.20713113e+00\n",
      "  1.31513721e+00]\n"
     ]
    }
   ],
   "source": [
    "import joblib\n",
    "joblib.dump(lm_model, \"model_joblib\")\n",
    "mj = joblib.load(\"model_joblib\")\n",
    "print(\"coef:\",mj.coef_)\n",
    "print(\"intercept:\",mj.intercept_)"
   ]
  }
 ],
 "metadata": {
  "kernelspec": {
   "display_name": "Python 3 (ipykernel)",
   "language": "python",
   "name": "python3"
  },
  "language_info": {
   "codemirror_mode": {
    "name": "ipython",
    "version": 3
   },
   "file_extension": ".py",
   "mimetype": "text/x-python",
   "name": "python",
   "nbconvert_exporter": "python",
   "pygments_lexer": "ipython3",
   "version": "3.9.7"
  }
 },
 "nbformat": 4,
 "nbformat_minor": 5
}
