{
 "cells": [
  {
   "cell_type": "code",
   "execution_count": 230,
   "id": "be9b6dfa-b1e7-4e04-8c63-8944ee60ac65",
   "metadata": {},
   "outputs": [
    {
     "data": {
      "text/plain": [
       "['DESCR', 'data', 'feature_names', 'frame', 'images', 'target', 'target_names']"
      ]
     },
     "execution_count": 230,
     "metadata": {},
     "output_type": "execute_result"
    }
   ],
   "source": [
    "import numpy as np\n",
    "from sklearn.datasets import load_digits\n",
    "from sklearn.linear_model import LinearRegression as LM\n",
    "from sklearn.linear_model import LogisticRegression as LR\n",
    "from sklearn.svm import SVC\n",
    "from sklearn.ensemble import RandomForestClassifier as rf\n",
    "digits = load_digits()\n",
    "dir(digits)"
   ]
  },
  {
   "cell_type": "code",
   "execution_count": 145,
   "id": "7d25deb3-2e9d-4947-8ff1-982106d531b1",
   "metadata": {},
   "outputs": [
    {
     "name": "stdout",
     "output_type": "stream",
     "text": [
      "[ 0.  0.  5. 13.  9.  1.  0.  0.  0.  0. 13. 15. 10. 15.  5.  0.  0.  3.\n",
      " 15.  2.  0. 11.  8.  0.  0.  4. 12.  0.  0.  8.  8.  0.  0.  5.  8.  0.\n",
      "  0.  9.  8.  0.  0.  4. 11.  0.  1. 12.  7.  0.  0.  2. 14.  5. 10. 12.\n",
      "  0.  0.  0.  0.  6. 13. 10.  0.  0.  0.]\n",
      "[[ 0.  0.  5. 13.  9.  1.  0.  0.]\n",
      " [ 0.  0. 13. 15. 10. 15.  5.  0.]\n",
      " [ 0.  3. 15.  2.  0. 11.  8.  0.]\n",
      " [ 0.  4. 12.  0.  0.  8.  8.  0.]\n",
      " [ 0.  5.  8.  0.  0.  9.  8.  0.]\n",
      " [ 0.  4. 11.  0.  1. 12.  7.  0.]\n",
      " [ 0.  2. 14.  5. 10. 12.  0.  0.]\n",
      " [ 0.  0.  6. 13. 10.  0.  0.  0.]]\n",
      "0\n"
     ]
    }
   ],
   "source": [
    "print(digits.data[0])\n",
    "print(digits.images[0])\n",
    "print(digits.target[0])"
   ]
  },
  {
   "cell_type": "code",
   "execution_count": 146,
   "id": "ce2ccbea-3a0c-4cba-b6c1-a5e13813daf2",
   "metadata": {},
   "outputs": [
    {
     "data": {
      "text/plain": [
       "<Figure size 432x288 with 0 Axes>"
      ]
     },
     "metadata": {},
     "output_type": "display_data"
    },
    {
     "data": {
      "image/png": "[encoded data removed]",
      "text/plain": [
       "<Figure size 288x288 with 1 Axes>"
      ]
     },
     "metadata": {
      "needs_background": "light"
     },
     "output_type": "display_data"
    },
    {
     "data": {
      "image/png": "[encoded data removed]",
      "text/plain": [
       "<Figure size 288x288 with 1 Axes>"
      ]
     },
     "metadata": {
      "needs_background": "light"
     },
     "output_type": "display_data"
    },
    {
     "data": {
      "image/png": "[encoded data removed]",
      "text/plain": [
       "<Figure size 288x288 with 1 Axes>"
      ]
     },
     "metadata": {
      "needs_background": "light"
     },
     "output_type": "display_data"
    }
   ],
   "source": [
    "%matplotlib inline\n",
    "import matplotlib.pyplot as plt\n",
    "plt.gray()\n",
    "for i in range(3):\n",
    "    plt.matshow(digits.images[i])"
   ]
  },
  {
   "cell_type": "code",
   "execution_count": 147,
   "id": "acd1b669-f4d9-4a5f-8d74-55d806d7985a",
   "metadata": {},
   "outputs": [
    {
     "name": "stdout",
     "output_type": "stream",
     "text": [
      "450\n",
      "[[ 0.  0.  0. ...  7.  0.  0.]\n",
      " [ 0.  0.  0. ... 14.  1.  0.]\n",
      " [ 0.  0. 12. ...  0.  0.  0.]\n",
      " ...\n",
      " [ 0.  1. 14. ...  0.  0.  0.]\n",
      " [ 0.  0. 10. ... 11.  2.  0.]\n",
      " [ 0.  0. 12. ... 15.  6.  0.]]\n"
     ]
    }
   ],
   "source": [
    "from sklearn.model_selection import train_test_split\n",
    "x_train, x_test, y_train, y_test = train_test_split(digits.data, digits.target, train_size=0.75, random_state=23)\n",
    "print(len(x_test))\n",
    "print(x_test)"
   ]
  },
  {
   "cell_type": "markdown",
   "id": "0eecc06f-9d5b-472e-9a92-6c3664a81fcd",
   "metadata": {},
   "source": [
    "### Logistic Regression"
   ]
  },
  {
   "cell_type": "code",
   "execution_count": 148,
   "id": "5ea4f67f-237a-4e38-8079-4a284959220e",
   "metadata": {},
   "outputs": [
    {
     "data": {
      "text/plain": [
       "0.9511111111111111"
      ]
     },
     "execution_count": 148,
     "metadata": {},
     "output_type": "execute_result"
    }
   ],
   "source": [
    "lr = LR(solver=\"liblinear\", multi_class=\"ovr\")\n",
    "lr.fit(x_train, y_train)\n",
    "lr.score(x_test, y_test)"
   ]
  },
  {
   "cell_type": "markdown",
   "id": "9dffca2e-a45f-4cd2-b631-7342146536a6",
   "metadata": {},
   "source": [
    "### Suppport Vector Machine"
   ]
  },
  {
   "cell_type": "code",
   "execution_count": 149,
   "id": "749d7d7a-4fed-47a5-a0e6-1c3203f94e4e",
   "metadata": {},
   "outputs": [
    {
     "data": {
      "text/plain": [
       "0.9911111111111112"
      ]
     },
     "execution_count": 149,
     "metadata": {},
     "output_type": "execute_result"
    }
   ],
   "source": [
    "svm = SVC()\n",
    "svm.fit(x_train, y_train)\n",
    "svm.score(x_test, y_test)"
   ]
  },
  {
   "cell_type": "markdown",
   "id": "ce114f0e-1458-4206-882d-0cbbf6623908",
   "metadata": {},
   "source": [
    "### RandomForest"
   ]
  },
  {
   "cell_type": "code",
   "execution_count": 234,
   "id": "5a5c31c2-3ab5-4d3d-8e38-5c7fd0c1a263",
   "metadata": {},
   "outputs": [
    {
     "data": {
      "text/plain": [
       "0.9491525423728814"
      ]
     },
     "execution_count": 234,
     "metadata": {},
     "output_type": "execute_result"
    }
   ],
   "source": [
    "rfc = rf(n_estimators=4000)\n",
    "rfc.fit(x_train, y_train)\n",
    "rfc.score(x_test, y_test)"
   ]
  },
  {
   "cell_type": "markdown",
   "id": "2ee5e6e6-fbd3-49e3-9483-d9417999476b",
   "metadata": {},
   "source": [
    "### K-fold"
   ]
  },
  {
   "cell_type": "code",
   "execution_count": 238,
   "id": "14966823-6def-4332-970c-7ef2f892da9a",
   "metadata": {},
   "outputs": [
    {
     "data": {
      "text/plain": [
       "KFold(n_splits=3, random_state=23, shuffle=True)"
      ]
     },
     "execution_count": 238,
     "metadata": {},
     "output_type": "execute_result"
    }
   ],
   "source": [
    "#################################################################################################################################################\n",
    "from sklearn.model_selection import KFold\n",
    "import random\n",
    "kf = KFold(n_splits=3, random_state=23, shuffle=True)\n",
    "kf"
   ]
  },
  {
   "cell_type": "code",
   "execution_count": 239,
   "id": "a199b5d3-1038-48e6-9552-4f21c1d7d2b8",
   "metadata": {},
   "outputs": [
    {
     "data": {
      "text/plain": [
       "3"
      ]
     },
     "execution_count": 239,
     "metadata": {},
     "output_type": "execute_result"
    }
   ],
   "source": [
    "random.randint(0, 10)"
   ]
  },
  {
   "cell_type": "code",
   "execution_count": 240,
   "id": "04ca51e0-7040-4d5b-9ea8-a181c8584887",
   "metadata": {},
   "outputs": [
    {
     "name": "stdout",
     "output_type": "stream",
     "text": [
      "[0 1 3 6 7 8] [2 4 5]\n",
      "[0 2 3 4 5 6] [1 7 8]\n",
      "[1 2 4 5 7 8] [0 3 6]\n"
     ]
    }
   ],
   "source": [
    "for train_index, test_index in kf.split([1,2,3,4,5,6,7,8,9]):\n",
    "    print(train_index, test_index)"
   ]
  },
  {
   "cell_type": "code",
   "execution_count": 157,
   "id": "2d7077f3-9867-466e-87f7-98d44b767d73",
   "metadata": {},
   "outputs": [],
   "source": [
    "def get_score(model):#, x_train, x_test, y_train, y_test):\n",
    "    model.fit(x_train, y_train)\n",
    "    return model.score(x_test, y_test)"
   ]
  },
  {
   "cell_type": "code",
   "execution_count": 159,
   "id": "fd0dddcd-c7fc-4a8a-8473-c4e3cb0d1e98",
   "metadata": {},
   "outputs": [
    {
     "name": "stdout",
     "output_type": "stream",
     "text": [
      "0.9632721202003339\n",
      "0.986644407345576\n",
      "0.9716193656093489\n"
     ]
    }
   ],
   "source": [
    "print(get_score(lr))#, x_train, x_test, y_train, y_test))\n",
    "print(get_score(svm))#, x_train, x_test, y_train, y_test))\n",
    "print(get_score(rfc))#, x_train, x_test, y_train, y_test))"
   ]
  },
  {
   "cell_type": "code",
   "execution_count": 222,
   "id": "c3d8a3b2-3744-4c96-aa84-f92ffd0c82fc",
   "metadata": {},
   "outputs": [
    {
     "name": "stdout",
     "output_type": "stream",
     "text": [
      "lr_kf: 0.96 \n",
      "svm_kf: 0.99 \n",
      "rfc_kf: 0.98\n"
     ]
    }
   ],
   "source": [
    "scores_lr_kf = []\n",
    "scores_svm_kf = []\n",
    "scores_rfc_kf = []\n",
    "for train_index, test_index in kf.split(digits.data):\n",
    "    x_train, x_test, y_train, y_test = digits.data[train_index], digits.data[test_index], \\\n",
    "                                        digits.target[train_index], digits.target[test_index]\n",
    "    scores_lr_kf.append(get_score(lr))#, x_train, x_test, y_train, y_test))\n",
    "    scores_svm_kf.append(get_score(svm))#, x_train, x_test, y_train, y_test))\n",
    "    scores_rfc_kf.append(get_score(rfc))#, x_train, x_test, y_train, y_test))\n",
    "print(\"lr_kf:\", round(sum(scores_lr_kf)/len(scores_lr_kf),2), \n",
    "      \"\\nsvm_kf:\", round(sum(scores_svm_kf)/len(scores_svm_kf),2), \n",
    "      \"\\nrfc_kf:\", round(sum(scores_rfc_kf)/len(scores_rfc_kf),2))"
   ]
  },
  {
   "cell_type": "markdown",
   "id": "02f9a2ea-1c3d-4cdc-aed7-10172c122159",
   "metadata": {},
   "source": [
    "### Stratified-fold"
   ]
  },
  {
   "cell_type": "code",
   "execution_count": 223,
   "id": "e6b32e96-1589-4800-8a17-3cbf7fbc187a",
   "metadata": {},
   "outputs": [
    {
     "data": {
      "text/plain": [
       "StratifiedKFold(n_splits=30, random_state=23, shuffle=True)"
      ]
     },
     "execution_count": 223,
     "metadata": {},
     "output_type": "execute_result"
    }
   ],
   "source": [
    "#################################################################################################################################################\n",
    "from sklearn.model_selection import StratifiedKFold\n",
    "folds = StratifiedKFold(n_splits=3, random_state=23, shuffle=True)\n",
    "folds"
   ]
  },
  {
   "cell_type": "code",
   "execution_count": 224,
   "id": "1b82d3ff-5e67-4450-a168-c764b92e7a1c",
   "metadata": {},
   "outputs": [
    {
     "name": "stdout",
     "output_type": "stream",
     "text": [
      "lr_folds: 0.97 \n",
      "svm_folds: 0.99 \n",
      "rfc_folds: 0.98\n"
     ]
    }
   ],
   "source": [
    "scores_lr_folds = []\n",
    "scores_svm_folds = []\n",
    "scores_rfc_folds = []\n",
    "for train_index, test_index in folds.split(digits.data, digits.target):\n",
    "    x_train, x_test, y_train, y_test = digits.data[train_index], digits.data[test_index], \\\n",
    "                                        digits.target[train_index], digits.target[test_index]\n",
    "    scores_lr_folds.append(get_score(lr))#, x_train, x_test, y_train, y_test))\n",
    "    scores_svm_folds.append(get_score(svm))#, x_train, x_test, y_train, y_test))\n",
    "    scores_rfc_folds.append(get_score(rfc))#, x_train, x_test, y_train, y_test))\n",
    "print(\"lr_folds:\", round(sum(scores_lr_folds)/len(scores_lr_folds),2), \n",
    "      \"\\nsvm_folds:\", round(sum(scores_svm_folds)/len(scores_svm_folds),2), \n",
    "      \"\\nrfc_folds:\", round(sum(scores_rfc_folds)/len(scores_rfc_folds),2))"
   ]
  },
  {
   "cell_type": "code",
   "execution_count": 241,
   "id": "ae9113fc-68f1-49ce-bba3-66d11010caab",
   "metadata": {},
   "outputs": [
    {
     "data": {
      "text/plain": [
       "array([0.93333333, 0.91388889, 0.95543175, 0.9637883 , 0.9275766 ])"
      ]
     },
     "execution_count": 241,
     "metadata": {},
     "output_type": "execute_result"
    }
   ],
   "source": [
    "from sklearn.model_selection import cross_val_score\n",
    "cross_val_score(lr, digits.data, digits.target)\n",
    "cross_val_score(svm, digits.data, digits.target)\n",
    "cross_val_score(rfc, digits.data, digits.target)"
   ]
  },
  {
   "cell_type": "markdown",
   "id": "9e1cf49b-0db9-48b0-9b61-1083efafa265",
   "metadata": {},
   "source": [
    "## asgn12"
   ]
  },
  {
   "cell_type": "code",
   "execution_count": 9,
   "id": "e60644e6-f339-4216-893c-5b5ad59dd4b2",
   "metadata": {},
   "outputs": [],
   "source": [
    "from sklearn.datasets import load_iris\n",
    "from sklearn.linear_model import LogisticRegression as LR\n",
    "from sklearn.svm import SVC\n",
    "from sklearn.ensemble import RandomForestClassifier as rf"
   ]
  },
  {
   "cell_type": "code",
   "execution_count": 10,
   "id": "85e60467-6084-4689-9cfc-4f062c40186f",
   "metadata": {},
   "outputs": [
    {
     "data": {
      "text/plain": [
       "['DESCR',\n",
       " 'data',\n",
       " 'feature_names',\n",
       " 'filename',\n",
       " 'frame',\n",
       " 'target',\n",
       " 'target_names']"
      ]
     },
     "execution_count": 10,
     "metadata": {},
     "output_type": "execute_result"
    }
   ],
   "source": [
    "iris = load_iris()\n",
    "dir(iris)"
   ]
  },
  {
   "cell_type": "markdown",
   "id": "31560404-5947-4494-85d7-0c7f4d6f3181",
   "metadata": {},
   "source": [
    "### trian_test_split"
   ]
  },
  {
   "cell_type": "code",
   "execution_count": 11,
   "id": "4bcda670-c5b4-44dd-a06b-6124c4ec9158",
   "metadata": {},
   "outputs": [
    {
     "name": "stdout",
     "output_type": "stream",
     "text": [
      "38\n",
      "[[6.9 3.1 5.4 2.1]\n",
      " [7.2 3.2 6.  1.8]\n",
      " [5.8 2.7 4.1 1. ]\n",
      " [4.6 3.1 1.5 0.2]\n",
      " [5.7 2.5 5.  2. ]\n",
      " [6.9 3.1 4.9 1.5]\n",
      " [5.7 3.8 1.7 0.3]\n",
      " [6.4 3.1 5.5 1.8]\n",
      " [5.4 3.4 1.7 0.2]\n",
      " [5.6 2.9 3.6 1.3]\n",
      " [6.1 2.8 4.7 1.2]\n",
      " [4.8 3.1 1.6 0.2]\n",
      " [7.1 3.  5.9 2.1]\n",
      " [5.1 3.8 1.5 0.3]\n",
      " [5.4 3.7 1.5 0.2]\n",
      " [6.3 2.8 5.1 1.5]\n",
      " [6.4 3.2 4.5 1.5]\n",
      " [6.1 2.9 4.7 1.4]\n",
      " [7.7 3.  6.1 2.3]\n",
      " [5.2 3.4 1.4 0.2]\n",
      " [6.4 3.2 5.3 2.3]\n",
      " [4.8 3.  1.4 0.3]\n",
      " [5.1 3.8 1.6 0.2]\n",
      " [4.7 3.2 1.3 0.2]\n",
      " [6.7 3.1 5.6 2.4]\n",
      " [5.1 3.5 1.4 0.3]\n",
      " [5.1 3.8 1.9 0.4]\n",
      " [6.2 2.8 4.8 1.8]\n",
      " [6.6 3.  4.4 1.4]\n",
      " [5.6 2.5 3.9 1.1]\n",
      " [4.9 3.1 1.5 0.1]\n",
      " [5.2 2.7 3.9 1.4]\n",
      " [5.4 3.9 1.3 0.4]\n",
      " [7.7 2.8 6.7 2. ]\n",
      " [5.  3.4 1.5 0.2]\n",
      " [5.4 3.9 1.7 0.4]\n",
      " [6.5 2.8 4.6 1.5]\n",
      " [5.  2.3 3.3 1. ]]\n"
     ]
    }
   ],
   "source": [
    "from sklearn.model_selection import train_test_split\n",
    "x_train, x_test, y_train, y_test = train_test_split(iris.data, iris.target, train_size=0.75, random_state=23)\n",
    "print(len(x_test))\n",
    "print(x_test)"
   ]
  },
  {
   "cell_type": "markdown",
   "id": "4a0c956c-f228-4566-8a67-cd5c1bfffc4e",
   "metadata": {},
   "source": [
    "#### Logistic Regression"
   ]
  },
  {
   "cell_type": "code",
   "execution_count": 12,
   "id": "74754b34-7cfb-40e8-a26b-3802aecd2529",
   "metadata": {},
   "outputs": [
    {
     "data": {
      "text/plain": [
       "1.0"
      ]
     },
     "execution_count": 12,
     "metadata": {},
     "output_type": "execute_result"
    }
   ],
   "source": [
    "lr = LR(solver=\"liblinear\", multi_class=\"ovr\")\n",
    "lr.fit(x_train, y_train)\n",
    "lr.score(x_test, y_test)"
   ]
  },
  {
   "cell_type": "markdown",
   "id": "164f9607-50c9-4476-9cde-6170a6c184c6",
   "metadata": {},
   "source": [
    "#### SVM"
   ]
  },
  {
   "cell_type": "code",
   "execution_count": 13,
   "id": "f1110f1a-7802-4ad0-87d5-c431612e04c8",
   "metadata": {},
   "outputs": [
    {
     "data": {
      "text/plain": [
       "1.0"
      ]
     },
     "execution_count": 13,
     "metadata": {},
     "output_type": "execute_result"
    }
   ],
   "source": [
    "svm = SVC()\n",
    "svm.fit(x_train, y_train)\n",
    "svm.score(x_test, y_test)"
   ]
  },
  {
   "cell_type": "markdown",
   "id": "4f9be467-6681-4996-94cf-ae6fce1ff3fb",
   "metadata": {},
   "source": [
    "#### Random Forest"
   ]
  },
  {
   "cell_type": "code",
   "execution_count": 14,
   "id": "95b8c85a-53d3-4b90-bdba-9ab0ccfc898f",
   "metadata": {},
   "outputs": [
    {
     "data": {
      "text/plain": [
       "0.9736842105263158"
      ]
     },
     "execution_count": 14,
     "metadata": {},
     "output_type": "execute_result"
    }
   ],
   "source": [
    "rfc = rf()\n",
    "rfc.fit(x_train, y_train)\n",
    "rfc.score(x_test, y_test)"
   ]
  },
  {
   "cell_type": "markdown",
   "id": "71a4ecf9-4dda-4b2c-ab7e-04d7be5f9afe",
   "metadata": {
    "tags": []
   },
   "source": [
    "### CV"
   ]
  },
  {
   "cell_type": "code",
   "execution_count": 16,
   "id": "a16e09e4-d025-4d2f-ae46-ee6011d6945f",
   "metadata": {},
   "outputs": [
    {
     "name": "stdout",
     "output_type": "stream",
     "text": [
      "lr: 0.9600000000000002 \n",
      "svm: 0.9666666666666666 \n",
      "rfc: 0.96\n"
     ]
    }
   ],
   "source": [
    "import numpy as np\n",
    "from sklearn.model_selection import cross_val_score\n",
    "lr_scores = cross_val_score(LR(solver=\"liblinear\", multi_class=\"ovr\"), iris.data, iris.target)\n",
    "svm_scores = cross_val_score(SVC(), iris.data, iris.target)\n",
    "rfc_scores = cross_val_score(rf(n_estimators=40), iris.data, iris.target)\n",
    "print(\"lr:\", np.average(lr_scores), \"\\nsvm:\", np.average(svm_scores), \"\\nrfc:\", np.average(rfc_scores))"
   ]
  },
  {
   "cell_type": "code",
   "execution_count": 20,
   "id": "28e9b93f-3c1d-4b3b-8fbb-64b6429b9deb",
   "metadata": {},
   "outputs": [
    {
     "name": "stdout",
     "output_type": "stream",
     "text": [
      "lr_folds: 0.95 \n",
      "svm_folds: 0.96 \n",
      "rfc_folds: 0.95\n"
     ]
    }
   ],
   "source": [
    "#################################################################################################################################################\n",
    "from sklearn.model_selection import StratifiedKFold\n",
    "folds = StratifiedKFold(n_splits=3, random_state=23, shuffle=True)\n",
    "folds\n",
    "def get_score(model):#, x_train, x_test, y_train, y_test):\n",
    "    model.fit(x_train, y_train)\n",
    "    return model.score(x_test, y_test)\n",
    "scores_lr_folds = []\n",
    "scores_svm_folds = []\n",
    "scores_rfc_folds = []\n",
    "for train_index, test_index in folds.split(iris.data, iris.target):\n",
    "    x_train, x_test, y_train, y_test = iris.data[train_index], iris.data[test_index], \\\n",
    "                                        iris.target[train_index], iris.target[test_index]\n",
    "    scores_lr_folds.append(get_score(lr))#, x_train, x_test, y_train, y_test))\n",
    "    scores_svm_folds.append(get_score(svm))#, x_train, x_test, y_train, y_test))\n",
    "    scores_rfc_folds.append(get_score(rfc))#, x_train, x_test, y_train, y_test))\n",
    "print(\"lr_folds:\", round(sum(scores_lr_folds)/len(scores_lr_folds),2), \n",
    "      \"\\nsvm_folds:\", round(sum(scores_svm_folds)/len(scores_svm_folds),2), \n",
    "      \"\\nrfc_folds:\", round(sum(scores_rfc_folds)/len(scores_rfc_folds),2))"
   ]
  }
 ],
 "metadata": {
  "kernelspec": {
   "display_name": "Python 3 (ipykernel)",
   "language": "python",
   "name": "python3"
  },
  "language_info": {
   "codemirror_mode": {
    "name": "ipython",
    "version": 3
   },
   "file_extension": ".py",
   "mimetype": "text/x-python",
   "name": "python",
   "nbconvert_exporter": "python",
   "pygments_lexer": "ipython3",
   "version": "3.9.7"
  }
 },
 "nbformat": 4,
 "nbformat_minor": 5
}
