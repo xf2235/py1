{
 "cells": [
  {
   "cell_type": "markdown",
   "id": "04074394-d8a3-4ff6-9341-4cf9e46e63c3",
   "metadata": {},
   "source": [
    "# Dummy Variables & One Hot Encoding"
   ]
  },
  {
   "cell_type": "markdown",
   "id": "f9153a36-e8d2-4730-b80b-a72625eb3efc",
   "metadata": {},
   "source": [
    "## ie6"
   ]
  },
  {
   "cell_type": "markdown",
   "id": "6f526eed-28b0-4db9-8925-ffa7f814e88b",
   "metadata": {},
   "source": [
    "### Using pandas to create dummy variables"
   ]
  },
  {
   "cell_type": "code",
   "execution_count": 40,
   "id": "1a9a78d7-ce22-41f2-8ba8-8c9ddecb26fa",
   "metadata": {},
   "outputs": [
    {
     "name": "stdout",
     "output_type": "stream",
     "text": [
      "               town  area   price\n",
      "0   monroe township  2600  550000\n",
      "1   monroe township  3000  565000\n",
      "2   monroe township  3200  610000\n",
      "3   monroe township  3600  680000\n",
      "4   monroe township  4000  725000\n",
      "5      west windsor  2600  585000\n",
      "6      west windsor  2800  615000\n",
      "7      west windsor  3300  650000\n",
      "8      west windsor  3600  710000\n",
      "9       robinsville  2600  575000\n",
      "10      robinsville  2900  600000\n",
      "11      robinsville  3100  620000\n",
      "12      robinsville  3600  695000\n",
      "town     object\n",
      "area      int64\n",
      "price     int64\n",
      "dtype: object\n",
      "    monroe township  robinsville  west windsor\n",
      "0                 1            0             0\n",
      "1                 1            0             0\n",
      "2                 1            0             0\n",
      "3                 1            0             0\n",
      "4                 1            0             0\n",
      "5                 0            0             1\n",
      "6                 0            0             1\n",
      "7                 0            0             1\n",
      "8                 0            0             1\n",
      "9                 0            1             0\n",
      "10                0            1             0\n",
      "11                0            1             0\n",
      "12                0            1             0\n",
      "               town  area   price  monroe township  robinsville  west windsor\n",
      "0   monroe township  2600  550000                1            0             0\n",
      "1   monroe township  3000  565000                1            0             0\n",
      "2   monroe township  3200  610000                1            0             0\n",
      "3   monroe township  3600  680000                1            0             0\n",
      "4   monroe township  4000  725000                1            0             0\n",
      "5      west windsor  2600  585000                0            0             1\n",
      "6      west windsor  2800  615000                0            0             1\n",
      "7      west windsor  3300  650000                0            0             1\n",
      "8      west windsor  3600  710000                0            0             1\n",
      "9       robinsville  2600  575000                0            1             0\n",
      "10      robinsville  2900  600000                0            1             0\n",
      "11      robinsville  3100  620000                0            1             0\n",
      "12      robinsville  3600  695000                0            1             0\n",
      "    area   price  monroe township  robinsville\n",
      "0   2600  550000                1            0\n",
      "1   3000  565000                1            0\n",
      "2   3200  610000                1            0\n",
      "3   3600  680000                1            0\n",
      "4   4000  725000                1            0\n",
      "5   2600  585000                0            0\n",
      "6   2800  615000                0            0\n",
      "7   3300  650000                0            0\n",
      "8   3600  710000                0            0\n",
      "9   2600  575000                0            1\n",
      "10  2900  600000                0            1\n",
      "11  3100  620000                0            1\n",
      "12  3600  695000                0            1\n"
     ]
    }
   ],
   "source": [
    "import pandas as pd\n",
    "tp = pd.read_csv(\"townprices.csv\")\n",
    "print(tp)\n",
    "print(tp.dtypes)\n",
    "dummies = pd.get_dummies(tp.town)\n",
    "print(dummies)\n",
    "merged = pd.concat([tp,dummies], axis=\"columns\")\n",
    "print(merged)\n",
    "final = merged.drop([\"town\", \"west windsor\"], axis=\"columns\")\n",
    "print(final)"
   ]
  },
  {
   "cell_type": "markdown",
   "id": "6d0110b1-53e8-4532-b4ab-a5dca46b3e81",
   "metadata": {},
   "source": [
    "### Dummy Variable Trap"
   ]
  },
  {
   "cell_type": "code",
   "execution_count": 2,
   "id": "eeff09db-45e5-4ab1-bb11-462ef454e74d",
   "metadata": {},
   "outputs": [
    {
     "name": "stdout",
     "output_type": "stream",
     "text": [
      "    area  monroe township  robinsville\n",
      "0   2600                1            0\n",
      "1   3000                1            0\n",
      "2   3200                1            0\n",
      "3   3600                1            0\n",
      "4   4000                1            0\n",
      "5   2600                0            0\n",
      "6   2800                0            0\n",
      "7   3300                0            0\n",
      "8   3600                0            0\n",
      "9   2600                0            1\n",
      "10  2900                0            1\n",
      "11  3100                0            1\n",
      "12  3600                0            1\n",
      "0     550000\n",
      "1     565000\n",
      "2     610000\n",
      "3     680000\n",
      "4     725000\n",
      "5     585000\n",
      "6     615000\n",
      "7     650000\n",
      "8     710000\n",
      "9     575000\n",
      "10    600000\n",
      "11    620000\n",
      "12    695000\n",
      "Name: price, dtype: int64\n"
     ]
    }
   ],
   "source": [
    "x = final.drop([\"price\"], axis=\"columns\")\n",
    "print(x)\n",
    "y = final.price\n",
    "print(y)"
   ]
  },
  {
   "cell_type": "code",
   "execution_count": 3,
   "id": "74670d31-d501-46e1-9fca-c439325a2108",
   "metadata": {},
   "outputs": [
    {
     "name": "stdout",
     "output_type": "stream",
     "text": [
      "[   126.89744141 -40013.97548914 -14327.56396474]\n",
      "249790.36766292521\n",
      "[590775.63964739]\n",
      "[681241.66845839]\n",
      "0.9573929037221871\n"
     ]
    }
   ],
   "source": [
    "from sklearn.linear_model import LinearRegression\n",
    "model = LinearRegression()\n",
    "# train lm model\n",
    "model.fit(x, y)\n",
    "print(model.coef_)\n",
    "print(model.intercept_)\n",
    "print(model.predict([[2800,0,1]]))\n",
    "print(model.predict([[3400,0,0]]))\n",
    "# test lm model\n",
    "print(model.score(x,y))"
   ]
  },
  {
   "cell_type": "code",
   "execution_count": 4,
   "id": "0cf6952a-2966-4efd-bc2c-72535dac8660",
   "metadata": {},
   "outputs": [
    {
     "name": "stdout",
     "output_type": "stream",
     "text": [
      "[   126.89744141 -40013.97548914 -14327.56396474]\n",
      "249790.36766292521\n",
      "[   126.89744141 -40013.97548914 -14327.56396474]\n",
      "249790.36766292521\n"
     ]
    }
   ],
   "source": [
    "# store lm model with pickle\n",
    "import pickle\n",
    "with open(\"model_pickle\", \"wb\") as f:\n",
    "    pickle.dump(model, f)\n",
    "# reuse lm model with pickle\n",
    "with open(\"model_pickle\", \"rb\") as f:\n",
    "    mp = pickle.load(f)\n",
    "print(mp.coef_)\n",
    "print(mp.intercept_)\n",
    "# store lm model with joblib\n",
    "import joblib # for large numpy\n",
    "joblib.dump(model, \"model_joblib\")\n",
    "# reuse lm model with joblib\n",
    "mj = joblib.load(\"model_joblib\")\n",
    "print(mj.coef_)\n",
    "print(mj.intercept_)"
   ]
  },
  {
   "cell_type": "markdown",
   "id": "cfd9ead0-e72f-4835-ac3e-8de4ebb1564b",
   "metadata": {},
   "source": [
    "### Using sklearn OneHotEncoder"
   ]
  },
  {
   "cell_type": "code",
   "execution_count": 2,
   "id": "90838584-f085-48c7-bbb5-356c1dabdba9",
   "metadata": {},
   "outputs": [
    {
     "name": "stdout",
     "output_type": "stream",
     "text": [
      "               town  area   price\n",
      "0   monroe township  2600  550000\n",
      "1   monroe township  3000  565000\n",
      "2   monroe township  3200  610000\n",
      "3   monroe township  3600  680000\n",
      "4   monroe township  4000  725000\n",
      "5      west windsor  2600  585000\n",
      "6      west windsor  2800  615000\n",
      "7      west windsor  3300  650000\n",
      "8      west windsor  3600  710000\n",
      "9       robinsville  2600  575000\n",
      "10      robinsville  2900  600000\n",
      "11      robinsville  3100  620000\n",
      "12      robinsville  3600  695000\n",
      "LabelEncoder()\n"
     ]
    }
   ],
   "source": [
    "print(tp)\n",
    "from sklearn.preprocessing import LabelEncoder\n",
    "le = LabelEncoder()"
   ]
  },
  {
   "cell_type": "code",
   "execution_count": 109,
   "id": "1b8309e2-db8b-46bc-93d5-c18b3b635a41",
   "metadata": {},
   "outputs": [
    {
     "data": {
      "text/html": [
       "<div>\n",
       "<style scoped>\n",
       "    .dataframe tbody tr th:only-of-type {\n",
       "        vertical-align: middle;\n",
       "    }\n",
       "\n",
       "    .dataframe tbody tr th {\n",
       "        vertical-align: top;\n",
       "    }\n",
       "\n",
       "    .dataframe thead th {\n",
       "        text-align: right;\n",
       "    }\n",
       "</style>\n",
       "<table border=\"1\" class=\"dataframe\">\n",
       "  <thead>\n",
       "    <tr style=\"text-align: right;\">\n",
       "      <th></th>\n",
       "      <th>town</th>\n",
       "      <th>area</th>\n",
       "      <th>price</th>\n",
       "    </tr>\n",
       "  </thead>\n",
       "  <tbody>\n",
       "    <tr>\n",
       "      <th>0</th>\n",
       "      <td>0</td>\n",
       "      <td>2600</td>\n",
       "      <td>550000</td>\n",
       "    </tr>\n",
       "    <tr>\n",
       "      <th>1</th>\n",
       "      <td>0</td>\n",
       "      <td>3000</td>\n",
       "      <td>565000</td>\n",
       "    </tr>\n",
       "    <tr>\n",
       "      <th>2</th>\n",
       "      <td>0</td>\n",
       "      <td>3200</td>\n",
       "      <td>610000</td>\n",
       "    </tr>\n",
       "    <tr>\n",
       "      <th>3</th>\n",
       "      <td>0</td>\n",
       "      <td>3600</td>\n",
       "      <td>680000</td>\n",
       "    </tr>\n",
       "    <tr>\n",
       "      <th>4</th>\n",
       "      <td>0</td>\n",
       "      <td>4000</td>\n",
       "      <td>725000</td>\n",
       "    </tr>\n",
       "    <tr>\n",
       "      <th>5</th>\n",
       "      <td>2</td>\n",
       "      <td>2600</td>\n",
       "      <td>585000</td>\n",
       "    </tr>\n",
       "    <tr>\n",
       "      <th>6</th>\n",
       "      <td>2</td>\n",
       "      <td>2800</td>\n",
       "      <td>615000</td>\n",
       "    </tr>\n",
       "    <tr>\n",
       "      <th>7</th>\n",
       "      <td>2</td>\n",
       "      <td>3300</td>\n",
       "      <td>650000</td>\n",
       "    </tr>\n",
       "    <tr>\n",
       "      <th>8</th>\n",
       "      <td>2</td>\n",
       "      <td>3600</td>\n",
       "      <td>710000</td>\n",
       "    </tr>\n",
       "    <tr>\n",
       "      <th>9</th>\n",
       "      <td>1</td>\n",
       "      <td>2600</td>\n",
       "      <td>575000</td>\n",
       "    </tr>\n",
       "    <tr>\n",
       "      <th>10</th>\n",
       "      <td>1</td>\n",
       "      <td>2900</td>\n",
       "      <td>600000</td>\n",
       "    </tr>\n",
       "    <tr>\n",
       "      <th>11</th>\n",
       "      <td>1</td>\n",
       "      <td>3100</td>\n",
       "      <td>620000</td>\n",
       "    </tr>\n",
       "    <tr>\n",
       "      <th>12</th>\n",
       "      <td>1</td>\n",
       "      <td>3600</td>\n",
       "      <td>695000</td>\n",
       "    </tr>\n",
       "  </tbody>\n",
       "</table>\n",
       "</div>"
      ],
      "text/plain": [
       "    town  area   price\n",
       "0      0  2600  550000\n",
       "1      0  3000  565000\n",
       "2      0  3200  610000\n",
       "3      0  3600  680000\n",
       "4      0  4000  725000\n",
       "5      2  2600  585000\n",
       "6      2  2800  615000\n",
       "7      2  3300  650000\n",
       "8      2  3600  710000\n",
       "9      1  2600  575000\n",
       "10     1  2900  600000\n",
       "11     1  3100  620000\n",
       "12     1  3600  695000"
      ]
     },
     "execution_count": 109,
     "metadata": {},
     "output_type": "execute_result"
    }
   ],
   "source": [
    "dfle = tp\n",
    "dfle.town = le.fit_transform(dfle.town) \n",
    "dfle"
   ]
  },
  {
   "cell_type": "code",
   "execution_count": 112,
   "id": "05d3e59f-2990-4ee4-8386-440f454a6890",
   "metadata": {},
   "outputs": [
    {
     "name": "stdout",
     "output_type": "stream",
     "text": [
      "    town  area\n",
      "0      0  2600\n",
      "1      0  3000\n",
      "2      0  3200\n",
      "3      0  3600\n",
      "4      0  4000\n",
      "5      2  2600\n",
      "6      2  2800\n",
      "7      2  3300\n",
      "8      2  3600\n",
      "9      1  2600\n",
      "10     1  2900\n",
      "11     1  3100\n",
      "12     1  3600\n",
      "0     550000\n",
      "1     565000\n",
      "2     610000\n",
      "3     680000\n",
      "4     725000\n",
      "5     585000\n",
      "6     615000\n",
      "7     650000\n",
      "8     710000\n",
      "9     575000\n",
      "10    600000\n",
      "11    620000\n",
      "12    695000\n",
      "Name: price, dtype: int64\n"
     ]
    }
   ],
   "source": [
    "x = dfle[[\"town\", \"area\"]] # x = dfle[[\"town\", \"area\"]].values # array\n",
    "print(x)\n",
    "y = dfle.price\n",
    "print(y)"
   ]
  },
  {
   "cell_type": "code",
   "execution_count": 13,
   "id": "b69fbb71-b918-4dbc-ab55-ed0d583616f2",
   "metadata": {},
   "outputs": [
    {
     "name": "stdout",
     "output_type": "stream",
     "text": [
      "[[1.0e+00 0.0e+00 0.0e+00 2.6e+03]\n",
      " [1.0e+00 0.0e+00 0.0e+00 3.0e+03]\n",
      " [1.0e+00 0.0e+00 0.0e+00 3.2e+03]\n",
      " [1.0e+00 0.0e+00 0.0e+00 3.6e+03]\n",
      " [1.0e+00 0.0e+00 0.0e+00 4.0e+03]\n",
      " [1.0e+00 0.0e+00 1.0e+00 2.6e+03]\n",
      " [1.0e+00 0.0e+00 1.0e+00 2.8e+03]\n",
      " [1.0e+00 0.0e+00 1.0e+00 3.3e+03]\n",
      " [1.0e+00 0.0e+00 1.0e+00 3.6e+03]\n",
      " [0.0e+00 1.0e+00 0.0e+00 2.6e+03]\n",
      " [0.0e+00 1.0e+00 0.0e+00 2.9e+03]\n",
      " [0.0e+00 1.0e+00 0.0e+00 3.1e+03]\n",
      " [0.0e+00 1.0e+00 0.0e+00 3.6e+03]]\n",
      "[[0.0e+00 0.0e+00 2.6e+03]\n",
      " [0.0e+00 0.0e+00 3.0e+03]\n",
      " [0.0e+00 0.0e+00 3.2e+03]\n",
      " [0.0e+00 0.0e+00 3.6e+03]\n",
      " [0.0e+00 0.0e+00 4.0e+03]\n",
      " [0.0e+00 1.0e+00 2.6e+03]\n",
      " [0.0e+00 1.0e+00 2.8e+03]\n",
      " [0.0e+00 1.0e+00 3.3e+03]\n",
      " [0.0e+00 1.0e+00 3.6e+03]\n",
      " [1.0e+00 0.0e+00 2.6e+03]\n",
      " [1.0e+00 0.0e+00 2.9e+03]\n",
      " [1.0e+00 0.0e+00 3.1e+03]\n",
      " [1.0e+00 0.0e+00 3.6e+03]]\n"
     ]
    }
   ],
   "source": [
    "from sklearn.preprocessing import OneHotEncoder\n",
    "from sklearn.compose import ColumnTransformer\n",
    "ct = ColumnTransformer([('town', OneHotEncoder(), [0])], remainder = 'passthrough')\n",
    "x = ct.fit_transform(x)\n",
    "print(x)\n",
    "x = x[:,1:]\n",
    "print(x)"
   ]
  },
  {
   "cell_type": "code",
   "execution_count": 142,
   "id": "21f99eab-d7d7-4f48-999c-0f5e8be2db64",
   "metadata": {},
   "outputs": [
    {
     "name": "stdout",
     "output_type": "stream",
     "text": [
      "[[ 1.10167257e+03 -4.11783314e-01  2.51585847e+02]]\n",
      "[48657.33279488]\n",
      "[[754199.37689623]]\n",
      "[[764114.01823336]]\n"
     ]
    }
   ],
   "source": [
    "model.fit(x,y)\n",
    "print(model.coef_)\n",
    "print(model.intercept_)\n",
    "print(model.predict([[1,0,2800]])) # 2800 sqr ft home in robbinsville\n",
    "print(model.predict([[10,1,2800]])) # 3400 sqr ft home in west windsor"
   ]
  },
  {
   "cell_type": "markdown",
   "id": "d9102263-41f6-4b82-91c9-6172901e1f6c",
   "metadata": {},
   "source": [
    "## asgn6"
   ]
  },
  {
   "cell_type": "code",
   "execution_count": 146,
   "id": "6cec913d-b83d-4efc-8bc5-6010135fb731",
   "metadata": {},
   "outputs": [
    {
     "name": "stdout",
     "output_type": "stream",
     "text": [
      "                Car Model  Mileage  Sell Price($)  Age(yrs)\n",
      "0                  BMW X5    69000          18000         6\n",
      "1                  BMW X5    35000          34000         3\n",
      "2                  BMW X5    57000          26100         5\n",
      "3                  BMW X5    22500          40000         2\n",
      "4                  BMW X5    46000          31500         4\n",
      "5                 Audi A5    59000          29400         5\n",
      "6                 Audi A5    52000          32000         5\n",
      "7                 Audi A5    72000          19300         6\n",
      "8                 Audi A5    91000          12000         8\n",
      "9   Mercedez Benz C class    67000          22000         6\n",
      "10  Mercedez Benz C class    83000          20000         7\n",
      "11  Mercedez Benz C class    79000          21000         7\n",
      "12  Mercedez Benz C class    59000          33000         5\n",
      "Car Model        object\n",
      "Mileage           int64\n",
      "Sell Price($)     int64\n",
      "Age(yrs)          int64\n",
      "dtype: object\n"
     ]
    }
   ],
   "source": [
    "import pandas as pd\n",
    "cp = pd.read_csv(\"carprices.csv\")\n",
    "print(cp)\n",
    "print(cp.dtypes)"
   ]
  },
  {
   "cell_type": "markdown",
   "id": "3752b7cf-250e-494a-88d2-1e7bd9232f03",
   "metadata": {},
   "source": [
    "### Using pandas to create dummy variables"
   ]
  },
  {
   "cell_type": "code",
   "execution_count": 61,
   "id": "4ad14891-866f-4b97-a3d1-8467fbddbf1b",
   "metadata": {},
   "outputs": [
    {
     "name": "stdout",
     "output_type": "stream",
     "text": [
      "    Audi A5  BMW X5  Mercedez Benz C class\n",
      "0         0       1                      0\n",
      "1         0       1                      0\n",
      "2         0       1                      0\n",
      "3         0       1                      0\n",
      "4         0       1                      0\n",
      "5         1       0                      0\n",
      "6         1       0                      0\n",
      "7         1       0                      0\n",
      "8         1       0                      0\n",
      "9         0       0                      1\n",
      "10        0       0                      1\n",
      "11        0       0                      1\n",
      "12        0       0                      1\n",
      "                Car Model  Mileage  Sell Price($)  Age(yrs)  Audi A5  BMW X5  \\\n",
      "0                  BMW X5    69000          18000         6        0       1   \n",
      "1                  BMW X5    35000          34000         3        0       1   \n",
      "2                  BMW X5    57000          26100         5        0       1   \n",
      "3                  BMW X5    22500          40000         2        0       1   \n",
      "4                  BMW X5    46000          31500         4        0       1   \n",
      "5                 Audi A5    59000          29400         5        1       0   \n",
      "6                 Audi A5    52000          32000         5        1       0   \n",
      "7                 Audi A5    72000          19300         6        1       0   \n",
      "8                 Audi A5    91000          12000         8        1       0   \n",
      "9   Mercedez Benz C class    67000          22000         6        0       0   \n",
      "10  Mercedez Benz C class    83000          20000         7        0       0   \n",
      "11  Mercedez Benz C class    79000          21000         7        0       0   \n",
      "12  Mercedez Benz C class    59000          33000         5        0       0   \n",
      "\n",
      "    Mercedez Benz C class  \n",
      "0                       0  \n",
      "1                       0  \n",
      "2                       0  \n",
      "3                       0  \n",
      "4                       0  \n",
      "5                       0  \n",
      "6                       0  \n",
      "7                       0  \n",
      "8                       0  \n",
      "9                       1  \n",
      "10                      1  \n",
      "11                      1  \n",
      "12                      1  \n",
      "    Mileage  Sell Price($)  Age(yrs)  Audi A5  BMW X5\n",
      "0     69000          18000         6        0       1\n",
      "1     35000          34000         3        0       1\n",
      "2     57000          26100         5        0       1\n",
      "3     22500          40000         2        0       1\n",
      "4     46000          31500         4        0       1\n",
      "5     59000          29400         5        1       0\n",
      "6     52000          32000         5        1       0\n",
      "7     72000          19300         6        1       0\n",
      "8     91000          12000         8        1       0\n",
      "9     67000          22000         6        0       0\n",
      "10    83000          20000         7        0       0\n",
      "11    79000          21000         7        0       0\n",
      "12    59000          33000         5        0       0\n"
     ]
    }
   ],
   "source": [
    "dummies = pd.get_dummies(cp[\"Car Model\"])\n",
    "print(dummies)\n",
    "merged = pd.concat([cp, dummies], axis = \"columns\")\n",
    "print(merged)\n",
    "final = merged.drop([\"Car Model\", \"Mercedez Benz C class\"], axis=\"columns\")\n",
    "print(final)"
   ]
  },
  {
   "cell_type": "markdown",
   "id": "3aff827a-ad73-4d81-a784-2f72fc7ed565",
   "metadata": {},
   "source": [
    "### Dummy Variable Trap"
   ]
  },
  {
   "cell_type": "code",
   "execution_count": 62,
   "id": "8004e1f5-d2a3-4e69-bd1c-1d1c7a0e3bb5",
   "metadata": {},
   "outputs": [
    {
     "name": "stdout",
     "output_type": "stream",
     "text": [
      "    Mileage  Age(yrs)  Audi A5  BMW X5\n",
      "0     69000         6        0       1\n",
      "1     35000         3        0       1\n",
      "2     57000         5        0       1\n",
      "3     22500         2        0       1\n",
      "4     46000         4        0       1\n",
      "5     59000         5        1       0\n",
      "6     52000         5        1       0\n",
      "7     72000         6        1       0\n",
      "8     91000         8        1       0\n",
      "9     67000         6        0       0\n",
      "10    83000         7        0       0\n",
      "11    79000         7        0       0\n",
      "12    59000         5        0       0\n",
      "0     18000\n",
      "1     34000\n",
      "2     26100\n",
      "3     40000\n",
      "4     31500\n",
      "5     29400\n",
      "6     32000\n",
      "7     19300\n",
      "8     12000\n",
      "9     22000\n",
      "10    20000\n",
      "11    21000\n",
      "12    33000\n",
      "Name: Sell Price($), dtype: int64\n"
     ]
    }
   ],
   "source": [
    "x = final.drop([\"Sell Price($)\"], axis=\"columns\")\n",
    "y = final[\"Sell Price($)\"]\n",
    "print(x)\n",
    "print(y)"
   ]
  },
  {
   "cell_type": "code",
   "execution_count": 96,
   "id": "57eef9ce-afe6-4d1d-82ab-e6e430ba4972",
   "metadata": {},
   "outputs": [
    {
     "name": "stdout",
     "output_type": "stream",
     "text": [
      "[-3.70122094e-01 -1.33245363e+03 -2.45354074e+03 -6.73820733e+03]\n",
      "58976.62596853723\n",
      "Price of mercedez benz that is 4 yr old with mileage 45000 is $36991\n",
      "Price of BMW X5 that is 7 yr old with mileage 86000 is $11080\n",
      "0.9417050937281082\n"
     ]
    }
   ],
   "source": [
    "from sklearn.linear_model import LinearRegression\n",
    "# train lm model\n",
    "model = LinearRegression()\n",
    "model.fit(x,y)\n",
    "# predict\n",
    "print(model.coef_)\n",
    "print(model.intercept_)\n",
    "print(\"Price of mercedez benz that is 4 yr old with mileage 45000 is\", \"$\" +\n",
    "      str(int(model.predict([[45000,4,0,0]]))))\n",
    "print(\"Price of BMW X5 that is 7 yr old with mileage 86000 is\", \"$\" +\n",
    "      str(int(model.predict([[86000,7,0,1]]))))\n",
    "# test lm model\n",
    "print(model.score(x,y))"
   ]
  },
  {
   "cell_type": "code",
   "execution_count": 100,
   "id": "51d6b097-6ccd-4476-a8d4-4424992a2c51",
   "metadata": {},
   "outputs": [
    {
     "name": "stdout",
     "output_type": "stream",
     "text": [
      "[36991.31721061]\n",
      "[11080.74313219]\n",
      "[36991.31721061]\n",
      "[11080.74313219]\n"
     ]
    }
   ],
   "source": [
    "# store and download model\n",
    "import pickle\n",
    "with open(\"model_6.dv_ohe\", \"wb\") as f:\n",
    "    pickle.dump(model, f)\n",
    "with open(\"model_6.dv_ohe\", \"rb\") as f:\n",
    "    mp = pickle.load(f)\n",
    "print(mp.predict([[45000,4,0,0]]))\n",
    "print(mp.predict([[86000,7,0,1]]))\n",
    "import joblib\n",
    "joblib.dump(model, \"model_6.dv_ohe\")\n",
    "mj = joblib.load(\"model_6.dv_ohe\")\n",
    "print(mj.predict([[45000,4,0,0]]))\n",
    "print(mj.predict([[86000,7,0,1]]))"
   ]
  },
  {
   "cell_type": "markdown",
   "id": "76539cff-3892-4db8-adce-0873a269eaeb",
   "metadata": {},
   "source": [
    "### Using sklearn OneHotEncoder"
   ]
  },
  {
   "cell_type": "code",
   "execution_count": 150,
   "id": "f7da6401-3495-461a-84bb-60327cdf5fff",
   "metadata": {},
   "outputs": [
    {
     "name": "stdout",
     "output_type": "stream",
     "text": [
      "                Car Model  Mileage  Sell Price($)  Age(yrs)\n",
      "0                  BMW X5    69000          18000         6\n",
      "1                  BMW X5    35000          34000         3\n",
      "2                  BMW X5    57000          26100         5\n",
      "3                  BMW X5    22500          40000         2\n",
      "4                  BMW X5    46000          31500         4\n",
      "5                 Audi A5    59000          29400         5\n",
      "6                 Audi A5    52000          32000         5\n",
      "7                 Audi A5    72000          19300         6\n",
      "8                 Audi A5    91000          12000         8\n",
      "9   Mercedez Benz C class    67000          22000         6\n",
      "10  Mercedez Benz C class    83000          20000         7\n",
      "11  Mercedez Benz C class    79000          21000         7\n",
      "12  Mercedez Benz C class    59000          33000         5\n"
     ]
    }
   ],
   "source": [
    "print(cp)\n",
    "from sklearn.preprocessing import LabelEncoder\n",
    "le = LabelEncoder()"
   ]
  },
  {
   "cell_type": "code",
   "execution_count": 151,
   "id": "2bfe7b00-f3ad-4e1b-9fa8-b0ef23bd348f",
   "metadata": {},
   "outputs": [
    {
     "data": {
      "text/html": [
       "<div>\n",
       "<style scoped>\n",
       "    .dataframe tbody tr th:only-of-type {\n",
       "        vertical-align: middle;\n",
       "    }\n",
       "\n",
       "    .dataframe tbody tr th {\n",
       "        vertical-align: top;\n",
       "    }\n",
       "\n",
       "    .dataframe thead th {\n",
       "        text-align: right;\n",
       "    }\n",
       "</style>\n",
       "<table border=\"1\" class=\"dataframe\">\n",
       "  <thead>\n",
       "    <tr style=\"text-align: right;\">\n",
       "      <th></th>\n",
       "      <th>Car Model</th>\n",
       "      <th>Mileage</th>\n",
       "      <th>Sell Price($)</th>\n",
       "      <th>Age(yrs)</th>\n",
       "    </tr>\n",
       "  </thead>\n",
       "  <tbody>\n",
       "    <tr>\n",
       "      <th>0</th>\n",
       "      <td>1</td>\n",
       "      <td>69000</td>\n",
       "      <td>18000</td>\n",
       "      <td>6</td>\n",
       "    </tr>\n",
       "    <tr>\n",
       "      <th>1</th>\n",
       "      <td>1</td>\n",
       "      <td>35000</td>\n",
       "      <td>34000</td>\n",
       "      <td>3</td>\n",
       "    </tr>\n",
       "    <tr>\n",
       "      <th>2</th>\n",
       "      <td>1</td>\n",
       "      <td>57000</td>\n",
       "      <td>26100</td>\n",
       "      <td>5</td>\n",
       "    </tr>\n",
       "    <tr>\n",
       "      <th>3</th>\n",
       "      <td>1</td>\n",
       "      <td>22500</td>\n",
       "      <td>40000</td>\n",
       "      <td>2</td>\n",
       "    </tr>\n",
       "    <tr>\n",
       "      <th>4</th>\n",
       "      <td>1</td>\n",
       "      <td>46000</td>\n",
       "      <td>31500</td>\n",
       "      <td>4</td>\n",
       "    </tr>\n",
       "    <tr>\n",
       "      <th>5</th>\n",
       "      <td>0</td>\n",
       "      <td>59000</td>\n",
       "      <td>29400</td>\n",
       "      <td>5</td>\n",
       "    </tr>\n",
       "    <tr>\n",
       "      <th>6</th>\n",
       "      <td>0</td>\n",
       "      <td>52000</td>\n",
       "      <td>32000</td>\n",
       "      <td>5</td>\n",
       "    </tr>\n",
       "    <tr>\n",
       "      <th>7</th>\n",
       "      <td>0</td>\n",
       "      <td>72000</td>\n",
       "      <td>19300</td>\n",
       "      <td>6</td>\n",
       "    </tr>\n",
       "    <tr>\n",
       "      <th>8</th>\n",
       "      <td>0</td>\n",
       "      <td>91000</td>\n",
       "      <td>12000</td>\n",
       "      <td>8</td>\n",
       "    </tr>\n",
       "    <tr>\n",
       "      <th>9</th>\n",
       "      <td>2</td>\n",
       "      <td>67000</td>\n",
       "      <td>22000</td>\n",
       "      <td>6</td>\n",
       "    </tr>\n",
       "    <tr>\n",
       "      <th>10</th>\n",
       "      <td>2</td>\n",
       "      <td>83000</td>\n",
       "      <td>20000</td>\n",
       "      <td>7</td>\n",
       "    </tr>\n",
       "    <tr>\n",
       "      <th>11</th>\n",
       "      <td>2</td>\n",
       "      <td>79000</td>\n",
       "      <td>21000</td>\n",
       "      <td>7</td>\n",
       "    </tr>\n",
       "    <tr>\n",
       "      <th>12</th>\n",
       "      <td>2</td>\n",
       "      <td>59000</td>\n",
       "      <td>33000</td>\n",
       "      <td>5</td>\n",
       "    </tr>\n",
       "  </tbody>\n",
       "</table>\n",
       "</div>"
      ],
      "text/plain": [
       "    Car Model  Mileage  Sell Price($)  Age(yrs)\n",
       "0           1    69000          18000         6\n",
       "1           1    35000          34000         3\n",
       "2           1    57000          26100         5\n",
       "3           1    22500          40000         2\n",
       "4           1    46000          31500         4\n",
       "5           0    59000          29400         5\n",
       "6           0    52000          32000         5\n",
       "7           0    72000          19300         6\n",
       "8           0    91000          12000         8\n",
       "9           2    67000          22000         6\n",
       "10          2    83000          20000         7\n",
       "11          2    79000          21000         7\n",
       "12          2    59000          33000         5"
      ]
     },
     "execution_count": 151,
     "metadata": {},
     "output_type": "execute_result"
    }
   ],
   "source": [
    "dfle = cp\n",
    "dfle[\"Car Model\"] = le.fit_transform(dfle[\"Car Model\"])\n",
    "dfle"
   ]
  },
  {
   "cell_type": "code",
   "execution_count": 152,
   "id": "6500689e-1ea5-4ed5-b928-8a60327557c4",
   "metadata": {},
   "outputs": [
    {
     "name": "stdout",
     "output_type": "stream",
     "text": [
      "    Car Model  Mileage  Age(yrs)\n",
      "0           1    69000         6\n",
      "1           1    35000         3\n",
      "2           1    57000         5\n",
      "3           1    22500         2\n",
      "4           1    46000         4\n",
      "5           0    59000         5\n",
      "6           0    52000         5\n",
      "7           0    72000         6\n",
      "8           0    91000         8\n",
      "9           2    67000         6\n",
      "10          2    83000         7\n",
      "11          2    79000         7\n",
      "12          2    59000         5\n",
      "<class 'pandas.core.frame.DataFrame'>\n",
      "    Sell Price($)\n",
      "0           18000\n",
      "1           34000\n",
      "2           26100\n",
      "3           40000\n",
      "4           31500\n",
      "5           29400\n",
      "6           32000\n",
      "7           19300\n",
      "8           12000\n",
      "9           22000\n",
      "10          20000\n",
      "11          21000\n",
      "12          33000\n"
     ]
    }
   ],
   "source": [
    "x = dfle[[\"Car Model\",\"Mileage\",\"Age(yrs)\"]] # x = dfle[[\"Car Model\",\"Mileage\",\"Age(yrs)\"]] # array\n",
    "print(x)\n",
    "print(type(x))\n",
    "y = dfle[[\"Sell Price($)\"]]\n",
    "print(y)"
   ]
  },
  {
   "cell_type": "code",
   "execution_count": 153,
   "id": "ad8361a8-aa93-4ffe-8c6a-facd20d335ee",
   "metadata": {},
   "outputs": [
    {
     "name": "stdout",
     "output_type": "stream",
     "text": [
      "[[0.00e+00 1.00e+00 0.00e+00 6.90e+04 6.00e+00]\n",
      " [0.00e+00 1.00e+00 0.00e+00 3.50e+04 3.00e+00]\n",
      " [0.00e+00 1.00e+00 0.00e+00 5.70e+04 5.00e+00]\n",
      " [0.00e+00 1.00e+00 0.00e+00 2.25e+04 2.00e+00]\n",
      " [0.00e+00 1.00e+00 0.00e+00 4.60e+04 4.00e+00]\n",
      " [1.00e+00 0.00e+00 0.00e+00 5.90e+04 5.00e+00]\n",
      " [1.00e+00 0.00e+00 0.00e+00 5.20e+04 5.00e+00]\n",
      " [1.00e+00 0.00e+00 0.00e+00 7.20e+04 6.00e+00]\n",
      " [1.00e+00 0.00e+00 0.00e+00 9.10e+04 8.00e+00]\n",
      " [0.00e+00 0.00e+00 1.00e+00 6.70e+04 6.00e+00]\n",
      " [0.00e+00 0.00e+00 1.00e+00 8.30e+04 7.00e+00]\n",
      " [0.00e+00 0.00e+00 1.00e+00 7.90e+04 7.00e+00]\n",
      " [0.00e+00 0.00e+00 1.00e+00 5.90e+04 5.00e+00]]\n",
      "[[1.00e+00 0.00e+00 6.90e+04 6.00e+00]\n",
      " [1.00e+00 0.00e+00 3.50e+04 3.00e+00]\n",
      " [1.00e+00 0.00e+00 5.70e+04 5.00e+00]\n",
      " [1.00e+00 0.00e+00 2.25e+04 2.00e+00]\n",
      " [1.00e+00 0.00e+00 4.60e+04 4.00e+00]\n",
      " [0.00e+00 0.00e+00 5.90e+04 5.00e+00]\n",
      " [0.00e+00 0.00e+00 5.20e+04 5.00e+00]\n",
      " [0.00e+00 0.00e+00 7.20e+04 6.00e+00]\n",
      " [0.00e+00 0.00e+00 9.10e+04 8.00e+00]\n",
      " [0.00e+00 1.00e+00 6.70e+04 6.00e+00]\n",
      " [0.00e+00 1.00e+00 8.30e+04 7.00e+00]\n",
      " [0.00e+00 1.00e+00 7.90e+04 7.00e+00]\n",
      " [0.00e+00 1.00e+00 5.90e+04 5.00e+00]]\n"
     ]
    }
   ],
   "source": [
    "from sklearn.preprocessing import OneHotEncoder\n",
    "from sklearn.compose import ColumnTransformer\n",
    "ct = ColumnTransformer([('Car Model', OneHotEncoder(), [0])], remainder = 'passthrough')\n",
    "x = ct.fit_transform(x)\n",
    "print(x)\n",
    "x = x[:,1:]\n",
    "print(x)"
   ]
  },
  {
   "cell_type": "code",
   "execution_count": 158,
   "id": "9bee92f9-829e-493b-9b65-567d57ada681",
   "metadata": {},
   "outputs": [
    {
     "name": "stdout",
     "output_type": "stream",
     "text": [
      "[[36991.31721063]]\n",
      "[[11080.74313217]]\n",
      "0.9417050937281083\n"
     ]
    }
   ],
   "source": [
    "model.fit(x,y)\n",
    "print(model.predict([[0,1,45000,4]]))\n",
    "print(model.predict([[1,0,86000,7]]))\n",
    "print(model.score(x,y))"
   ]
  }
 ],
 "metadata": {
  "kernelspec": {
   "display_name": "Python 3 (ipykernel)",
   "language": "python",
   "name": "python3"
  },
  "language_info": {
   "codemirror_mode": {
    "name": "ipython",
    "version": 3
   },
   "file_extension": ".py",
   "mimetype": "text/x-python",
   "name": "python",
   "nbconvert_exporter": "python",
   "pygments_lexer": "ipython3",
   "version": "3.9.7"
  }
 },
 "nbformat": 4,
 "nbformat_minor": 5
}
