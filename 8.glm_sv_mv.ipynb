{
 "cells": [
  {
   "cell_type": "markdown",
   "id": "f83d0e09-ebc5-4ae2-a142-52871fd88ae0",
   "metadata": {},
   "source": [
    "# Logistic Regression"
   ]
  },
  {
   "cell_type": "markdown",
   "id": "bea42911-408d-4e77-b879-ee0575e30e84",
   "metadata": {},
   "source": [
    "## ie8"
   ]
  },
  {
   "cell_type": "code",
   "execution_count": 214,
   "id": "73eec3a9-7711-4a13-8224-ed0abf055b4c",
   "metadata": {},
   "outputs": [],
   "source": [
    "import pandas as pd\n",
    "from matplotlib import pyplot as plt\n",
    "%matplotlib inline"
   ]
  },
  {
   "cell_type": "code",
   "execution_count": 215,
   "id": "364985c0-1a9a-47e0-b672-be243b550874",
   "metadata": {},
   "outputs": [
    {
     "name": "stdout",
     "output_type": "stream",
     "text": [
      "   age  bought_insurance\n",
      "0   22                 0\n",
      "1   25                 0\n",
      "2   47                 1\n",
      "3   52                 0\n",
      "4   46                 1\n"
     ]
    },
    {
     "data": {
      "text/plain": [
       "<matplotlib.collections.PathCollection at 0x1bbd7d9a8b0>"
      ]
     },
     "execution_count": 215,
     "metadata": {},
     "output_type": "execute_result"
    },
    {
     "data": {
      "image/png": "[encoded data removed]",
      "text/plain": [
       "<Figure size 432x288 with 1 Axes>"
      ]
     },
     "metadata": {
      "needs_background": "light"
     },
     "output_type": "display_data"
    }
   ],
   "source": [
    "id = pd.read_csv(\"insurance_data.csv\")\n",
    "print(id.head())\n",
    "plt.scatter(id.age, id.bought_insurance, marker=\"+\", color=\"red\")"
   ]
  },
  {
   "cell_type": "code",
   "execution_count": 216,
   "id": "b9f4f1e1-10a8-48bb-9c49-5fbedc84b91d",
   "metadata": {},
   "outputs": [
    {
     "data": {
      "text/plain": [
       "(27, 2)"
      ]
     },
     "execution_count": 216,
     "metadata": {},
     "output_type": "execute_result"
    }
   ],
   "source": [
    "id.shape"
   ]
  },
  {
   "cell_type": "code",
   "execution_count": null,
   "id": "20a333a3-90d8-45bb-9113-3328df3f33a8",
   "metadata": {},
   "outputs": [
    {
     "name": "stdout",
     "output_type": "stream",
     "text": [
      "x_train\n",
      "     age\n",
      "0    22\n",
      "15   55\n",
      "5    56\n",
      "11   28\n",
      "2    47\n",
      "1    25\n",
      "26   23\n",
      "20   21\n",
      "25   54\n",
      "7    60\n",
      "12   27\n",
      "13   29\n",
      "24   50\n",
      "22   40\n",
      "9    61\n",
      "8    62\n",
      "6    55\n",
      "19   18 \n",
      "x_test\n",
      "     age\n",
      "18   19\n",
      "21   26\n",
      "4    46\n",
      "3    52\n",
      "17   58\n",
      "16   25\n",
      "14   49\n",
      "23   45\n",
      "10   18 \n",
      "y_train\n",
      " 0     0\n",
      "15    1\n",
      "5     1\n",
      "11    0\n",
      "2     1\n",
      "1     0\n",
      "26    0\n",
      "20    0\n",
      "25    1\n",
      "7     1\n",
      "12    0\n",
      "13    0\n",
      "24    1\n",
      "22    1\n",
      "9     1\n",
      "8     1\n",
      "6     0\n",
      "19    0\n",
      "Name: bought_insurance, dtype: int64 \n",
      "y_test]n 18    0\n",
      "21    0\n",
      "4     1\n",
      "3     0\n",
      "17    1\n",
      "16    1\n",
      "14    1\n",
      "23    1\n",
      "10    0\n",
      "Name: bought_insurance, dtype: int64\n"
     ]
    }
   ],
   "source": [
    "from sklearn.model_selection import train_test_split\n",
    "import numpy as np\n",
    "np.random.seed(23)\n",
    "x_train, x_test, y_train, y_test = train_test_split(id[[\"age\"]], id.bought_insurance, train_size=0.7)\n",
    "print(\"x_train\\n\",x_train, \"\\nx_test\\n\", x_test, \"\\ny_train\\n\", y_train, \"\\ny_test]n\",y_test)"
   ]
  },
  {
   "cell_type": "code",
   "execution_count": 218,
   "id": "8f900be5-5570-415c-a4ce-0b6ab8cba8b9",
   "metadata": {},
   "outputs": [
    {
     "data": {
      "text/html": [
       "<div>\n",
       "<style scoped>\n",
       "    .dataframe tbody tr th:only-of-type {\n",
       "        vertical-align: middle;\n",
       "    }\n",
       "\n",
       "    .dataframe tbody tr th {\n",
       "        vertical-align: top;\n",
       "    }\n",
       "\n",
       "    .dataframe thead th {\n",
       "        text-align: right;\n",
       "    }\n",
       "</style>\n",
       "<table border=\"1\" class=\"dataframe\">\n",
       "  <thead>\n",
       "    <tr style=\"text-align: right;\">\n",
       "      <th></th>\n",
       "      <th>age</th>\n",
       "    </tr>\n",
       "  </thead>\n",
       "  <tbody>\n",
       "    <tr>\n",
       "      <th>18</th>\n",
       "      <td>19</td>\n",
       "    </tr>\n",
       "    <tr>\n",
       "      <th>21</th>\n",
       "      <td>26</td>\n",
       "    </tr>\n",
       "    <tr>\n",
       "      <th>4</th>\n",
       "      <td>46</td>\n",
       "    </tr>\n",
       "    <tr>\n",
       "      <th>3</th>\n",
       "      <td>52</td>\n",
       "    </tr>\n",
       "    <tr>\n",
       "      <th>17</th>\n",
       "      <td>58</td>\n",
       "    </tr>\n",
       "    <tr>\n",
       "      <th>16</th>\n",
       "      <td>25</td>\n",
       "    </tr>\n",
       "    <tr>\n",
       "      <th>14</th>\n",
       "      <td>49</td>\n",
       "    </tr>\n",
       "    <tr>\n",
       "      <th>23</th>\n",
       "      <td>45</td>\n",
       "    </tr>\n",
       "    <tr>\n",
       "      <th>10</th>\n",
       "      <td>18</td>\n",
       "    </tr>\n",
       "  </tbody>\n",
       "</table>\n",
       "</div>"
      ],
      "text/plain": [
       "    age\n",
       "18   19\n",
       "21   26\n",
       "4    46\n",
       "3    52\n",
       "17   58\n",
       "16   25\n",
       "14   49\n",
       "23   45\n",
       "10   18"
      ]
     },
     "execution_count": 218,
     "metadata": {},
     "output_type": "execute_result"
    }
   ],
   "source": [
    "x_test"
   ]
  },
  {
   "cell_type": "code",
   "execution_count": 219,
   "id": "34db0f7d-87b1-4804-ad35-183c1bdf40e1",
   "metadata": {},
   "outputs": [
    {
     "name": "stdout",
     "output_type": "stream",
     "text": [
      "[[0.18328884]]\n",
      "[-7.58531384]\n",
      "[0 0 1 1 1 0 1 1 0]\n",
      "0.7777777777777778\n"
     ]
    }
   ],
   "source": [
    "from sklearn.linear_model import LogisticRegression\n",
    "model = LogisticRegression()\n",
    "model.fit(x_train, y_train)\n",
    "print(model.coef_)\n",
    "print(model.intercept_)\n",
    "print(model.predict(x_test))\n",
    "print(model.score(x_test, y_test))"
   ]
  },
  {
   "cell_type": "code",
   "execution_count": 220,
   "id": "923b255c-3893-47a3-84a6-1d1c63456d91",
   "metadata": {},
   "outputs": [
    {
     "data": {
      "text/plain": [
       "array([[0.98374276, 0.01625724],\n",
       "       [0.94373666, 0.05626334],\n",
       "       [0.30027833, 0.69972167],\n",
       "       [0.12502234, 0.87497766],\n",
       "       [0.0454148 , 0.9545852 ],\n",
       "       [0.95271365, 0.04728635],\n",
       "       [0.19847717, 0.80152283],\n",
       "       [0.34013694, 0.65986306],\n",
       "       [0.98642844, 0.01357156]])"
      ]
     },
     "execution_count": 220,
     "metadata": {},
     "output_type": "execute_result"
    }
   ],
   "source": [
    "model.predict_proba(x_test)"
   ]
  },
  {
   "cell_type": "code",
   "execution_count": 221,
   "id": "e0ed0ed2-313b-4631-86bb-01d395991297",
   "metadata": {},
   "outputs": [
    {
     "data": {
      "text/plain": [
       "array([0], dtype=int64)"
      ]
     },
     "execution_count": 221,
     "metadata": {},
     "output_type": "execute_result"
    }
   ],
   "source": [
    "model.predict([[25]])"
   ]
  },
  {
   "cell_type": "code",
   "execution_count": 25,
   "id": "a6027b24-a546-4ec5-8240-560dac6ea572",
   "metadata": {},
   "outputs": [
    {
     "data": {
      "text/plain": [
       "array([[12,  0,  0],\n",
       "       [ 0,  8,  0],\n",
       "       [ 0,  0, 10]], dtype=int64)"
      ]
     },
     "execution_count": 25,
     "metadata": {},
     "output_type": "execute_result"
    }
   ],
   "source": [
    "from sklearn.metrics import confusion_matrix\n",
    "y_pred = model.predict(x_test)\n",
    "cm = confusion_matrix(y_test, y_pred)\n",
    "cm"
   ]
  },
  {
   "cell_type": "code",
   "execution_count": 26,
   "id": "eddc9ae9-ee5d-4dbc-951d-10697699784b",
   "metadata": {},
   "outputs": [
    {
     "data": {
      "text/plain": [
       "Text(69.0, 0.5, 'Actual')"
      ]
     },
     "execution_count": 26,
     "metadata": {},
     "output_type": "execute_result"
    },
    {
     "data": {
      "image/png": "[encoded data removed]",
      "text/plain": [
       "<Figure size 720x504 with 2 Axes>"
      ]
     },
     "metadata": {
      "needs_background": "light"
     },
     "output_type": "display_data"
    }
   ],
   "source": [
    "import seaborn as sn\n",
    "plt.figure(figsize=(10,7))\n",
    "sn.heatmap(cm, annot=True)\n",
    "plt.xlabel(\"Predicted\")\n",
    "plt.ylabel(\"Actual\")"
   ]
  },
  {
   "cell_type": "markdown",
   "id": "fef96170-1c10-4178-a9b1-70cd263adc99",
   "metadata": {},
   "source": [
    "## asgn8"
   ]
  },
  {
   "cell_type": "code",
   "execution_count": 195,
   "id": "37aabaac-f4f4-4896-9423-6fba6cfbd0d5",
   "metadata": {},
   "outputs": [
    {
     "name": "stdout",
     "output_type": "stream",
     "text": [
      "satisfaction_level       float64\n",
      "last_evaluation          float64\n",
      "number_project             int64\n",
      "average_montly_hours       int64\n",
      "time_spend_company         int64\n",
      "Work_accident              int64\n",
      "left                       int64\n",
      "promotion_last_5years      int64\n",
      "Department                object\n",
      "salary                    object\n",
      "dtype: object\n"
     ]
    },
    {
     "data": {
      "text/html": [
       "<div>\n",
       "<style scoped>\n",
       "    .dataframe tbody tr th:only-of-type {\n",
       "        vertical-align: middle;\n",
       "    }\n",
       "\n",
       "    .dataframe tbody tr th {\n",
       "        vertical-align: top;\n",
       "    }\n",
       "\n",
       "    .dataframe thead th {\n",
       "        text-align: right;\n",
       "    }\n",
       "</style>\n",
       "<table border=\"1\" class=\"dataframe\">\n",
       "  <thead>\n",
       "    <tr style=\"text-align: right;\">\n",
       "      <th></th>\n",
       "      <th>satisfaction_level</th>\n",
       "      <th>last_evaluation</th>\n",
       "      <th>number_project</th>\n",
       "      <th>average_montly_hours</th>\n",
       "      <th>time_spend_company</th>\n",
       "      <th>Work_accident</th>\n",
       "      <th>left</th>\n",
       "      <th>promotion_last_5years</th>\n",
       "      <th>Department</th>\n",
       "      <th>salary</th>\n",
       "    </tr>\n",
       "  </thead>\n",
       "  <tbody>\n",
       "    <tr>\n",
       "      <th>0</th>\n",
       "      <td>0.38</td>\n",
       "      <td>0.53</td>\n",
       "      <td>2</td>\n",
       "      <td>157</td>\n",
       "      <td>3</td>\n",
       "      <td>0</td>\n",
       "      <td>1</td>\n",
       "      <td>0</td>\n",
       "      <td>sales</td>\n",
       "      <td>low</td>\n",
       "    </tr>\n",
       "    <tr>\n",
       "      <th>1</th>\n",
       "      <td>0.80</td>\n",
       "      <td>0.86</td>\n",
       "      <td>5</td>\n",
       "      <td>262</td>\n",
       "      <td>6</td>\n",
       "      <td>0</td>\n",
       "      <td>1</td>\n",
       "      <td>0</td>\n",
       "      <td>sales</td>\n",
       "      <td>medium</td>\n",
       "    </tr>\n",
       "    <tr>\n",
       "      <th>2</th>\n",
       "      <td>0.11</td>\n",
       "      <td>0.88</td>\n",
       "      <td>7</td>\n",
       "      <td>272</td>\n",
       "      <td>4</td>\n",
       "      <td>0</td>\n",
       "      <td>1</td>\n",
       "      <td>0</td>\n",
       "      <td>sales</td>\n",
       "      <td>medium</td>\n",
       "    </tr>\n",
       "    <tr>\n",
       "      <th>3</th>\n",
       "      <td>0.72</td>\n",
       "      <td>0.87</td>\n",
       "      <td>5</td>\n",
       "      <td>223</td>\n",
       "      <td>5</td>\n",
       "      <td>0</td>\n",
       "      <td>1</td>\n",
       "      <td>0</td>\n",
       "      <td>sales</td>\n",
       "      <td>low</td>\n",
       "    </tr>\n",
       "    <tr>\n",
       "      <th>4</th>\n",
       "      <td>0.37</td>\n",
       "      <td>0.52</td>\n",
       "      <td>2</td>\n",
       "      <td>159</td>\n",
       "      <td>3</td>\n",
       "      <td>0</td>\n",
       "      <td>1</td>\n",
       "      <td>0</td>\n",
       "      <td>sales</td>\n",
       "      <td>low</td>\n",
       "    </tr>\n",
       "    <tr>\n",
       "      <th>...</th>\n",
       "      <td>...</td>\n",
       "      <td>...</td>\n",
       "      <td>...</td>\n",
       "      <td>...</td>\n",
       "      <td>...</td>\n",
       "      <td>...</td>\n",
       "      <td>...</td>\n",
       "      <td>...</td>\n",
       "      <td>...</td>\n",
       "      <td>...</td>\n",
       "    </tr>\n",
       "    <tr>\n",
       "      <th>14994</th>\n",
       "      <td>0.40</td>\n",
       "      <td>0.57</td>\n",
       "      <td>2</td>\n",
       "      <td>151</td>\n",
       "      <td>3</td>\n",
       "      <td>0</td>\n",
       "      <td>1</td>\n",
       "      <td>0</td>\n",
       "      <td>support</td>\n",
       "      <td>low</td>\n",
       "    </tr>\n",
       "    <tr>\n",
       "      <th>14995</th>\n",
       "      <td>0.37</td>\n",
       "      <td>0.48</td>\n",
       "      <td>2</td>\n",
       "      <td>160</td>\n",
       "      <td>3</td>\n",
       "      <td>0</td>\n",
       "      <td>1</td>\n",
       "      <td>0</td>\n",
       "      <td>support</td>\n",
       "      <td>low</td>\n",
       "    </tr>\n",
       "    <tr>\n",
       "      <th>14996</th>\n",
       "      <td>0.37</td>\n",
       "      <td>0.53</td>\n",
       "      <td>2</td>\n",
       "      <td>143</td>\n",
       "      <td>3</td>\n",
       "      <td>0</td>\n",
       "      <td>1</td>\n",
       "      <td>0</td>\n",
       "      <td>support</td>\n",
       "      <td>low</td>\n",
       "    </tr>\n",
       "    <tr>\n",
       "      <th>14997</th>\n",
       "      <td>0.11</td>\n",
       "      <td>0.96</td>\n",
       "      <td>6</td>\n",
       "      <td>280</td>\n",
       "      <td>4</td>\n",
       "      <td>0</td>\n",
       "      <td>1</td>\n",
       "      <td>0</td>\n",
       "      <td>support</td>\n",
       "      <td>low</td>\n",
       "    </tr>\n",
       "    <tr>\n",
       "      <th>14998</th>\n",
       "      <td>0.37</td>\n",
       "      <td>0.52</td>\n",
       "      <td>2</td>\n",
       "      <td>158</td>\n",
       "      <td>3</td>\n",
       "      <td>0</td>\n",
       "      <td>1</td>\n",
       "      <td>0</td>\n",
       "      <td>support</td>\n",
       "      <td>low</td>\n",
       "    </tr>\n",
       "  </tbody>\n",
       "</table>\n",
       "<p>14999 rows × 10 columns</p>\n",
       "</div>"
      ],
      "text/plain": [
       "       satisfaction_level  last_evaluation  number_project  \\\n",
       "0                    0.38             0.53               2   \n",
       "1                    0.80             0.86               5   \n",
       "2                    0.11             0.88               7   \n",
       "3                    0.72             0.87               5   \n",
       "4                    0.37             0.52               2   \n",
       "...                   ...              ...             ...   \n",
       "14994                0.40             0.57               2   \n",
       "14995                0.37             0.48               2   \n",
       "14996                0.37             0.53               2   \n",
       "14997                0.11             0.96               6   \n",
       "14998                0.37             0.52               2   \n",
       "\n",
       "       average_montly_hours  time_spend_company  Work_accident  left  \\\n",
       "0                       157                   3              0     1   \n",
       "1                       262                   6              0     1   \n",
       "2                       272                   4              0     1   \n",
       "3                       223                   5              0     1   \n",
       "4                       159                   3              0     1   \n",
       "...                     ...                 ...            ...   ...   \n",
       "14994                   151                   3              0     1   \n",
       "14995                   160                   3              0     1   \n",
       "14996                   143                   3              0     1   \n",
       "14997                   280                   4              0     1   \n",
       "14998                   158                   3              0     1   \n",
       "\n",
       "       promotion_last_5years Department  salary  \n",
       "0                          0      sales     low  \n",
       "1                          0      sales  medium  \n",
       "2                          0      sales  medium  \n",
       "3                          0      sales     low  \n",
       "4                          0      sales     low  \n",
       "...                      ...        ...     ...  \n",
       "14994                      0    support     low  \n",
       "14995                      0    support     low  \n",
       "14996                      0    support     low  \n",
       "14997                      0    support     low  \n",
       "14998                      0    support     low  \n",
       "\n",
       "[14999 rows x 10 columns]"
      ]
     },
     "execution_count": 195,
     "metadata": {},
     "output_type": "execute_result"
    }
   ],
   "source": [
    "hcs = pd.read_csv(\"HR_comma_sep.csv\")\n",
    "print(hcs.dtypes)\n",
    "hcs"
   ]
  },
  {
   "cell_type": "markdown",
   "id": "4beb7f83-3c78-4c86-b238-2ee63a94445f",
   "metadata": {},
   "source": [
    "### data exploration and visualization"
   ]
  },
  {
   "cell_type": "code",
   "execution_count": 196,
   "id": "94fff0be-b8ee-4dba-9cca-f29fc76eab77",
   "metadata": {},
   "outputs": [
    {
     "name": "stdout",
     "output_type": "stream",
     "text": [
      "(14999, 10)\n",
      "(3571, 10)\n",
      "(11428, 10)\n",
      "retain rate: 76.19%\n"
     ]
    }
   ],
   "source": [
    "print(hcs.shape)\n",
    "left = hcs[hcs.left==1]\n",
    "print(left.shape)\n",
    "retained = hcs[hcs.left==0]\n",
    "print(retained.shape)\n",
    "print(\"retain rate:\", str(round(retained.shape[0]/hcs.shape[0]*100,2)) + \"%\")"
   ]
  },
  {
   "cell_type": "code",
   "execution_count": 197,
   "id": "21c56ab5-11f5-42fa-b0c9-b8ce7e854a14",
   "metadata": {},
   "outputs": [
    {
     "data": {
      "text/html": [
       "<div>\n",
       "<style scoped>\n",
       "    .dataframe tbody tr th:only-of-type {\n",
       "        vertical-align: middle;\n",
       "    }\n",
       "\n",
       "    .dataframe tbody tr th {\n",
       "        vertical-align: top;\n",
       "    }\n",
       "\n",
       "    .dataframe thead th {\n",
       "        text-align: right;\n",
       "    }\n",
       "</style>\n",
       "<table border=\"1\" class=\"dataframe\">\n",
       "  <thead>\n",
       "    <tr style=\"text-align: right;\">\n",
       "      <th></th>\n",
       "      <th>satisfaction_level</th>\n",
       "      <th>last_evaluation</th>\n",
       "      <th>number_project</th>\n",
       "      <th>average_montly_hours</th>\n",
       "      <th>time_spend_company</th>\n",
       "      <th>Work_accident</th>\n",
       "      <th>promotion_last_5years</th>\n",
       "    </tr>\n",
       "    <tr>\n",
       "      <th>left</th>\n",
       "      <th></th>\n",
       "      <th></th>\n",
       "      <th></th>\n",
       "      <th></th>\n",
       "      <th></th>\n",
       "      <th></th>\n",
       "      <th></th>\n",
       "    </tr>\n",
       "  </thead>\n",
       "  <tbody>\n",
       "    <tr>\n",
       "      <th>0</th>\n",
       "      <td>0.666810</td>\n",
       "      <td>0.715473</td>\n",
       "      <td>3.786664</td>\n",
       "      <td>199.060203</td>\n",
       "      <td>3.380032</td>\n",
       "      <td>0.175009</td>\n",
       "      <td>0.026251</td>\n",
       "    </tr>\n",
       "    <tr>\n",
       "      <th>1</th>\n",
       "      <td>0.440098</td>\n",
       "      <td>0.718113</td>\n",
       "      <td>3.855503</td>\n",
       "      <td>207.419210</td>\n",
       "      <td>3.876505</td>\n",
       "      <td>0.047326</td>\n",
       "      <td>0.005321</td>\n",
       "    </tr>\n",
       "  </tbody>\n",
       "</table>\n",
       "</div>"
      ],
      "text/plain": [
       "      satisfaction_level  last_evaluation  number_project  \\\n",
       "left                                                        \n",
       "0               0.666810         0.715473        3.786664   \n",
       "1               0.440098         0.718113        3.855503   \n",
       "\n",
       "      average_montly_hours  time_spend_company  Work_accident  \\\n",
       "left                                                            \n",
       "0               199.060203            3.380032       0.175009   \n",
       "1               207.419210            3.876505       0.047326   \n",
       "\n",
       "      promotion_last_5years  \n",
       "left                         \n",
       "0                  0.026251  \n",
       "1                  0.005321  "
      ]
     },
     "execution_count": 197,
     "metadata": {},
     "output_type": "execute_result"
    }
   ],
   "source": [
    "hcs.groupby(\"left\").mean()"
   ]
  },
  {
   "cell_type": "markdown",
   "id": "f42dcc98-351c-4868-8b02-0879d48df920",
   "metadata": {},
   "source": [
    "1. **Satisfaction Level**: Satisfaction level seems to be relatively low (0.44) in employees leaving the firm vs the retained ones (0.66)\n",
    "2. **Average Monthly Hours**: Average monthly hours are higher in employees leaving the firm (199 vs 207)\n",
    "3. **Promotion Last 5 Years**: Employees who are given promotion are likely to be retained at firm"
   ]
  },
  {
   "cell_type": "code",
   "execution_count": 198,
   "id": "c83cae40-9923-4cbd-8137-c9e699e6e31b",
   "metadata": {},
   "outputs": [
    {
     "data": {
      "text/plain": [
       "<AxesSubplot:xlabel='Department'>"
      ]
     },
     "execution_count": 198,
     "metadata": {},
     "output_type": "execute_result"
    },
    {
     "data": {
      "image/png": "[encoded data removed]",
      "text/plain": [
       "<Figure size 432x288 with 1 Axes>"
      ]
     },
     "metadata": {
      "needs_background": "light"
     },
     "output_type": "display_data"
    },
    {
     "data": {
      "image/png": "[encoded data removed]",
      "text/plain": [
       "<Figure size 432x288 with 1 Axes>"
      ]
     },
     "metadata": {
      "needs_background": "light"
     },
     "output_type": "display_data"
    }
   ],
   "source": [
    "pd.crosstab(hcs.salary,hcs.left).plot(kind='bar') # bar chart shows employees with high salaries are likely to not leave the company\n",
    "pd.crosstab(hcs.Department,hcs.left).plot(kind='bar')\n",
    "# From chart there seem to be some impact of department on employee retention but it is not major hence we will ignore department in our analysis"
   ]
  },
  {
   "cell_type": "markdown",
   "id": "1b4a653e-a69d-489a-8ce7-4581c266744c",
   "metadata": {},
   "source": [
    "### From the data analysis so far we can conclude that we will use following variables as independant variables in our model\n",
    "1. **Satisfaction Level**\n",
    "2. **Average Monthly Hours**\n",
    "3. **Promotion Last 5 Years**\n",
    "4. **Salary**\n",
    "\n",
    "Tackle salary dummy variable\n",
    "\n",
    "Salary has all text data. It needs to be converted to numbers and we will use dummy variable for that. Check my one hot encoding tutorial to understand purpose behind dummy variables."
   ]
  },
  {
   "cell_type": "code",
   "execution_count": 199,
   "id": "4e5c0480-d770-4c3e-b3d7-5346f40b7eeb",
   "metadata": {},
   "outputs": [
    {
     "name": "stdout",
     "output_type": "stream",
     "text": [
      "       satisfaction_level  average_montly_hours  promotion_last_5years  salary\n",
      "0                    0.38                   157                      0     low\n",
      "1                    0.80                   262                      0  medium\n",
      "2                    0.11                   272                      0  medium\n",
      "3                    0.72                   223                      0     low\n",
      "4                    0.37                   159                      0     low\n",
      "...                   ...                   ...                    ...     ...\n",
      "14994                0.40                   151                      0     low\n",
      "14995                0.37                   160                      0     low\n",
      "14996                0.37                   143                      0     low\n",
      "14997                0.11                   280                      0     low\n",
      "14998                0.37                   158                      0     low\n",
      "\n",
      "[14999 rows x 4 columns]\n",
      "       high  low  medium\n",
      "0         0    1       0\n",
      "1         0    0       1\n",
      "2         0    0       1\n",
      "3         0    1       0\n",
      "4         0    1       0\n",
      "...     ...  ...     ...\n",
      "14994     0    1       0\n",
      "14995     0    1       0\n",
      "14996     0    1       0\n",
      "14997     0    1       0\n",
      "14998     0    1       0\n",
      "\n",
      "[14999 rows x 3 columns]\n",
      "       satisfaction_level  average_montly_hours  promotion_last_5years  \\\n",
      "0                    0.38                   157                      0   \n",
      "1                    0.80                   262                      0   \n",
      "2                    0.11                   272                      0   \n",
      "3                    0.72                   223                      0   \n",
      "4                    0.37                   159                      0   \n",
      "...                   ...                   ...                    ...   \n",
      "14994                0.40                   151                      0   \n",
      "14995                0.37                   160                      0   \n",
      "14996                0.37                   143                      0   \n",
      "14997                0.11                   280                      0   \n",
      "14998                0.37                   158                      0   \n",
      "\n",
      "       salary  high  low  medium  \n",
      "0         low     0    1       0  \n",
      "1      medium     0    0       1  \n",
      "2      medium     0    0       1  \n",
      "3         low     0    1       0  \n",
      "4         low     0    1       0  \n",
      "...       ...   ...  ...     ...  \n",
      "14994     low     0    1       0  \n",
      "14995     low     0    1       0  \n",
      "14996     low     0    1       0  \n",
      "14997     low     0    1       0  \n",
      "14998     low     0    1       0  \n",
      "\n",
      "[14999 rows x 7 columns]\n"
     ]
    }
   ],
   "source": [
    "subhcs = hcs[[\"satisfaction_level\", \"average_montly_hours\", \"promotion_last_5years\", \"salary\"]]\n",
    "print(subhcs)\n",
    "dummies = pd.get_dummies(subhcs.salary)\n",
    "print(dummies)\n",
    "merged = pd.concat([subhcs, dummies], axis=\"columns\")\n",
    "print(merged)"
   ]
  },
  {
   "cell_type": "code",
   "execution_count": 200,
   "id": "bbea0f56-2a0b-4053-bb15-a7aa9afcfda0",
   "metadata": {},
   "outputs": [
    {
     "name": "stdout",
     "output_type": "stream",
     "text": [
      "       satisfaction_level  average_montly_hours  promotion_last_5years  high  \\\n",
      "0                    0.38                   157                      0     0   \n",
      "1                    0.80                   262                      0     0   \n",
      "2                    0.11                   272                      0     0   \n",
      "3                    0.72                   223                      0     0   \n",
      "4                    0.37                   159                      0     0   \n",
      "...                   ...                   ...                    ...   ...   \n",
      "14994                0.40                   151                      0     0   \n",
      "14995                0.37                   160                      0     0   \n",
      "14996                0.37                   143                      0     0   \n",
      "14997                0.11                   280                      0     0   \n",
      "14998                0.37                   158                      0     0   \n",
      "\n",
      "       low  \n",
      "0        1  \n",
      "1        0  \n",
      "2        0  \n",
      "3        1  \n",
      "4        1  \n",
      "...    ...  \n",
      "14994    1  \n",
      "14995    1  \n",
      "14996    1  \n",
      "14997    1  \n",
      "14998    1  \n",
      "\n",
      "[14999 rows x 5 columns]\n",
      "0        1\n",
      "1        1\n",
      "2        1\n",
      "3        1\n",
      "4        1\n",
      "        ..\n",
      "14994    1\n",
      "14995    1\n",
      "14996    1\n",
      "14997    1\n",
      "14998    1\n",
      "Name: left, Length: 14999, dtype: int64\n"
     ]
    }
   ],
   "source": [
    "x = merged.drop([\"salary\", \"medium\"], axis=\"columns\")\n",
    "print(x)\n",
    "y = hcs.left\n",
    "print(y)"
   ]
  },
  {
   "cell_type": "code",
   "execution_count": 208,
   "id": "a1fea49d-1b9b-44d6-bd0d-3afd39775810",
   "metadata": {},
   "outputs": [
    {
     "name": "stdout",
     "output_type": "stream",
     "text": [
      "x_train\n",
      "        satisfaction_level  average_montly_hours  promotion_last_5years  high  \\\n",
      "5046                 0.53                   138                      0     0   \n",
      "12050                0.13                   152                      0     0   \n",
      "6441                 0.50                   155                      0     0   \n",
      "8105                 0.58                   162                      0     0   \n",
      "12850                0.75                   133                      0     1   \n",
      "...                   ...                   ...                    ...   ...   \n",
      "11190                0.28                    97                      0     0   \n",
      "10185                0.96                   195                      0     0   \n",
      "9256                 0.83                   149                      0     0   \n",
      "13030                0.90                   193                      0     0   \n",
      "8787                 0.89                   141                      0     0   \n",
      "\n",
      "       low  \n",
      "5046     0  \n",
      "12050    1  \n",
      "6441     0  \n",
      "8105     0  \n",
      "12850    0  \n",
      "...    ...  \n",
      "11190    1  \n",
      "10185    1  \n",
      "9256     1  \n",
      "13030    0  \n",
      "8787     1  \n",
      "\n",
      "[11999 rows x 5 columns] \n",
      "x_test\n",
      "        satisfaction_level  average_montly_hours  promotion_last_5years  high  \\\n",
      "14439                0.85                   236                      0     0   \n",
      "13733                0.50                   266                      0     0   \n",
      "13253                0.97                   208                      0     0   \n",
      "4135                 0.16                   205                      0     0   \n",
      "599                  0.11                   307                      0     0   \n",
      "...                   ...                   ...                    ...   ...   \n",
      "6440                 0.14                   117                      0     0   \n",
      "2444                 0.91                   158                      0     0   \n",
      "493                  0.10                   309                      0     0   \n",
      "10937                0.92                   236                      1     0   \n",
      "14159                0.95                   192                      0     0   \n",
      "\n",
      "       low  \n",
      "14439    1  \n",
      "13733    0  \n",
      "13253    1  \n",
      "4135     1  \n",
      "599      1  \n",
      "...    ...  \n",
      "6440     0  \n",
      "2444     0  \n",
      "493      0  \n",
      "10937    0  \n",
      "14159    0  \n",
      "\n",
      "[3000 rows x 5 columns] \n",
      "y_train\n",
      " 5046     0\n",
      "12050    1\n",
      "6441     0\n",
      "8105     0\n",
      "12850    0\n",
      "        ..\n",
      "11190    0\n",
      "10185    0\n",
      "9256     0\n",
      "13030    0\n",
      "8787     0\n",
      "Name: left, Length: 11999, dtype: int64 \n",
      "y_test\n",
      " 14439    1\n",
      "13733    0\n",
      "13253    0\n",
      "4135     0\n",
      "599      1\n",
      "        ..\n",
      "6440     0\n",
      "2444     0\n",
      "493      1\n",
      "10937    0\n",
      "14159    0\n",
      "Name: left, Length: 3000, dtype: int64\n"
     ]
    }
   ],
   "source": [
    "from sklearn.model_selection import train_test_split\n",
    "import numpy as np\n",
    "np.random.seed(23)\n",
    "x_train, x_test, y_train, y_test = train_test_split(x, y, train_size=0.8)\n",
    "print(\"x_train\\n\",x_train, \"\\nx_test\\n\", x_test, \"\\ny_train\\n\", y_train, \"\\ny_test\\n\",y_test)"
   ]
  },
  {
   "cell_type": "code",
   "execution_count": 209,
   "id": "0a6093fe-da01-46af-bb6e-7b66b9dc4ed3",
   "metadata": {},
   "outputs": [
    {
     "data": {
      "text/html": [
       "<div>\n",
       "<style scoped>\n",
       "    .dataframe tbody tr th:only-of-type {\n",
       "        vertical-align: middle;\n",
       "    }\n",
       "\n",
       "    .dataframe tbody tr th {\n",
       "        vertical-align: top;\n",
       "    }\n",
       "\n",
       "    .dataframe thead th {\n",
       "        text-align: right;\n",
       "    }\n",
       "</style>\n",
       "<table border=\"1\" class=\"dataframe\">\n",
       "  <thead>\n",
       "    <tr style=\"text-align: right;\">\n",
       "      <th></th>\n",
       "      <th>satisfaction_level</th>\n",
       "      <th>average_montly_hours</th>\n",
       "      <th>promotion_last_5years</th>\n",
       "      <th>high</th>\n",
       "      <th>low</th>\n",
       "    </tr>\n",
       "  </thead>\n",
       "  <tbody>\n",
       "    <tr>\n",
       "      <th>14439</th>\n",
       "      <td>0.85</td>\n",
       "      <td>236</td>\n",
       "      <td>0</td>\n",
       "      <td>0</td>\n",
       "      <td>1</td>\n",
       "    </tr>\n",
       "    <tr>\n",
       "      <th>13733</th>\n",
       "      <td>0.50</td>\n",
       "      <td>266</td>\n",
       "      <td>0</td>\n",
       "      <td>0</td>\n",
       "      <td>0</td>\n",
       "    </tr>\n",
       "    <tr>\n",
       "      <th>13253</th>\n",
       "      <td>0.97</td>\n",
       "      <td>208</td>\n",
       "      <td>0</td>\n",
       "      <td>0</td>\n",
       "      <td>1</td>\n",
       "    </tr>\n",
       "    <tr>\n",
       "      <th>4135</th>\n",
       "      <td>0.16</td>\n",
       "      <td>205</td>\n",
       "      <td>0</td>\n",
       "      <td>0</td>\n",
       "      <td>1</td>\n",
       "    </tr>\n",
       "    <tr>\n",
       "      <th>599</th>\n",
       "      <td>0.11</td>\n",
       "      <td>307</td>\n",
       "      <td>0</td>\n",
       "      <td>0</td>\n",
       "      <td>1</td>\n",
       "    </tr>\n",
       "    <tr>\n",
       "      <th>...</th>\n",
       "      <td>...</td>\n",
       "      <td>...</td>\n",
       "      <td>...</td>\n",
       "      <td>...</td>\n",
       "      <td>...</td>\n",
       "    </tr>\n",
       "    <tr>\n",
       "      <th>6440</th>\n",
       "      <td>0.14</td>\n",
       "      <td>117</td>\n",
       "      <td>0</td>\n",
       "      <td>0</td>\n",
       "      <td>0</td>\n",
       "    </tr>\n",
       "    <tr>\n",
       "      <th>2444</th>\n",
       "      <td>0.91</td>\n",
       "      <td>158</td>\n",
       "      <td>0</td>\n",
       "      <td>0</td>\n",
       "      <td>0</td>\n",
       "    </tr>\n",
       "    <tr>\n",
       "      <th>493</th>\n",
       "      <td>0.10</td>\n",
       "      <td>309</td>\n",
       "      <td>0</td>\n",
       "      <td>0</td>\n",
       "      <td>0</td>\n",
       "    </tr>\n",
       "    <tr>\n",
       "      <th>10937</th>\n",
       "      <td>0.92</td>\n",
       "      <td>236</td>\n",
       "      <td>1</td>\n",
       "      <td>0</td>\n",
       "      <td>0</td>\n",
       "    </tr>\n",
       "    <tr>\n",
       "      <th>14159</th>\n",
       "      <td>0.95</td>\n",
       "      <td>192</td>\n",
       "      <td>0</td>\n",
       "      <td>0</td>\n",
       "      <td>0</td>\n",
       "    </tr>\n",
       "  </tbody>\n",
       "</table>\n",
       "<p>3000 rows × 5 columns</p>\n",
       "</div>"
      ],
      "text/plain": [
       "       satisfaction_level  average_montly_hours  promotion_last_5years  high  \\\n",
       "14439                0.85                   236                      0     0   \n",
       "13733                0.50                   266                      0     0   \n",
       "13253                0.97                   208                      0     0   \n",
       "4135                 0.16                   205                      0     0   \n",
       "599                  0.11                   307                      0     0   \n",
       "...                   ...                   ...                    ...   ...   \n",
       "6440                 0.14                   117                      0     0   \n",
       "2444                 0.91                   158                      0     0   \n",
       "493                  0.10                   309                      0     0   \n",
       "10937                0.92                   236                      1     0   \n",
       "14159                0.95                   192                      0     0   \n",
       "\n",
       "       low  \n",
       "14439    1  \n",
       "13733    0  \n",
       "13253    1  \n",
       "4135     1  \n",
       "599      1  \n",
       "...    ...  \n",
       "6440     0  \n",
       "2444     0  \n",
       "493      0  \n",
       "10937    0  \n",
       "14159    0  \n",
       "\n",
       "[3000 rows x 5 columns]"
      ]
     },
     "execution_count": 209,
     "metadata": {},
     "output_type": "execute_result"
    }
   ],
   "source": [
    "x_test"
   ]
  },
  {
   "cell_type": "code",
   "execution_count": 210,
   "id": "0fd6ea72-c5c0-40f6-a6a2-5c736da0fe8d",
   "metadata": {},
   "outputs": [
    {
     "data": {
      "text/plain": [
       "array([0, 0, 0, ..., 1, 0, 0], dtype=int64)"
      ]
     },
     "execution_count": 210,
     "metadata": {},
     "output_type": "execute_result"
    }
   ],
   "source": [
    "from sklearn.linear_model import LogisticRegression\n",
    "model = LogisticRegression()\n",
    "model.fit(x_train, y_train)\n",
    "model.predict(x_test)"
   ]
  },
  {
   "cell_type": "code",
   "execution_count": 211,
   "id": "fd425063-435e-4f9b-915f-fb702d413761",
   "metadata": {},
   "outputs": [
    {
     "data": {
      "text/plain": [
       "0.7653333333333333"
      ]
     },
     "execution_count": 211,
     "metadata": {},
     "output_type": "execute_result"
    }
   ],
   "source": [
    "model.score(x_test,y_test)"
   ]
  },
  {
   "cell_type": "code",
   "execution_count": 212,
   "id": "7ed11540-03b5-467d-8dbf-784a550e8951",
   "metadata": {},
   "outputs": [
    {
     "data": {
      "text/plain": [
       "array([[2105,  576],\n",
       "       [ 128,  191]], dtype=int64)"
      ]
     },
     "execution_count": 212,
     "metadata": {},
     "output_type": "execute_result"
    }
   ],
   "source": [
    "from sklearn.metrics import confusion_matrix\n",
    "y_pred = model.predict(x_test)\n",
    "cm = confusion_matrix(y_pred, y_test)\n",
    "cm"
   ]
  },
  {
   "cell_type": "code",
   "execution_count": 213,
   "id": "4e592766-819a-495a-9095-7877e56c877b",
   "metadata": {},
   "outputs": [
    {
     "data": {
      "text/plain": [
       "Text(69.0, 0.5, 'Actual')"
      ]
     },
     "execution_count": 213,
     "metadata": {},
     "output_type": "execute_result"
    },
    {
     "data": {
      "image/png": "[encoded data removed]",
      "text/plain": [
       "<Figure size 720x504 with 2 Axes>"
      ]
     },
     "metadata": {
      "needs_background": "light"
     },
     "output_type": "display_data"
    }
   ],
   "source": [
    "import seaborn as sn\n",
    "plt.figure(figsize=(10,7))\n",
    "sn.heatmap(cm, annot=True)\n",
    "plt.xlabel(\"Predicted\")\n",
    "plt.ylabel(\"Actual\")"
   ]
  },
  {
   "cell_type": "code",
   "execution_count": 207,
   "id": "d218d60e-d793-4d35-b97f-ca7314a5dba4",
   "metadata": {},
   "outputs": [],
   "source": [
    "import pickle\n",
    "with open(\"model_pickle\", \"wb\") as f:\n",
    "    pickle.dump(model, f)\n",
    "with open(\"model_pickle\", \"rb\") as f:\n",
    "    mp = pickle.load(f)\n",
    "import joblib\n",
    "joblib.dump(model, \"model_joblib\")\n",
    "mj = joblib.load(\"model_joblib\")"
   ]
  },
  {
   "cell_type": "markdown",
   "id": "3e25f463-e74c-4bd4-b9d6-6d55cc1e8edb",
   "metadata": {},
   "source": [
    "# Logistic Regression (Multiclass Classification)"
   ]
  },
  {
   "cell_type": "markdown",
   "id": "398bf436-36ef-4721-b257-efc6d1596a05",
   "metadata": {},
   "source": [
    "## ie9"
   ]
  },
  {
   "cell_type": "code",
   "execution_count": 1,
   "id": "8bc2cdb9-4489-4d90-a29f-bafb0006dc54",
   "metadata": {},
   "outputs": [],
   "source": [
    "%matplotlib inline\n",
    "import matplotlib.pyplot as plt\n",
    "from sklearn.datasets import load_digits"
   ]
  },
  {
   "cell_type": "code",
   "execution_count": 2,
   "id": "42fdd503-e49b-4047-a931-2b2cf5bd9d3e",
   "metadata": {},
   "outputs": [
    {
     "name": "stdout",
     "output_type": "stream",
     "text": [
      "['DESCR', 'data', 'feature_names', 'frame', 'images', 'target', 'target_names']\n",
      "[ 0.  0.  5. 13.  9.  1.  0.  0.  0.  0. 13. 15. 10. 15.  5.  0.  0.  3.\n",
      " 15.  2.  0. 11.  8.  0.  0.  4. 12.  0.  0.  8.  8.  0.  0.  5.  8.  0.\n",
      "  0.  9.  8.  0.  0.  4. 11.  0.  1. 12.  7.  0.  0.  2. 14.  5. 10. 12.\n",
      "  0.  0.  0.  0.  6. 13. 10.  0.  0.  0.]\n",
      "0\n",
      "1\n",
      "2\n"
     ]
    },
    {
     "data": {
      "text/plain": [
       "<Figure size 432x288 with 0 Axes>"
      ]
     },
     "metadata": {},
     "output_type": "display_data"
    },
    {
     "data": {
      "image/png": "[encoded data removed]",
      "text/plain": [
       "<Figure size 288x288 with 1 Axes>"
      ]
     },
     "metadata": {
      "needs_background": "light"
     },
     "output_type": "display_data"
    },
    {
     "data": {
      "image/png": "[encoded data removed]",
      "text/plain": [
       "<Figure size 288x288 with 1 Axes>"
      ]
     },
     "metadata": {
      "needs_background": "light"
     },
     "output_type": "display_data"
    },
    {
     "data": {
      "image/png": "[encoded data removed]",
      "text/plain": [
       "<Figure size 288x288 with 1 Axes>"
      ]
     },
     "metadata": {
      "needs_background": "light"
     },
     "output_type": "display_data"
    }
   ],
   "source": [
    "digits = load_digits()\n",
    "print(dir(digits))\n",
    "print(digits.data[0])\n",
    "plt.gray()\n",
    "for i in range(3):\n",
    "    plt.matshow(digits.images[i])\n",
    "    print(digits.target[i])"
   ]
  },
  {
   "cell_type": "code",
   "execution_count": 3,
   "id": "ab3d9cb9-f96a-4e11-8897-f344d7dde56d",
   "metadata": {},
   "outputs": [],
   "source": [
    "from sklearn.model_selection import train_test_split\n",
    "import numpy as np\n",
    "np.random.seed(23)\n",
    "x_train, x_test, y_train, y_test = train_test_split(digits.data, digits.target, train_size=0.8)"
   ]
  },
  {
   "cell_type": "code",
   "execution_count": 4,
   "id": "0f70b205-4bcc-4dd2-afe2-c3761e86a519",
   "metadata": {},
   "outputs": [
    {
     "name": "stdout",
     "output_type": "stream",
     "text": [
      "1437\n",
      "360\n",
      "1437\n",
      "360\n",
      "1797\n"
     ]
    },
    {
     "data": {
      "text/plain": [
       "True"
      ]
     },
     "execution_count": 4,
     "metadata": {},
     "output_type": "execute_result"
    }
   ],
   "source": [
    "print(len(x_train))\n",
    "print(len(x_test))\n",
    "print(len(y_train))\n",
    "print(len(y_test))\n",
    "print(len(digits.data))\n",
    "len(x_train)+len(x_test)==len(y_train)+len(y_test)==len(digits.data)"
   ]
  },
  {
   "cell_type": "code",
   "execution_count": 5,
   "id": "5ff6e044-aea6-4e92-84e8-ca1df5439d41",
   "metadata": {},
   "outputs": [
    {
     "name": "stderr",
     "output_type": "stream",
     "text": [
      "C:\\ProgramData\\Anaconda3\\lib\\site-packages\\sklearn\\linear_model\\_logistic.py:763: ConvergenceWarning: lbfgs failed to converge (status=1):\n",
      "STOP: TOTAL NO. of ITERATIONS REACHED LIMIT.\n",
      "\n",
      "Increase the number of iterations (max_iter) or scale the data as shown in:\n",
      "    https://scikit-learn.org/stable/modules/preprocessing.html\n",
      "Please also refer to the documentation for alternative solver options:\n",
      "    https://scikit-learn.org/stable/modules/linear_model.html#logistic-regression\n",
      "  n_iter_i = _check_optimize_result(\n"
     ]
    },
    {
     "data": {
      "text/plain": [
       "0.9583333333333334"
      ]
     },
     "execution_count": 5,
     "metadata": {},
     "output_type": "execute_result"
    }
   ],
   "source": [
    "from sklearn.linear_model import LogisticRegression\n",
    "model = LogisticRegression()\n",
    "model.fit(x_train, y_train)\n",
    "model.score(x_test, y_test)"
   ]
  },
  {
   "cell_type": "code",
   "execution_count": 6,
   "id": "4c44ebd2-5a65-4180-831e-85dc7ade3c2e",
   "metadata": {},
   "outputs": [
    {
     "name": "stdout",
     "output_type": "stream",
     "text": [
      "id: 1668\n",
      "input:\n",
      " [ 0.  0.  4. 14. 16. 14.  1.  0.  0.  2. 14. 16. 16.  8.  0.  0.  0.  4.\n",
      " 16. 16. 14.  3.  0.  0.  0.  4. 16. 16. 10.  0.  0.  0.  0.  0. 12. 13.\n",
      " 12.  0.  0.  0.  0.  1. 14. 16. 15.  3.  0.  0.  0.  0. 10. 16. 16. 12.\n",
      "  0.  0.  0.  0.  2.  9. 15. 16.  8.  0.]\n",
      "output: 1\n",
      "prediction: 1\n",
      "[0]\n",
      "[1]\n",
      "[2]\n",
      "[3]\n",
      "[4]\n",
      "[5]\n",
      "[6]\n",
      "[7]\n",
      "[8]\n",
      "[9]\n"
     ]
    },
    {
     "data": {
      "image/png": "[encoded data removed]",
      "text/plain": [
       "<Figure size 288x288 with 1 Axes>"
      ]
     },
     "metadata": {
      "needs_background": "light"
     },
     "output_type": "display_data"
    }
   ],
   "source": [
    "import random\n",
    "n = random.randint(0,1796)\n",
    "print(\"id:\", n)\n",
    "print(\"input:\\n\",digits.data[n])\n",
    "print(\"output:\",digits.target[n])\n",
    "plt.matshow(digits.images[n])\n",
    "print(\"prediction:\",int(model.predict([digits.data[n]])))\n",
    "for i in range(10):\n",
    "     print(model.predict([digits.data[i]]))"
   ]
  },
  {
   "cell_type": "markdown",
   "id": "57ec04ad-398e-4a41-8a9d-af26c081e4ad",
   "metadata": {},
   "source": [
    "### confusion matrix"
   ]
  },
  {
   "cell_type": "code",
   "execution_count": 7,
   "id": "303969a9-a7e9-4cca-a41f-1d7942fc9ed3",
   "metadata": {},
   "outputs": [
    {
     "data": {
      "text/plain": [
       "array([[30,  0,  0,  0,  0,  0,  0,  0,  0,  0],\n",
       "       [ 0, 38,  0,  0,  1,  1,  0,  0,  1,  0],\n",
       "       [ 0,  0, 38,  0,  0,  0,  0,  0,  0,  0],\n",
       "       [ 0,  0,  0, 29,  0,  0,  0,  1,  0,  1],\n",
       "       [ 0,  0,  0,  0, 38,  1,  0,  0,  0,  0],\n",
       "       [ 0,  0,  0,  0,  0, 41,  0,  0,  3,  0],\n",
       "       [ 0,  0,  0,  0,  0,  1, 31,  0,  0,  0],\n",
       "       [ 0,  0,  0,  0,  1,  0,  0, 27,  1,  1],\n",
       "       [ 0,  2,  0,  0,  0,  0,  0,  0, 33,  0],\n",
       "       [ 0,  0,  0,  0,  0,  0,  0,  0,  0, 40]], dtype=int64)"
      ]
     },
     "execution_count": 7,
     "metadata": {},
     "output_type": "execute_result"
    }
   ],
   "source": [
    "from sklearn.metrics import confusion_matrix\n",
    "y_pred = model.predict(x_test)\n",
    "cm = confusion_matrix(y_pred, y_test)\n",
    "cm"
   ]
  },
  {
   "cell_type": "markdown",
   "id": "3b014004-bf00-43f2-9313-5b84386215e8",
   "metadata": {},
   "source": [
    "### confusion matrix visualization"
   ]
  },
  {
   "cell_type": "code",
   "execution_count": 8,
   "id": "26199015-ba1b-4dce-aeb7-b7ef7d179d25",
   "metadata": {},
   "outputs": [
    {
     "data": {
      "text/plain": [
       "Text(69.0, 0.5, 'Actual')"
      ]
     },
     "execution_count": 8,
     "metadata": {},
     "output_type": "execute_result"
    },
    {
     "data": {
      "image/png": "[encoded data removed]",
      "text/plain": [
       "<Figure size 720x504 with 2 Axes>"
      ]
     },
     "metadata": {
      "needs_background": "light"
     },
     "output_type": "display_data"
    }
   ],
   "source": [
    "import seaborn as sn\n",
    "plt.figure(figsize=(10,7))\n",
    "sn.heatmap(cm, annot=True)\n",
    "plt.xlabel(\"Predicted\")\n",
    "plt.ylabel(\"Actual\")"
   ]
  },
  {
   "cell_type": "markdown",
   "id": "7d4dd326-ac45-49b0-a362-e9c920fda7d0",
   "metadata": {},
   "source": [
    "## ie9"
   ]
  },
  {
   "cell_type": "markdown",
   "id": "3b37ab1c-5cec-48a3-aadc-517849e48076",
   "metadata": {},
   "source": [
    "### sample"
   ]
  },
  {
   "cell_type": "code",
   "execution_count": 9,
   "id": "7c4794ba-b1d0-44a8-8f0c-e76c1e874df6",
   "metadata": {},
   "outputs": [
    {
     "name": "stdout",
     "output_type": "stream",
     "text": [
      "[[5.1 3.5]\n",
      " [4.9 3. ]\n",
      " [4.7 3.2]\n",
      " [4.6 3.1]\n",
      " [5.  3.6]\n",
      " [5.4 3.9]\n",
      " [4.6 3.4]\n",
      " [5.  3.4]\n",
      " [4.4 2.9]\n",
      " [4.9 3.1]\n",
      " [5.4 3.7]\n",
      " [4.8 3.4]\n",
      " [4.8 3. ]\n",
      " [4.3 3. ]\n",
      " [5.8 4. ]\n",
      " [5.7 4.4]\n",
      " [5.4 3.9]\n",
      " [5.1 3.5]\n",
      " [5.7 3.8]\n",
      " [5.1 3.8]\n",
      " [5.4 3.4]\n",
      " [5.1 3.7]\n",
      " [4.6 3.6]\n",
      " [5.1 3.3]\n",
      " [4.8 3.4]\n",
      " [5.  3. ]\n",
      " [5.  3.4]\n",
      " [5.2 3.5]\n",
      " [5.2 3.4]\n",
      " [4.7 3.2]\n",
      " [4.8 3.1]\n",
      " [5.4 3.4]\n",
      " [5.2 4.1]\n",
      " [5.5 4.2]\n",
      " [4.9 3.1]\n",
      " [5.  3.2]\n",
      " [5.5 3.5]\n",
      " [4.9 3.6]\n",
      " [4.4 3. ]\n",
      " [5.1 3.4]\n",
      " [5.  3.5]\n",
      " [4.5 2.3]\n",
      " [4.4 3.2]\n",
      " [5.  3.5]\n",
      " [5.1 3.8]\n",
      " [4.8 3. ]\n",
      " [5.1 3.8]\n",
      " [4.6 3.2]\n",
      " [5.3 3.7]\n",
      " [5.  3.3]\n",
      " [7.  3.2]\n",
      " [6.4 3.2]\n",
      " [6.9 3.1]\n",
      " [5.5 2.3]\n",
      " [6.5 2.8]\n",
      " [5.7 2.8]\n",
      " [6.3 3.3]\n",
      " [4.9 2.4]\n",
      " [6.6 2.9]\n",
      " [5.2 2.7]\n",
      " [5.  2. ]\n",
      " [5.9 3. ]\n",
      " [6.  2.2]\n",
      " [6.1 2.9]\n",
      " [5.6 2.9]\n",
      " [6.7 3.1]\n",
      " [5.6 3. ]\n",
      " [5.8 2.7]\n",
      " [6.2 2.2]\n",
      " [5.6 2.5]\n",
      " [5.9 3.2]\n",
      " [6.1 2.8]\n",
      " [6.3 2.5]\n",
      " [6.1 2.8]\n",
      " [6.4 2.9]\n",
      " [6.6 3. ]\n",
      " [6.8 2.8]\n",
      " [6.7 3. ]\n",
      " [6.  2.9]\n",
      " [5.7 2.6]\n",
      " [5.5 2.4]\n",
      " [5.5 2.4]\n",
      " [5.8 2.7]\n",
      " [6.  2.7]\n",
      " [5.4 3. ]\n",
      " [6.  3.4]\n",
      " [6.7 3.1]\n",
      " [6.3 2.3]\n",
      " [5.6 3. ]\n",
      " [5.5 2.5]\n",
      " [5.5 2.6]\n",
      " [6.1 3. ]\n",
      " [5.8 2.6]\n",
      " [5.  2.3]\n",
      " [5.6 2.7]\n",
      " [5.7 3. ]\n",
      " [5.7 2.9]\n",
      " [6.2 2.9]\n",
      " [5.1 2.5]\n",
      " [5.7 2.8]\n",
      " [6.3 3.3]\n",
      " [5.8 2.7]\n",
      " [7.1 3. ]\n",
      " [6.3 2.9]\n",
      " [6.5 3. ]\n",
      " [7.6 3. ]\n",
      " [4.9 2.5]\n",
      " [7.3 2.9]\n",
      " [6.7 2.5]\n",
      " [7.2 3.6]\n",
      " [6.5 3.2]\n",
      " [6.4 2.7]\n",
      " [6.8 3. ]\n",
      " [5.7 2.5]\n",
      " [5.8 2.8]\n",
      " [6.4 3.2]\n",
      " [6.5 3. ]\n",
      " [7.7 3.8]\n",
      " [7.7 2.6]\n",
      " [6.  2.2]\n",
      " [6.9 3.2]\n",
      " [5.6 2.8]\n",
      " [7.7 2.8]\n",
      " [6.3 2.7]\n",
      " [6.7 3.3]\n",
      " [7.2 3.2]\n",
      " [6.2 2.8]\n",
      " [6.1 3. ]\n",
      " [6.4 2.8]\n",
      " [7.2 3. ]\n",
      " [7.4 2.8]\n",
      " [7.9 3.8]\n",
      " [6.4 2.8]\n",
      " [6.3 2.8]\n",
      " [6.1 2.6]\n",
      " [7.7 3. ]\n",
      " [6.3 3.4]\n",
      " [6.4 3.1]\n",
      " [6.  3. ]\n",
      " [6.9 3.1]\n",
      " [6.7 3.1]\n",
      " [6.9 3.1]\n",
      " [5.8 2.7]\n",
      " [6.8 3.2]\n",
      " [6.7 3.3]\n",
      " [6.7 3. ]\n",
      " [6.3 2.5]\n",
      " [6.5 3. ]\n",
      " [6.2 3.4]\n",
      " [5.9 3. ]]\n",
      "[0 0 0 0 0 0 0 0 0 0 0 0 0 0 0 0 0 0 0 0 0 0 0 0 0 0 0 0 0 0 0 0 0 0 0 0 0\n",
      " 0 0 0 0 0 0 0 0 0 0 0 0 0 1 1 1 1 1 1 1 1 1 1 1 1 1 1 1 1 1 1 1 1 1 1 1 1\n",
      " 1 1 1 1 1 1 1 1 1 1 1 1 1 1 1 1 1 1 1 1 1 1 1 1 1 1 2 2 2 2 2 2 2 2 2 2 2\n",
      " 2 2 2 2 2 2 2 2 2 2 2 2 2 2 2 2 2 2 2 2 2 2 2 2 2 2 2 2 2 2 2 2 2 2 2 2 2\n",
      " 2 2]\n"
     ]
    }
   ],
   "source": [
    "import matplotlib.pyplot as plt\n",
    "from mpl_toolkits.mplot3d import Axes3D\n",
    "from sklearn import datasets\n",
    "from sklearn.decomposition import PCA\n",
    "iris = datasets.load_iris()\n",
    "x = iris.data[:, :2]  # we only take the first two features.\n",
    "y = iris.target\n",
    "print(x)\n",
    "print(y)"
   ]
  },
  {
   "cell_type": "code",
   "execution_count": 11,
   "id": "561e8ae1-c61d-4214-9f6e-50c588b89aef",
   "metadata": {},
   "outputs": [
    {
     "name": "stdout",
     "output_type": "stream",
     "text": [
      "3.8 8.4 1.5 4.9\n"
     ]
    }
   ],
   "source": [
    "x_min, x_max = x[:, 0].min() - 0.5, x[:, 0].max() + 0.5\n",
    "y_min, y_max = x[:, 1].min() - 0.5, x[:, 1].max() + 0.5\n",
    "print(x_min, x_max, y_min, y_max)"
   ]
  },
  {
   "cell_type": "code",
   "execution_count": 13,
   "id": "18acf40f-1b18-49ed-8e90-f5cf9154e371",
   "metadata": {},
   "outputs": [
    {
     "data": {
      "text/plain": [
       "Text(0, 0.5, 'Sepal width')"
      ]
     },
     "execution_count": 13,
     "metadata": {},
     "output_type": "execute_result"
    },
    {
     "data": {
      "image/png": "[encoded data removed]",
      "text/plain": [
       "<Figure size 576x432 with 1 Axes>"
      ]
     },
     "metadata": {
      "needs_background": "light"
     },
     "output_type": "display_data"
    }
   ],
   "source": [
    "plt.figure(2, figsize=(8, 6))\n",
    "# A unique identifier for the figure.\n",
    "# If a figure with that identifier already exists, this figure is made\n",
    "# active and returned. An integer refers to the ``Figure.number``\n",
    "# attribute, a string refers to the figure label.\n",
    "# If there is no figure with the identifier or *num* is not given, a new\n",
    "# figure is created, made active and returned.  If *num* is an int, it\n",
    "# will be used for the ``Figure.number`` attribute, otherwise, an\n",
    "# auto-generated integer value is used (starting at 1 and incremented\n",
    "# for each new figure). If *num* is a string, the figure label and the\n",
    "# window title is set to this value.\n",
    "plt.clf() # Clear the current figure.\n",
    "plt.scatter(x[:, 0], x[:, 1], c=y, cmap=plt.cm.Set1, edgecolor=\"k\")\n",
    "plt.xlabel(\"Sepal length\")\n",
    "plt.ylabel(\"Sepal width\")"
   ]
  },
  {
   "cell_type": "code",
   "execution_count": 15,
   "id": "28273076-53ba-4abf-a4b4-f069f6fef677",
   "metadata": {},
   "outputs": [
    {
     "data": {
      "text/plain": [
       "Text(0, 0.5, 'Sepal width')"
      ]
     },
     "execution_count": 15,
     "metadata": {},
     "output_type": "execute_result"
    },
    {
     "data": {
      "image/png": "[encoded data removed]",
      "text/plain": [
       "<Figure size 432x288 with 1 Axes>"
      ]
     },
     "metadata": {
      "needs_background": "light"
     },
     "output_type": "display_data"
    }
   ],
   "source": [
    "plt.scatter(x[:, 0], x[:, 1], c=y, cmap=plt.cm.Set1, edgecolor=\"k\")\n",
    "plt.xlabel(\"Sepal length\")\n",
    "plt.ylabel(\"Sepal width\")"
   ]
  },
  {
   "cell_type": "code",
   "execution_count": 16,
   "id": "b625da44-32e7-4769-b1ac-7f206ff5f0e6",
   "metadata": {},
   "outputs": [
    {
     "data": {
      "text/plain": [
       "([], [])"
      ]
     },
     "execution_count": 16,
     "metadata": {},
     "output_type": "execute_result"
    },
    {
     "data": {
      "image/png": "[encoded data removed]",
      "text/plain": [
       "<Figure size 432x288 with 1 Axes>"
      ]
     },
     "metadata": {},
     "output_type": "display_data"
    }
   ],
   "source": [
    "plt.xlim(x_min, x_max)\n",
    "plt.ylim(y_min, y_max)\n",
    "plt.xticks(())\n",
    "plt.yticks(())"
   ]
  },
  {
   "cell_type": "code",
   "execution_count": 17,
   "id": "4907df9f-f7d9-47fd-adb5-c12f5b858ede",
   "metadata": {},
   "outputs": [
    {
     "name": "stderr",
     "output_type": "stream",
     "text": [
      "C:\\Users\\ADMINI~1\\AppData\\Local\\Temp/ipykernel_27728/2470907844.py:2: MatplotlibDeprecationWarning: Axes3D(fig) adding itself to the figure is deprecated since 3.4. Pass the keyword argument auto_add_to_figure=False and use fig.add_axes(ax) to suppress this warning. The default value of auto_add_to_figure will change to False in mpl3.5 and True values will no longer work in 3.6.  This is consistent with other Axes classes.\n",
      "  ax = Axes3D(fig, elev=-150, azim=110)\n"
     ]
    },
    {
     "data": {
      "image/png": "[encoded data removed]",
      "text/plain": [
       "<Figure size 576x432 with 1 Axes>"
      ]
     },
     "metadata": {
      "needs_background": "light"
     },
     "output_type": "display_data"
    }
   ],
   "source": [
    "fig = plt.figure(1, figsize=(8, 6))\n",
    "ax = Axes3D(fig, elev=-150, azim=110)\n",
    "X_reduced = PCA(n_components=3).fit_transform(iris.data)\n",
    "ax.scatter(\n",
    "    X_reduced[:, 0],\n",
    "    X_reduced[:, 1],\n",
    "    X_reduced[:, 2],\n",
    "    c=y,\n",
    "    cmap=plt.cm.Set1,\n",
    "    edgecolor=\"k\",\n",
    "    s=40,\n",
    ")\n",
    "ax.set_title(\"First three PCA directions\")\n",
    "ax.set_xlabel(\"1st eigenvector\")\n",
    "ax.w_xaxis.set_ticklabels([])\n",
    "ax.set_ylabel(\"2nd eigenvector\")\n",
    "ax.w_yaxis.set_ticklabels([])\n",
    "ax.set_zlabel(\"3rd eigenvector\")\n",
    "ax.w_zaxis.set_ticklabels([])\n",
    "plt.show()"
   ]
  },
  {
   "cell_type": "markdown",
   "id": "d5ebc33c-659f-46c2-a256-f7a5003ef97a",
   "metadata": {},
   "source": [
    "### individual"
   ]
  },
  {
   "cell_type": "code",
   "execution_count": 18,
   "id": "36f15932-a134-4422-9ead-8bcd177e99f1",
   "metadata": {},
   "outputs": [
    {
     "name": "stdout",
     "output_type": "stream",
     "text": [
      "120\n",
      "30\n"
     ]
    }
   ],
   "source": [
    "from sklearn.model_selection import train_test_split\n",
    "import numpy as np\n",
    "np.random.seed(23)\n",
    "x_train, x_test, y_train, y_test = train_test_split(iris.data, iris.target, train_size=0.8)\n",
    "print(len(x_train))\n",
    "print(len(x_test))"
   ]
  },
  {
   "cell_type": "code",
   "execution_count": 19,
   "id": "01fb4f87-c0dd-4191-90ff-b7aaac89a1a7",
   "metadata": {},
   "outputs": [
    {
     "data": {
      "text/plain": [
       "array([[6.9, 3.1, 5.4, 2.1],\n",
       "       [7.2, 3.2, 6. , 1.8],\n",
       "       [5.8, 2.7, 4.1, 1. ],\n",
       "       [4.6, 3.1, 1.5, 0.2],\n",
       "       [5.7, 2.5, 5. , 2. ],\n",
       "       [6.9, 3.1, 4.9, 1.5],\n",
       "       [5.7, 3.8, 1.7, 0.3],\n",
       "       [6.4, 3.1, 5.5, 1.8],\n",
       "       [5.4, 3.4, 1.7, 0.2],\n",
       "       [5.6, 2.9, 3.6, 1.3],\n",
       "       [6.1, 2.8, 4.7, 1.2],\n",
       "       [4.8, 3.1, 1.6, 0.2],\n",
       "       [7.1, 3. , 5.9, 2.1],\n",
       "       [5.1, 3.8, 1.5, 0.3],\n",
       "       [5.4, 3.7, 1.5, 0.2],\n",
       "       [6.3, 2.8, 5.1, 1.5],\n",
       "       [6.4, 3.2, 4.5, 1.5],\n",
       "       [6.1, 2.9, 4.7, 1.4],\n",
       "       [7.7, 3. , 6.1, 2.3],\n",
       "       [5.2, 3.4, 1.4, 0.2],\n",
       "       [6.4, 3.2, 5.3, 2.3],\n",
       "       [4.8, 3. , 1.4, 0.3],\n",
       "       [5.1, 3.8, 1.6, 0.2],\n",
       "       [4.7, 3.2, 1.3, 0.2],\n",
       "       [6.7, 3.1, 5.6, 2.4],\n",
       "       [5.1, 3.5, 1.4, 0.3],\n",
       "       [5.1, 3.8, 1.9, 0.4],\n",
       "       [6.2, 2.8, 4.8, 1.8],\n",
       "       [6.6, 3. , 4.4, 1.4],\n",
       "       [5.6, 2.5, 3.9, 1.1]])"
      ]
     },
     "execution_count": 19,
     "metadata": {},
     "output_type": "execute_result"
    }
   ],
   "source": [
    "x_test"
   ]
  },
  {
   "cell_type": "code",
   "execution_count": 20,
   "id": "b5bdc34a-a20e-4a8e-bb59-10cbb7382bf6",
   "metadata": {},
   "outputs": [
    {
     "name": "stderr",
     "output_type": "stream",
     "text": [
      "C:\\ProgramData\\Anaconda3\\lib\\site-packages\\sklearn\\linear_model\\_logistic.py:763: ConvergenceWarning: lbfgs failed to converge (status=1):\n",
      "STOP: TOTAL NO. of ITERATIONS REACHED LIMIT.\n",
      "\n",
      "Increase the number of iterations (max_iter) or scale the data as shown in:\n",
      "    https://scikit-learn.org/stable/modules/preprocessing.html\n",
      "Please also refer to the documentation for alternative solver options:\n",
      "    https://scikit-learn.org/stable/modules/linear_model.html#logistic-regression\n",
      "  n_iter_i = _check_optimize_result(\n"
     ]
    },
    {
     "data": {
      "text/plain": [
       "1.0"
      ]
     },
     "execution_count": 20,
     "metadata": {},
     "output_type": "execute_result"
    }
   ],
   "source": [
    "from sklearn.linear_model import LogisticRegression\n",
    "model = LogisticRegression()\n",
    "model.fit(x_train, y_train)\n",
    "model.score(x_test, y_test)"
   ]
  },
  {
   "cell_type": "code",
   "execution_count": 21,
   "id": "e380ce0b-77fd-4f8b-9bb1-94b3046b589b",
   "metadata": {},
   "outputs": [
    {
     "name": "stdout",
     "output_type": "stream",
     "text": [
      "id: 47\n",
      "input: [4.6 3.2 1.4 0.2]\n",
      "output: 0\n",
      "prediction: 0\n",
      "[0]\n",
      "[0]\n",
      "[0]\n",
      "[0]\n",
      "[0]\n",
      "[0]\n",
      "[0]\n",
      "[0]\n",
      "[0]\n",
      "[0]\n"
     ]
    }
   ],
   "source": [
    "import random\n",
    "n = random.randint(0,119)\n",
    "print(\"id:\", n)\n",
    "model.predict([iris.data[n]])\n",
    "print(\"input:\",iris.data[n])\n",
    "print(\"output:\",iris.target[n])\n",
    "print(\"prediction:\",int(model.predict([iris.data[n]])))\n",
    "for i in range(10):\n",
    "     print(model.predict([iris.data[i]]))"
   ]
  },
  {
   "cell_type": "code",
   "execution_count": 22,
   "id": "8652c9e6-da21-4f24-9163-3beaa38dc716",
   "metadata": {},
   "outputs": [
    {
     "data": {
      "text/plain": [
       "array([[12,  0,  0],\n",
       "       [ 0,  8,  0],\n",
       "       [ 0,  0, 10]], dtype=int64)"
      ]
     },
     "execution_count": 22,
     "metadata": {},
     "output_type": "execute_result"
    }
   ],
   "source": [
    "from sklearn.metrics import confusion_matrix\n",
    "y_pred = model.predict(x_test)\n",
    "cm = confusion_matrix(y_pred, y_test)\n",
    "cm"
   ]
  },
  {
   "cell_type": "code",
   "execution_count": 23,
   "id": "0688fce3-e4eb-4ddb-b72f-ed2615ac5b44",
   "metadata": {},
   "outputs": [
    {
     "data": {
      "text/plain": [
       "Text(69.0, 0.5, 'Actual')"
      ]
     },
     "execution_count": 23,
     "metadata": {},
     "output_type": "execute_result"
    },
    {
     "data": {
      "image/png": "[encoded data removed]",
      "text/plain": [
       "<Figure size 720x504 with 2 Axes>"
      ]
     },
     "metadata": {
      "needs_background": "light"
     },
     "output_type": "display_data"
    }
   ],
   "source": [
    "import seaborn as sn\n",
    "plt.figure(figsize=(10,7))\n",
    "sn.heatmap(cm, annot=True)\n",
    "plt.xlabel(\"Predicted\")\n",
    "plt.ylabel(\"Actual\")"
   ]
  },
  {
   "cell_type": "code",
   "execution_count": 24,
   "id": "d65844cd-f519-4e94-a876-4f6cc4dcb74c",
   "metadata": {},
   "outputs": [],
   "source": [
    "import pickle\n",
    "with open(\"model_pickle\", \"wb\") as f:\n",
    "    pickle.dump(model, f)\n",
    "with open(\"model_pickle\", \"rb\") as f:\n",
    "    pickle.load(f)\n",
    "import joblib\n",
    "joblib.dump(model, \"model_joblib\")\n",
    "mj = joblib.load(\"model_joblib\")"
   ]
  }
 ],
 "metadata": {
  "kernelspec": {
   "display_name": "Python 3 (ipykernel)",
   "language": "python",
   "name": "python3"
  },
  "language_info": {
   "codemirror_mode": {
    "name": "ipython",
    "version": 3
   },
   "file_extension": ".py",
   "mimetype": "text/x-python",
   "name": "python",
   "nbconvert_exporter": "python",
   "pygments_lexer": "ipython3",
   "version": "3.9.7"
  }
 },
 "nbformat": 4,
 "nbformat_minor": 5
}
