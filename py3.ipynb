{
 "cells": [
  {
   "cell_type": "markdown",
   "id": "2a58bd83",
   "metadata": {},
   "source": [
    "# Data Strutures"
   ]
  },
  {
   "cell_type": "markdown",
   "id": "3d0c9abd",
   "metadata": {},
   "source": [
    "## List: ordered, changeable, duplicates\n",
    "## Tuple: ordered, unchangeable, duplicates\n",
    "## Set: unordered, addable/removable, no duplicates\n",
    "## Directionary: unordered, changeable, no duplicates"
   ]
  },
  {
   "cell_type": "code",
   "execution_count": 1,
   "id": "ea2358c2",
   "metadata": {},
   "outputs": [],
   "source": [
    "L = [1, 3, 4.9, \"name\", 3]\n",
    "T = (1, 3, 4.9, \"name\", 3)\n",
    "S = {1, 3, 4.9, \"name\", 3}\n",
    "D = {23:\"twothree\", \"B\":43, \"C\":\"CCD\"}"
   ]
  },
  {
   "cell_type": "code",
   "execution_count": 2,
   "id": "d9422826",
   "metadata": {},
   "outputs": [
    {
     "name": "stdout",
     "output_type": "stream",
     "text": [
      "<class 'list'>\n",
      "<class 'tuple'>\n",
      "<class 'set'>\n",
      "<class 'dict'>\n"
     ]
    }
   ],
   "source": [
    "print(type(L))\n",
    "print(type(T))\n",
    "print(type(S))\n",
    "print(type(D))"
   ]
  },
  {
   "cell_type": "code",
   "execution_count": 57,
   "id": "3067e9b1",
   "metadata": {},
   "outputs": [
    {
     "name": "stdout",
     "output_type": "stream",
     "text": [
      "3\n",
      "3\n",
      "True\n",
      "twothree\n"
     ]
    }
   ],
   "source": [
    "print(L[1])\n",
    "print(T[1])\n",
    "print(3 in S)\n",
    "print(D[23])"
   ]
  },
  {
   "cell_type": "code",
   "execution_count": 58,
   "id": "d98e6de6",
   "metadata": {},
   "outputs": [
    {
     "name": "stdout",
     "output_type": "stream",
     "text": [
      "[1, 3, 4.9]\n",
      "(1, 3, 4.9)\n"
     ]
    }
   ],
   "source": [
    "print(L[:3])\n",
    "print(T[:3])"
   ]
  },
  {
   "cell_type": "code",
   "execution_count": 59,
   "id": "1040b075",
   "metadata": {},
   "outputs": [
    {
     "name": "stdout",
     "output_type": "stream",
     "text": [
      "[1, 3, 4.9, 'name', 3, 'how', 'are', 6, 'you', 6.8]\n",
      "(1, 3, 4.9, 'name', 3, 'a', 'b', 45)\n",
      "{1, 'name', 3, 4.9, 56}\n",
      "{1, 'name', 3, 4.9, 'game', 23, 56}\n",
      "{23: 'twothree', 'B': 43, 'C': 'CCD', 'newKey': 'newValue'}\n"
     ]
    }
   ],
   "source": [
    "L =L +[\"how\", \"are\", 6, \"you\"]\n",
    "L.append(6.8)\n",
    "print(L)\n",
    "T2 = (\"a\", \"b\", 45)\n",
    "print(T + T2)\n",
    "S.add(56)\n",
    "print(S)\n",
    "S.update({23, \"game\", 1})\n",
    "print(S)\n",
    "D[\"newKey\"] = \"newValue\"\n",
    "print(D)"
   ]
  },
  {
   "cell_type": "code",
   "execution_count": 60,
   "id": "7237b5c7",
   "metadata": {},
   "outputs": [
    {
     "name": "stdout",
     "output_type": "stream",
     "text": [
      "[1, 3, 4.9, 3, 'how', 'are', 6, 'you', 6.8]\n",
      "{1, 'name', 3, 4.9, 23, 56}\n",
      "{23: 'twothree', 'B': 43, 'newKey': 'newValue'}\n"
     ]
    }
   ],
   "source": [
    "del L[3]\n",
    "print(L)\n",
    "# del T\n",
    "S.remove(\"game\")\n",
    "print(S)\n",
    "del D[\"C\"]\n",
    "print(D)"
   ]
  },
  {
   "cell_type": "code",
   "execution_count": 36,
   "id": "c027b15f",
   "metadata": {},
   "outputs": [],
   "source": [
    "D2 = {\"y\":\"YY\", \"z\":10}\n",
    "D.update(D2)\n",
    "print(D)"
   ]
  },
  {
   "cell_type": "code",
   "execution_count": 62,
   "id": "f4dc21d9",
   "metadata": {},
   "outputs": [
    {
     "name": "stdout",
     "output_type": "stream",
     "text": [
      "[1, 3, 'four point nine', 3, 'how', 'are', 6, 'you', 6.8]\n",
      "[1, 3, 4.9, 3, 'how', 'are', 6, 'you', 6.8]\n"
     ]
    }
   ],
   "source": [
    "# L2 & L are independent (same as list, set, and directionary)\n",
    "L2 = L.copy()\n",
    "L2[2] = \"four point nine\"\n",
    "print(L2)\n",
    "print(L)"
   ]
  },
  {
   "cell_type": "code",
   "execution_count": 63,
   "id": "79fd3cdd",
   "metadata": {},
   "outputs": [
    {
     "name": "stdout",
     "output_type": "stream",
     "text": [
      "[1, 3, 'four point nine', 3, 'how', 'are', 6, 'you', 6.8]\n",
      "[1, 3, 'four point nine', 3, 'how', 'are', 6, 'you', 6.8]\n"
     ]
    }
   ],
   "source": [
    "# L2 & L dependent (same as list, set, and directionary)\n",
    "L2 = L\n",
    "L2[2] = \"four point nine\"\n",
    "print(L2)\n",
    "print(L)"
   ]
  },
  {
   "cell_type": "code",
   "execution_count": 64,
   "id": "3277e50c",
   "metadata": {},
   "outputs": [
    {
     "name": "stdout",
     "output_type": "stream",
     "text": [
      "['three', 'four point nine', 3, 'how']\n",
      "[1, 3, 'four point nine', 3, 'how', 'are', 6, 'you', 6.8]\n"
     ]
    }
   ],
   "source": [
    "# L3 & L are independent\n",
    "L3 = L[1:5]\n",
    "L3[0] = \"three\"\n",
    "print(L3)\n",
    "print(L)"
   ]
  },
  {
   "cell_type": "code",
   "execution_count": 78,
   "id": "ea41241a",
   "metadata": {},
   "outputs": [
    {
     "name": "stdout",
     "output_type": "stream",
     "text": [
      "{'A': [1, 3, 'four point nine', 3, 'how', 'are', 6, 'you', 6.8], 'B': (1, 3, 4.9, 'name', 3), 'C': {1, 'name', 3, 4.9, 23, 56}, 'D': {23: 'twothree', 'B': 43, 'newKey': 'newValue'}}\n",
      "[1, 3, 'four point nine', 3, 'how', 'are', 6, 'you', 6.8]\n",
      "3\n"
     ]
    }
   ],
   "source": [
    "D3 = {\"A\":L, \"B\":T, \"C\":S, \"D\":D}\n",
    "print(D3)\n",
    "print(D3[\"A\"])\n",
    "print(D3[\"A\"][3])"
   ]
  },
  {
   "cell_type": "code",
   "execution_count": 82,
   "id": "41069cbb",
   "metadata": {},
   "outputs": [
    {
     "name": "stdout",
     "output_type": "stream",
     "text": [
      "23 twothree\n",
      "B 43\n",
      "newKey newValue\n"
     ]
    }
   ],
   "source": [
    "K = D3[\"D\"]\n",
    "for i in K:\n",
    "    print(i, K[i])"
   ]
  },
  {
   "cell_type": "code",
   "execution_count": 86,
   "id": "ccc76d39",
   "metadata": {},
   "outputs": [
    {
     "name": "stdout",
     "output_type": "stream",
     "text": [
      "<class 'list'>\n",
      "<class 'dict'>\n"
     ]
    }
   ],
   "source": [
    "L3 = [L, T, D, \"game\"]\n",
    "print(type(L3))\n",
    "print(type(L3[2]))"
   ]
  },
  {
   "cell_type": "code",
   "execution_count": 91,
   "id": "38193339",
   "metadata": {},
   "outputs": [
    {
     "name": "stdout",
     "output_type": "stream",
     "text": [
      "<class 'list'>\n",
      "<class 'set'>\n"
     ]
    }
   ],
   "source": [
    "L4 = [x ** 2 for x in range(10)]\n",
    "S4 = {x ** 2 for x in range(2, 20, 3)}\n",
    "print(type(L4))\n",
    "print(type(S4))"
   ]
  },
  {
   "cell_type": "code",
   "execution_count": 25,
   "id": "ce38a9c8",
   "metadata": {},
   "outputs": [],
   "source": [
    "\"\"\"\"Let's say u r a teacher and you have different student records containing id of a student and the mark list in each subject where different\n",
    "students have taken different number of subjects. All these records are in hard copy. You want to enter all the data in computer and want to\n",
    "compute the average marks of \"\"\"\n",
    "def getDataFromUser():\n",
    "    D = {}\n",
    "    while True:\n",
    "        studentId = input(\"Enter student ID: \")\n",
    "        marksList = input(\"Enter the marks by comma serpated: \")\n",
    "        moreStudents = input(\"Enter 'no' to quit insertion: \")\n",
    "        if studentId in D:\n",
    "            print(studentId, \"is already inserted\")\n",
    "        else:\n",
    "            D[studentId] = marksList.split(\",\")\n",
    "        if moreStudents.lower() == \"no\":\n",
    "            return D"
   ]
  },
  {
   "cell_type": "code",
   "execution_count": 22,
   "id": "69a6a7e4-5086-4145-8441-cf3679e55b4d",
   "metadata": {},
   "outputs": [
    {
     "name": "stdin",
     "output_type": "stream",
     "text": [
      "Enter student ID:  12\n",
      "Enter the marks by comma serpated:  56,45,13\n",
      "Enter 'no' to quit insertion:  asdf\n",
      "Enter student ID:  45\n",
      "Enter the marks by comma serpated:  44,55,66,77,4\n",
      "Enter 'no' to quit insertion:  sad\n",
      "Enter student ID:  12\n",
      "Enter the marks by comma serpated:  45,45\n",
      "Enter 'no' to quit insertion:  sad\n"
     ]
    },
    {
     "name": "stdout",
     "output_type": "stream",
     "text": [
      "12 is already inserted\n"
     ]
    },
    {
     "name": "stdin",
     "output_type": "stream",
     "text": [
      "Enter student ID:  23\n",
      "Enter the marks by comma serpated:  45,45\n",
      "Enter 'no' to quit insertion:  no\n"
     ]
    }
   ],
   "source": [
    "studentData = getDataFromUser()"
   ]
  },
  {
   "cell_type": "code",
   "execution_count": 26,
   "id": "9ed4974f-7fa5-47b9-a25f-2b650e6fde0d",
   "metadata": {},
   "outputs": [
    {
     "data": {
      "text/plain": [
       "{'12': ['56', '45', '13'],\n",
       " '45': ['44', '55', '66', '77', '4'],\n",
       " '23': ['45', '45']}"
      ]
     },
     "execution_count": 26,
     "metadata": {},
     "output_type": "execute_result"
    }
   ],
   "source": [
    "studentData"
   ]
  },
  {
   "cell_type": "code",
   "execution_count": 30,
   "id": "6853922c-ae59-44c8-9b33-e3b74de2bb4c",
   "metadata": {},
   "outputs": [],
   "source": [
    "def getAvgMarks(D):\n",
    "    avgMarks = {}\n",
    "    for x in D:\n",
    "        L = D[x]\n",
    "        s = 0\n",
    "        for marks in L:\n",
    "            s += int(marks)\n",
    "        avgMarks[x] = s/len(L)\n",
    "    return avgMarks"
   ]
  },
  {
   "cell_type": "code",
   "execution_count": 31,
   "id": "b4914edb-3507-4039-a2e1-ecc9706a2431",
   "metadata": {},
   "outputs": [
    {
     "data": {
      "text/plain": [
       "{'12': 38.0, '45': 49.2, '23': 45.0}"
      ]
     },
     "execution_count": 31,
     "metadata": {},
     "output_type": "execute_result"
    }
   ],
   "source": [
    "avgM = getAvgMarks(studentData)\n",
    "avgM"
   ]
  },
  {
   "cell_type": "markdown",
   "id": "633c1b19-5af1-416e-bc18-454c816c5843",
   "metadata": {},
   "source": [
    "# Numpy"
   ]
  },
  {
   "cell_type": "code",
   "execution_count": 41,
   "id": "2b5001dd-a985-4657-ab76-ecc4de73bfca",
   "metadata": {},
   "outputs": [
    {
     "name": "stdout",
     "output_type": "stream",
     "text": [
      "[1 2 3 4 5]\n",
      "[1. 6. 3. 4. 9.]\n",
      "<class 'numpy.ndarray'>\n",
      "<class 'numpy.ndarray'>\n",
      "int32\n",
      "float32\n"
     ]
    }
   ],
   "source": [
    "import numpy as np\n",
    "a = np.array([1,2,3,4,5], dtype = \"i\")\n",
    "b = np.array([1,6,3,4,9], dtype = \"f\")\n",
    "print(a)\n",
    "print(b)\n",
    "print(type(a))\n",
    "print(type(b))\n",
    "print(a.dtype)\n",
    "print(b.dtype)"
   ]
  },
  {
   "cell_type": "code",
   "execution_count": 68,
   "id": "cd67730c-ab6b-4151-9c98-e4836115c7a8",
   "metadata": {},
   "outputs": [
    {
     "name": "stdout",
     "output_type": "stream",
     "text": [
      "2\n",
      "1\n",
      "3\n",
      "[1 2 3]\n",
      "3\n",
      "[[1 2 3]\n",
      " [4 5 6]]\n",
      "[1 2 3]\n",
      "3\n",
      "<class 'numpy.ndarray'>\n",
      "<class 'numpy.ndarray'>\n",
      "<class 'numpy.ndarray'>\n",
      "(2, 2, 3)\n",
      "12\n",
      "48\n"
     ]
    }
   ],
   "source": [
    "a = np.array([[1,2,3], [4,5,6]]) # 2d-consistent\n",
    "a1 = np.array([[1,2,3], [4,5,6,7]], dtype=\"object\") # 2d-inconsistent\n",
    "b = np.array([[[1,2,3], [4,5,6]],[[1,2,3], [4,5,6]]]) # 3d = 2d+2d\n",
    "# dim\n",
    "print(a.ndim)\n",
    "print(a1.ndim)\n",
    "print(b.ndim)\n",
    "# idx\n",
    "print(a[0])\n",
    "print(a[0,2])\n",
    "print(b[1])\n",
    "print(b[1,0])\n",
    "print(b[1,0,2])\n",
    "# type\n",
    "print(type(a))\n",
    "print(type(a1))\n",
    "print(type(b))\n",
    "# shape\n",
    "print(b.shape) # dim, array, elem\n",
    "print(b.size) # tot elem\n",
    "print(b.nbytes) # tot bytes"
   ]
  },
  {
   "cell_type": "code",
   "execution_count": 83,
   "id": "e4b1f0b0-c8c6-4aff-9688-e91e5e6f6f09",
   "metadata": {},
   "outputs": [
    {
     "data": {
      "text/plain": [
       "0"
      ]
     },
     "execution_count": 83,
     "metadata": {},
     "output_type": "execute_result"
    }
   ],
   "source": [
    "A = np.array([2])\n",
    "A.ndim\n",
    "B = np.array(2)\n",
    "B.ndim"
   ]
  },
  {
   "cell_type": "code",
   "execution_count": 99,
   "id": "d7ad58a0-797f-432e-a979-ed9ffb227ff3",
   "metadata": {},
   "outputs": [
    {
     "name": "stdout",
     "output_type": "stream",
     "text": [
      "[20 23 26 29 32 35 38 41 44 47 50 53 56 59 62 65 68 71 74 77 80 83 86 89\n",
      " 92 95 98]\n",
      "range(0, 10)\n",
      "[0, 1, 2, 3, 4, 5, 6, 7, 8, 9]\n",
      "[1 0 8 2 4 3 5 6 7 9]\n",
      "<class 'int'>\n",
      "<class 'numpy.ndarray'>\n"
     ]
    }
   ],
   "source": [
    "hrd = np.arange(20, 100,3) # for i in range(20, 100, 3)\n",
    "print(hrd)\n",
    "print(range(10))\n",
    "print(list(range(10)))\n",
    "rdm = np.random.permutation(np.arange(10))\n",
    "print(rdm)\n",
    "rand = np.random.randint(20, 300)\n",
    "rand3 = np.random.randint(20, 300, 3, \"i\")\n",
    "print(type(rand))\n",
    "print(type(rand3))"
   ]
  },
  {
   "cell_type": "code",
   "execution_count": 108,
   "id": "ced816d4-03ac-4b49-8555-4156fa23fea1",
   "metadata": {},
   "outputs": [
    {
     "data": {
      "text/plain": [
       "(array([ 987., 1035.,  985., 1015., 1064.,  994., 1020.,  999.,  951.,\n",
       "         983.,  927.,  947., 1093., 1043.,  949.,  992., 1013.,  972.,\n",
       "        1038.,  973., 1013.,  977.,  952., 1015., 1095., 1085., 1023.,\n",
       "         988.,  993., 1017.,  971.,  998., 1004., 1002.,  992.,  988.,\n",
       "        1000., 1058.,  939.,  985., 1051.,  981.,  919.,  949., 1025.,\n",
       "         939., 1006., 1029., 1031., 1023., 1042.,  969., 1021.,  974.,\n",
       "        1021., 1030.,  995., 1023.,  948., 1035.,  977.,  959., 1004.,\n",
       "         984.,  996.,  979.,  995., 1000., 1014.,  980., 1004., 1050.,\n",
       "        1035., 1006.,  991.,  947., 1024., 1043.,  991., 1039.,  996.,\n",
       "        1002., 1061., 1021.,  971., 1029., 1005., 1016.,  963., 1000.,\n",
       "         962., 1039.,  977.,  998.,  983.,  942.,  924., 1002., 1004.,\n",
       "        1001.]),\n",
       " array([8.04569915e-06, 1.00077235e-02, 2.00074012e-02, 3.00070790e-02,\n",
       "        4.00067567e-02, 5.00064345e-02, 6.00061122e-02, 7.00057900e-02,\n",
       "        8.00054677e-02, 9.00051455e-02, 1.00004823e-01, 1.10004501e-01,\n",
       "        1.20004179e-01, 1.30003856e-01, 1.40003534e-01, 1.50003212e-01,\n",
       "        1.60002890e-01, 1.70002568e-01, 1.80002245e-01, 1.90001923e-01,\n",
       "        2.00001601e-01, 2.10001279e-01, 2.20000956e-01, 2.30000634e-01,\n",
       "        2.40000312e-01, 2.49999990e-01, 2.59999667e-01, 2.69999345e-01,\n",
       "        2.79999023e-01, 2.89998701e-01, 2.99998378e-01, 3.09998056e-01,\n",
       "        3.19997734e-01, 3.29997412e-01, 3.39997089e-01, 3.49996767e-01,\n",
       "        3.59996445e-01, 3.69996123e-01, 3.79995800e-01, 3.89995478e-01,\n",
       "        3.99995156e-01, 4.09994834e-01, 4.19994511e-01, 4.29994189e-01,\n",
       "        4.39993867e-01, 4.49993545e-01, 4.59993222e-01, 4.69992900e-01,\n",
       "        4.79992578e-01, 4.89992256e-01, 4.99991933e-01, 5.09991611e-01,\n",
       "        5.19991289e-01, 5.29990967e-01, 5.39990644e-01, 5.49990322e-01,\n",
       "        5.59990000e-01, 5.69989678e-01, 5.79989355e-01, 5.89989033e-01,\n",
       "        5.99988711e-01, 6.09988389e-01, 6.19988066e-01, 6.29987744e-01,\n",
       "        6.39987422e-01, 6.49987100e-01, 6.59986777e-01, 6.69986455e-01,\n",
       "        6.79986133e-01, 6.89985811e-01, 6.99985488e-01, 7.09985166e-01,\n",
       "        7.19984844e-01, 7.29984522e-01, 7.39984199e-01, 7.49983877e-01,\n",
       "        7.59983555e-01, 7.69983233e-01, 7.79982910e-01, 7.89982588e-01,\n",
       "        7.99982266e-01, 8.09981944e-01, 8.19981621e-01, 8.29981299e-01,\n",
       "        8.39980977e-01, 8.49980655e-01, 8.59980332e-01, 8.69980010e-01,\n",
       "        8.79979688e-01, 8.89979366e-01, 8.99979044e-01, 9.09978721e-01,\n",
       "        9.19978399e-01, 9.29978077e-01, 9.39977755e-01, 9.49977432e-01,\n",
       "        9.59977110e-01, 9.69976788e-01, 9.79976466e-01, 9.89976143e-01,\n",
       "        9.99975821e-01]),\n",
       " <BarContainer object of 100 artists>)"
      ]
     },
     "execution_count": 108,
     "metadata": {},
     "output_type": "execute_result"
    },
    {
     "data": {
      "image/png": "[encoded data removed]",
      "text/plain": [
       "<Figure size 432x288 with 1 Axes>"
      ]
     },
     "metadata": {
      "needs_background": "light"
     },
     "output_type": "display_data"
    }
   ],
   "source": [
    "import matplotlib.pyplot as plt\n",
    "A = np.random.rand(1000)\n",
    "plt.hist(A, bins=100)"
   ]
  },
  {
   "cell_type": "code",
   "execution_count": 111,
   "id": "84fb74f9-c368-40c9-8472-b2aa4a3be9ba",
   "metadata": {},
   "outputs": [
    {
     "data": {
      "text/plain": [
       "(array([1.000e+00, 0.000e+00, 0.000e+00, 0.000e+00, 0.000e+00, 0.000e+00,\n",
       "        1.000e+00, 3.000e+00, 1.000e+00, 1.000e+00, 0.000e+00, 0.000e+00,\n",
       "        2.000e+00, 3.000e+00, 3.000e+00, 5.000e+00, 6.000e+00, 8.000e+00,\n",
       "        9.000e+00, 1.000e+01, 6.000e+00, 1.200e+01, 1.200e+01, 1.100e+01,\n",
       "        1.100e+01, 1.300e+01, 1.600e+01, 1.700e+01, 1.900e+01, 2.300e+01,\n",
       "        2.600e+01, 2.800e+01, 4.300e+01, 3.200e+01, 4.800e+01, 4.700e+01,\n",
       "        4.500e+01, 7.200e+01, 7.400e+01, 7.400e+01, 9.000e+01, 1.000e+02,\n",
       "        9.700e+01, 1.190e+02, 1.160e+02, 1.620e+02, 1.510e+02, 1.610e+02,\n",
       "        2.000e+02, 1.990e+02, 2.140e+02, 2.400e+02, 2.670e+02, 2.900e+02,\n",
       "        2.980e+02, 2.980e+02, 3.470e+02, 4.130e+02, 4.340e+02, 4.340e+02,\n",
       "        4.840e+02, 5.000e+02, 5.080e+02, 5.510e+02, 6.360e+02, 6.490e+02,\n",
       "        6.530e+02, 7.090e+02, 7.660e+02, 7.440e+02, 9.070e+02, 9.030e+02,\n",
       "        9.180e+02, 1.015e+03, 9.740e+02, 1.069e+03, 1.091e+03, 1.238e+03,\n",
       "        1.165e+03, 1.263e+03, 1.281e+03, 1.299e+03, 1.305e+03, 1.405e+03,\n",
       "        1.465e+03, 1.480e+03, 1.604e+03, 1.527e+03, 1.524e+03, 1.542e+03,\n",
       "        1.596e+03, 1.654e+03, 1.707e+03, 1.660e+03, 1.610e+03, 1.697e+03,\n",
       "        1.724e+03, 1.762e+03, 1.720e+03, 1.727e+03, 1.657e+03, 1.689e+03,\n",
       "        1.653e+03, 1.717e+03, 1.662e+03, 1.617e+03, 1.520e+03, 1.555e+03,\n",
       "        1.551e+03, 1.451e+03, 1.379e+03, 1.457e+03, 1.395e+03, 1.389e+03,\n",
       "        1.343e+03, 1.268e+03, 1.244e+03, 1.146e+03, 1.163e+03, 1.096e+03,\n",
       "        1.096e+03, 1.054e+03, 9.850e+02, 9.120e+02, 8.720e+02, 8.330e+02,\n",
       "        8.310e+02, 7.720e+02, 7.720e+02, 7.020e+02, 6.580e+02, 6.480e+02,\n",
       "        5.690e+02, 5.700e+02, 5.220e+02, 4.950e+02, 4.300e+02, 4.030e+02,\n",
       "        3.970e+02, 3.680e+02, 3.330e+02, 2.940e+02, 3.050e+02, 2.710e+02,\n",
       "        2.790e+02, 2.000e+02, 2.130e+02, 1.880e+02, 1.560e+02, 1.690e+02,\n",
       "        1.350e+02, 1.390e+02, 1.400e+02, 9.400e+01, 1.070e+02, 7.200e+01,\n",
       "        1.010e+02, 7.200e+01, 7.700e+01, 5.300e+01, 5.000e+01, 4.600e+01,\n",
       "        3.400e+01, 2.900e+01, 3.100e+01, 2.000e+01, 3.100e+01, 2.300e+01,\n",
       "        2.100e+01, 1.700e+01, 1.900e+01, 1.800e+01, 1.100e+01, 1.000e+01,\n",
       "        4.000e+00, 1.100e+01, 6.000e+00, 1.000e+01, 4.000e+00, 1.000e+00,\n",
       "        0.000e+00, 0.000e+00, 3.000e+00, 3.000e+00, 4.000e+00, 2.000e+00,\n",
       "        1.000e+00, 0.000e+00, 2.000e+00, 1.000e+00, 0.000e+00, 1.000e+00,\n",
       "        0.000e+00, 1.000e+00, 1.000e+00, 0.000e+00, 1.000e+00, 0.000e+00,\n",
       "        0.000e+00, 1.000e+00]),\n",
       " array([-4.15761907, -4.1152516 , -4.07288413, -4.03051666, -3.98814919,\n",
       "        -3.94578172, -3.90341425, -3.86104678, -3.81867931, -3.77631184,\n",
       "        -3.73394437, -3.6915769 , -3.64920943, -3.60684196, -3.56447449,\n",
       "        -3.52210702, -3.47973955, -3.43737208, -3.39500461, -3.35263714,\n",
       "        -3.31026967, -3.2679022 , -3.22553473, -3.18316726, -3.14079979,\n",
       "        -3.09843232, -3.05606485, -3.01369738, -2.97132991, -2.92896244,\n",
       "        -2.88659497, -2.8442275 , -2.80186003, -2.75949256, -2.71712509,\n",
       "        -2.67475762, -2.63239015, -2.59002268, -2.54765521, -2.50528774,\n",
       "        -2.46292027, -2.4205528 , -2.37818533, -2.33581786, -2.29345039,\n",
       "        -2.25108292, -2.20871545, -2.16634798, -2.12398051, -2.08161304,\n",
       "        -2.03924557, -1.9968781 , -1.95451063, -1.91214316, -1.86977569,\n",
       "        -1.82740822, -1.78504075, -1.74267328, -1.70030581, -1.65793834,\n",
       "        -1.61557087, -1.5732034 , -1.53083593, -1.48846846, -1.44610099,\n",
       "        -1.40373352, -1.36136605, -1.31899858, -1.27663111, -1.23426364,\n",
       "        -1.19189617, -1.1495287 , -1.10716123, -1.06479376, -1.02242629,\n",
       "        -0.98005882, -0.93769135, -0.89532388, -0.85295641, -0.81058894,\n",
       "        -0.76822147, -0.725854  , -0.68348653, -0.64111906, -0.59875159,\n",
       "        -0.55638412, -0.51401665, -0.47164918, -0.42928171, -0.38691424,\n",
       "        -0.34454677, -0.3021793 , -0.25981183, -0.21744436, -0.17507689,\n",
       "        -0.13270942, -0.09034195, -0.04797448, -0.00560701,  0.03676046,\n",
       "         0.07912793,  0.1214954 ,  0.16386287,  0.20623034,  0.24859781,\n",
       "         0.29096528,  0.33333275,  0.37570022,  0.41806769,  0.46043516,\n",
       "         0.50280263,  0.5451701 ,  0.58753757,  0.62990504,  0.67227252,\n",
       "         0.71463999,  0.75700746,  0.79937493,  0.8417424 ,  0.88410987,\n",
       "         0.92647734,  0.96884481,  1.01121228,  1.05357975,  1.09594722,\n",
       "         1.13831469,  1.18068216,  1.22304963,  1.2654171 ,  1.30778457,\n",
       "         1.35015204,  1.39251951,  1.43488698,  1.47725445,  1.51962192,\n",
       "         1.56198939,  1.60435686,  1.64672433,  1.6890918 ,  1.73145927,\n",
       "         1.77382674,  1.81619421,  1.85856168,  1.90092915,  1.94329662,\n",
       "         1.98566409,  2.02803156,  2.07039903,  2.1127665 ,  2.15513397,\n",
       "         2.19750144,  2.23986891,  2.28223638,  2.32460385,  2.36697132,\n",
       "         2.40933879,  2.45170626,  2.49407373,  2.5364412 ,  2.57880867,\n",
       "         2.62117614,  2.66354361,  2.70591108,  2.74827855,  2.79064602,\n",
       "         2.83301349,  2.87538096,  2.91774843,  2.9601159 ,  3.00248337,\n",
       "         3.04485084,  3.08721831,  3.12958578,  3.17195325,  3.21432072,\n",
       "         3.25668819,  3.29905566,  3.34142313,  3.3837906 ,  3.42615807,\n",
       "         3.46852554,  3.51089301,  3.55326048,  3.59562795,  3.63799542,\n",
       "         3.68036289,  3.72273036,  3.76509783,  3.8074653 ,  3.84983277,\n",
       "         3.89220024,  3.93456771,  3.97693518,  4.01930265,  4.06167012,\n",
       "         4.10403759,  4.14640506,  4.18877253,  4.23114   ,  4.27350747,\n",
       "         4.31587494]),\n",
       " <BarContainer object of 200 artists>)"
      ]
     },
     "execution_count": 111,
     "metadata": {},
     "output_type": "execute_result"
    },
    {
     "data": {
      "image/png": "[encoded data removed]",
      "text/plain": [
       "<Figure size 432x288 with 1 Axes>"
      ]
     },
     "metadata": {
      "needs_background": "light"
     },
     "output_type": "display_data"
    }
   ],
   "source": [
    "B = np.random.randn(100000)\n",
    "plt.hist(B, bins=200)"
   ]
  },
  {
   "cell_type": "code",
   "execution_count": 119,
   "id": "ddff938e-773f-4ee8-9422-9c0dbf9d5c62",
   "metadata": {},
   "outputs": [
    {
     "name": "stdout",
     "output_type": "stream",
     "text": [
      "[[[[0.24499834 0.7589559 ]\n",
      "   [0.57639965 0.93116895]\n",
      "   [0.44162791 0.09140723]\n",
      "   [0.49052477 0.47973052]]\n",
      "\n",
      "  [[0.37879029 0.74753153]\n",
      "   [0.4734673  0.26365936]\n",
      "   [0.17833186 0.06914243]\n",
      "   [0.21238156 0.04304331]]\n",
      "\n",
      "  [[0.04878688 0.7421134 ]\n",
      "   [0.35262577 0.95071321]\n",
      "   [0.2590352  0.0446285 ]\n",
      "   [0.16471219 0.28737595]]]\n",
      "\n",
      "\n",
      " [[[0.98091063 0.67038333]\n",
      "   [0.36277571 0.5430681 ]\n",
      "   [0.92067869 0.86273432]\n",
      "   [0.83570923 0.22875707]]\n",
      "\n",
      "  [[0.76691713 0.01663075]\n",
      "   [0.41918821 0.45246296]\n",
      "   [0.09029634 0.65037254]\n",
      "   [0.49615393 0.34913929]]\n",
      "\n",
      "  [[0.2860859  0.09071798]\n",
      "   [0.37517616 0.73009727]\n",
      "   [0.75412517 0.37783977]\n",
      "   [0.39141775 0.06011124]]]]\n",
      "4\n"
     ]
    }
   ],
   "source": [
    "C = np.random.rand(2, 3, 4, 2) # 4 var for 4 dim\n",
    "print(C)\n",
    "print(C.ndim)"
   ]
  },
  {
   "cell_type": "code",
   "execution_count": 125,
   "id": "e6f415b6-d9e2-4c75-9bba-db410eb33868",
   "metadata": {},
   "outputs": [
    {
     "name": "stdout",
     "output_type": "stream",
     "text": [
      "[[ 0  1  2  3  4  5  6  7  8  9 10 11 12 13 14 15 16 17 18 19 20 21 22 23\n",
      "  24]\n",
      " [25 26 27 28 29 30 31 32 33 34 35 36 37 38 39 40 41 42 43 44 45 46 47 48\n",
      "  49]\n",
      " [50 51 52 53 54 55 56 57 58 59 60 61 62 63 64 65 66 67 68 69 70 71 72 73\n",
      "  74]\n",
      " [75 76 77 78 79 80 81 82 83 84 85 86 87 88 89 90 91 92 93 94 95 96 97 98\n",
      "  99]]\n",
      "(4, 25)\n",
      "[[[ 0  1  2  3  4]\n",
      "  [ 5  6  7  8  9]\n",
      "  [10 11 12 13 14]\n",
      "  [15 16 17 18 19]\n",
      "  [20 21 22 23 24]]\n",
      "\n",
      " [[25 26 27 28 29]\n",
      "  [30 31 32 33 34]\n",
      "  [35 36 37 38 39]\n",
      "  [40 41 42 43 44]\n",
      "  [45 46 47 48 49]]\n",
      "\n",
      " [[50 51 52 53 54]\n",
      "  [55 56 57 58 59]\n",
      "  [60 61 62 63 64]\n",
      "  [65 66 67 68 69]\n",
      "  [70 71 72 73 74]]\n",
      "\n",
      " [[75 76 77 78 79]\n",
      "  [80 81 82 83 84]\n",
      "  [85 86 87 88 89]\n",
      "  [90 91 92 93 94]\n",
      "  [95 96 97 98 99]]]\n",
      "(4, 5, 5)\n"
     ]
    }
   ],
   "source": [
    "D = np.arange(100).reshape(4, 25)\n",
    "print(D)\n",
    "print(D.shape)\n",
    "E = np.arange(100).reshape(4, 5, 5)\n",
    "print(E)\n",
    "print(E.shape)"
   ]
  },
  {
   "cell_type": "code",
   "execution_count": 5,
   "id": "506102bb-e70a-4991-93f8-0d9b42dfb817",
   "metadata": {},
   "outputs": [
    {
     "name": "stdout",
     "output_type": "stream",
     "text": [
      "[3 4 5 6 7 8 9]\n",
      "[-1200     4     5     6     7     8     9]\n",
      "[    0     1     2 -1200     4     5     6     7     8     9    10    11\n",
      "    12    13    14    15    16    17    18    19    20    21    22    23\n",
      "    24    25    26    27    28    29    30    31    32    33    34    35\n",
      "    36    37    38    39    40    41    42    43    44    45    46    47\n",
      "    48    49    50    51    52    53    54    55    56    57    58    59\n",
      "    60    61    62    63    64    65    66    67    68    69    70    71\n",
      "    72    73    74    75    76    77    78    79    80    81    82    83\n",
      "    84    85    86    87    88    89    90    91    92    93    94    95\n",
      "    96    97    98    99]\n",
      "[3 4 5 6 7 8 9]\n",
      "[    0     1     2 -1200     4     5     6     7     8     9    10    11\n",
      "    12    13    14    15    16    17    18    19    20    21    22    23\n",
      "    24    25    26    27    28    29    30    31    32    33    34    35\n",
      "    36    37    38    39    40    41    42    43    44    45    46    47\n",
      "    48    49    50    51    52    53    54    55    56    57    58    59\n",
      "    60    61    62    63    64    65    66    67    68    69    70    71\n",
      "    72    73    74    75    76    77    78    79    80    81    82    83\n",
      "    84    85    86    87    88    89    90    91    92    93    94    95\n",
      "    96    97    98    99]\n",
      "[ 0  5 10 15 20 25 30 35 40 45 50 55 60 65 70 75 80 85 90 95]\n",
      "[99 94 89 84 79 74 69 64 59 54 49 44 39 34 29 24 19 14  9  4]\n",
      "3\n",
      "[ 0  1  2  3  4  5  6  7  8  9 10 11 12 13 14 15 16 17 18 19 20 21 22 23\n",
      " 24 25 26 27 28 29 30 31 32 33 34 35 36 37 38 39 40 41 42 43 44 45 46 47\n",
      " 48 49 50 51 52 53 54 55 56 57 58 59 60 61 62 63 64 65 66 67 68 69 70 71\n",
      " 72 73 74 75 76 77 78 79 80 81 82 83 84 85 86 87 88 89 90 91 92 93 94 95\n",
      " 96 97 98 99]\n"
     ]
    }
   ],
   "source": [
    "import numpy as np\n",
    "A = np.arange(100)\n",
    "B = A[3:10]\n",
    "print(B)\n",
    "B[0] = -1200\n",
    "print(B)\n",
    "print(A)\n",
    "C = A[3:10].copy()\n",
    "C[0] = 3\n",
    "print(C)\n",
    "print(A)\n",
    "print(A[::5])\n",
    "print(A[::-5])\n",
    "# index\n",
    "(A == -1200) * np.arange(A.size)\n",
    "idx = np.argwhere(A==-1200)[0][0]\n",
    "print(idx)\n",
    "A[idx] = 3\n",
    "print(A)"
   ]
  },
  {
   "cell_type": "code",
   "execution_count": 31,
   "id": "16808e9c-fb89-44de-9f84-c2aa9b3e970d",
   "metadata": {},
   "outputs": [
    {
     "name": "stdout",
     "output_type": "stream",
     "text": [
      "[[ 9.  5.  7.  1.]\n",
      " [ 4.  8.  1.  2.]\n",
      " [ 2.  3.  7.  2.]\n",
      " [ 5.  4. 10.  1.]\n",
      " [ 7.  1.  4.  7.]]\n",
      "1.0\n",
      "[4. 8. 1. 2.]\n",
      "[5. 8. 3. 4. 1.]\n",
      "[[1. 2.]\n",
      " [7. 2.]]\n",
      "[[ 9.  4.  2.  5.  7.]\n",
      " [ 5.  8.  3.  4.  1.]\n",
      " [ 7.  1.  7. 10.  4.]\n",
      " [ 1.  2.  2.  1.  7.]]\n"
     ]
    }
   ],
   "source": [
    "A = np.round(10*np.random.rand(5, 4))\n",
    "print(A)\n",
    "print(A[1,2])\n",
    "print(A[1,])\n",
    "print(A[:,1])\n",
    "print(A[1:3,2:4])\n",
    "print(A.T)"
   ]
  },
  {
   "cell_type": "code",
   "execution_count": 23,
   "id": "1921dd12-a2f3-4b1b-b9fe-cfdb62c04df4",
   "metadata": {},
   "outputs": [
    {
     "name": "stdout",
     "output_type": "stream",
     "text": [
      "[[0.4321733  0.77714513 0.71766357]\n",
      " [0.63087363 0.84651585 0.38086356]\n",
      " [0.4162556  0.20150753 0.24648492]]\n",
      "[[-1.28963961  0.4589281   3.04577805]\n",
      " [-0.02968028  1.87919534 -2.81727806]\n",
      " [ 2.20216514 -2.31131139  1.21662855]]\n"
     ]
    }
   ],
   "source": [
    "import numpy.linalg as la\n",
    "B = np.random.rand(3,3)\n",
    "B_inv = la.inv(A)\n",
    "print(B)\n",
    "print(B_inv)"
   ]
  },
  {
   "cell_type": "code",
   "execution_count": 38,
   "id": "bfd36d28-082c-4110-90d2-829b0edb2ac1",
   "metadata": {},
   "outputs": [
    {
     "name": "stdout",
     "output_type": "stream",
     "text": [
      "[[ 2.  1.  1.  1.]\n",
      " [ 4.  3.  4.  1.]\n",
      " [ 5.  4.  7.  2.]\n",
      " [ 7.  5.  7.  2.]\n",
      " [ 9.  8. 10.  7.]]\n",
      "[[ 1.  1.  1.  2.]\n",
      " [ 1.  3.  4.  4.]\n",
      " [ 2.  4.  5.  7.]\n",
      " [ 2.  5.  7.  7.]\n",
      " [ 7.  8.  9. 10.]]\n"
     ]
    }
   ],
   "source": [
    "A.sort(axis=0)\n",
    "print(A)\n",
    "A.sort(axis=1)\n",
    "print(A)"
   ]
  },
  {
   "cell_type": "code",
   "execution_count": 47,
   "id": "d8d6c4ab-9132-430f-b44e-90fc9655e49e",
   "metadata": {},
   "outputs": [
    {
     "name": "stdout",
     "output_type": "stream",
     "text": [
      "[3 5 6]\n",
      "[-4  5  6]\n",
      "[ 0  1  2  3  4  5  6  7  8  9 10 11 12 13 14 15 16 17 18 19 20 21 22 23\n",
      " 24 25 26 27 28 29 30 31 32 33 34 35 36 37 38 39 40 41 42 43 44 45 46 47\n",
      " 48 49 50 51 52 53 54 55 56 57 58 59 60 61 62 63 64 65 66 67 68 69 70 71\n",
      " 72 73 74 75 76 77 78 79 80 81 82 83 84 85 86 87 88 89 90 91 92 93 94 95\n",
      " 96 97 98 99]\n",
      "[31 32 33 34 35 36 37 38 39]\n"
     ]
    }
   ],
   "source": [
    "A = np.arange(100)\n",
    "B = A[[3, 5, 6]]\n",
    "print(B)\n",
    "B[0] = -4\n",
    "print(B)\n",
    "print(A)\n",
    "B = A[(A<40)&(A>30)] # & | ~ array, and/or/not single obj\n",
    "print(B)"
   ]
  },
  {
   "cell_type": "code",
   "execution_count": 100,
   "id": "53272ae2-f02b-46e2-a79a-5ef4a9d35dfb",
   "metadata": {},
   "outputs": [
    {
     "name": "stdout",
     "output_type": "stream",
     "text": [
      "A [[ 6.  4. 10.]\n",
      " [ 6.  4.  5.]]\n",
      "[[ 6.  4. 10.]\n",
      " [ 7.  5.  6.]]\n",
      "B [[5. 7.]\n",
      " [2. 1.]]\n",
      "C [[4. 3. 4.]\n",
      " [9. 6. 3.]\n",
      " [9. 6. 9.]]\n",
      "D [[ 6.  4. 10.  5.  7.]\n",
      " [ 6.  4.  5.  2.  1.]]\n",
      "E [[ 6.  4. 10.]\n",
      " [ 6.  4.  5.]\n",
      " [ 4.  3.  4.]\n",
      " [ 9.  6.  3.]\n",
      " [ 9.  6.  9.]]\n",
      "<class 'numpy.ndarray'>\n"
     ]
    }
   ],
   "source": [
    "A = np.round(10*np.random.rand(2,3))\n",
    "B = np.round(10*np.random.rand(2,2))\n",
    "C = np.round(10*np.random.rand(3,3))\n",
    "D = np.hstack((A,B))\n",
    "E = np.vstack((A,C))\n",
    "print(\"A\", A)\n",
    "print(A + np.arange(2).reshape(2,1))\n",
    "print(\"B\", B)\n",
    "print(\"C\", C)\n",
    "print(\"D\", D)\n",
    "print(\"E\", E)"
   ]
  },
  {
   "cell_type": "code",
   "execution_count": 5,
   "id": "ee79b60b-df77-4783-ab12-f99cb90eb200",
   "metadata": {},
   "outputs": [
    {
     "name": "stdout",
     "output_type": "stream",
     "text": [
      "[6 9 3 5 1 4 8 0 7 2]\n",
      "[0 1 2 3 4 5 6 7 8 9]\n",
      "[9 8 7 6 5 4 3 2 1 0]\n"
     ]
    }
   ],
   "source": [
    "A = np.random.permutation(np.arange(10))\n",
    "print(A)\n",
    "print(np.sort(A))\n",
    "print(np.sort(A)[::-1])"
   ]
  },
  {
   "cell_type": "code",
   "execution_count": 9,
   "id": "7da2574e-4b80-41ef-b0f0-375e1b7ffb38",
   "metadata": {},
   "outputs": [
    {
     "name": "stdout",
     "output_type": "stream",
     "text": [
      "297 ns ± 9.16 ns per loop (mean ± std. dev. of 7 runs, 1000000 loops each)\n",
      "63.5 ms ± 1.32 ms per loop (mean ± std. dev. of 7 runs, 10 loops each)\n",
      "475 µs ± 26 µs per loop (mean ± std. dev. of 7 runs, 1000 loops each)\n"
     ]
    },
    {
     "data": {
      "text/plain": [
       "numpy.ndarray"
      ]
     },
     "execution_count": 9,
     "metadata": {},
     "output_type": "execute_result"
    }
   ],
   "source": [
    "import numpy as np\n",
    "B = np.random.rand(1000000)\n",
    "def mySum(G):\n",
    "    s = 0\n",
    "    for x in G:\n",
    "        s += x\n",
    "        return s\n",
    "%timeit mySum(B)\n",
    "%timeit sum(B)\n",
    "%timeit np.sum(B)"
   ]
  },
  {
   "cell_type": "markdown",
   "id": "5259b4c9-c73f-4c01-b59c-73bedf6e0145",
   "metadata": {},
   "source": [
    "# Pandas"
   ]
  },
  {
   "cell_type": "code",
   "execution_count": 10,
   "id": "71eb9994-7c9b-466f-9432-930025fdee26",
   "metadata": {},
   "outputs": [
    {
     "name": "stdout",
     "output_type": "stream",
     "text": [
      "1.3.4\n"
     ]
    }
   ],
   "source": [
    "import pandas as pd\n",
    "print(pd.__version__)"
   ]
  },
  {
   "cell_type": "code",
   "execution_count": 18,
   "id": "8b85ea23-e886-4e54-a4ee-732d42e6c79c",
   "metadata": {},
   "outputs": [
    {
     "name": "stdout",
     "output_type": "stream",
     "text": [
      "<class 'pandas.core.series.Series'>\n",
      "<class 'pandas.core.indexes.base.Index'>\n",
      "<class 'numpy.ndarray'>\n",
      "2\n",
      "a    2\n",
      "b    3\n",
      "c    4\n",
      "dtype: int64\n"
     ]
    }
   ],
   "source": [
    "A  = pd.Series([2,3,4,5], index=[\"a\",\"b\",\"c\",\"d\"])\n",
    "print(type(A))\n",
    "print(type(A.index))\n",
    "print(type(A.values))\n",
    "print(A[\"a\"])\n",
    "print(A[\"a\":\"c\"])"
   ]
  },
  {
   "cell_type": "code",
   "execution_count": 36,
   "id": "3bfbaa7e-6bc6-4773-aa33-4c8e8cd55b2f",
   "metadata": {},
   "outputs": [
    {
     "name": "stdout",
     "output_type": "stream",
     "text": [
      "[4.  3.5 3.  2.5]\n",
      "85\n",
      "A    85\n",
      "B    75\n",
      "dtype: int64\n",
      "   Marks  Grades\n",
      "A     85     4.0\n",
      "B     75     3.5\n",
      "C     65     3.0\n",
      "D     55     2.5\n",
      "[[85.   4. ]\n",
      " [75.   3.5]\n",
      " [65.   3. ]\n",
      " [55.   2.5]]\n",
      "65.0\n",
      "Index(['Marks', 'Grades'], dtype='object')\n",
      "   Marks  Grades  ScaleMarks\n",
      "A     85     4.0        0.85\n",
      "B     75     3.5        0.75\n",
      "C     65     3.0        0.65\n",
      "D     55     2.5        0.55\n",
      "   Marks  Grades\n",
      "A     85     4.0\n",
      "B     75     3.5\n",
      "C     65     3.0\n",
      "D     55     2.5\n",
      "   Marks  Grades\n",
      "A     85     4.0\n",
      "B     75     3.5\n"
     ]
    }
   ],
   "source": [
    "grads_dict = {\"A\":4, \"B\":3.5, \"C\":3, \"D\":2.5}\n",
    "grades = pd.Series(grads_dict)\n",
    "print(grades.values)\n",
    "marks_dict = {\"A\":85, \"B\":75, \"C\":65, \"D\":55}\n",
    "marks = pd.Series(marks_dict)\n",
    "print(marks[\"A\"])\n",
    "print(marks[0:2])\n",
    "D = pd.DataFrame({\"Marks\":marks, \"Grades\":grades})\n",
    "print(D)\n",
    "print(D.values)\n",
    "print(D.values[2,0])\n",
    "print(D.columns)\n",
    "D[\"ScaleMarks\"] = D[\"Marks\"]/100\n",
    "print(D)\n",
    "del D[\"ScaleMarks\"]\n",
    "print(D)\n",
    "G = D[D[\"Marks\"]>70]\n",
    "print(G)"
   ]
  },
  {
   "cell_type": "markdown",
   "id": "4f2bdb0b-baa8-48b9-aee9-727f8d313241",
   "metadata": {},
   "source": [
    "## Missing values"
   ]
  },
  {
   "cell_type": "code",
   "execution_count": 39,
   "id": "0eb0aa6a-86ba-4377-82b9-530fea9051a3",
   "metadata": {},
   "outputs": [
    {
     "name": "stdout",
     "output_type": "stream",
     "text": [
      "     a  b    c\n",
      "0  1.0 -4  NaN\n",
      "1  NaN -3  9.0\n",
      "     a  b    c\n",
      "0  1.0 -4  0.0\n",
      "1  0.0 -3  9.0\n"
     ]
    }
   ],
   "source": [
    "A = pd.DataFrame([{\"a\":1, \"b\":-4},{\"b\":-3,\"c\":9}])\n",
    "print(A)\n",
    "print(A.fillna(0)) # na -> 0"
   ]
  },
  {
   "cell_type": "code",
   "execution_count": 56,
   "id": "1794c333-7008-4b3d-b5fd-ebc8f04de0c2",
   "metadata": {},
   "outputs": [
    {
     "name": "stdout",
     "output_type": "stream",
     "text": [
      "a\n",
      "3    b\n",
      "5    c\n",
      "dtype: object\n",
      "1    a\n",
      "3    b\n",
      "dtype: object\n",
      "3    b\n",
      "5    c\n",
      "dtype: object\n",
      "   Marks  Grades\n",
      "A     85     4.0\n",
      "B     75     3.5\n",
      "C     65     3.0\n",
      "D     55     2.5\n",
      "Marks     65.0\n",
      "Grades     3.0\n",
      "Name: C, dtype: float64\n"
     ]
    }
   ],
   "source": [
    "A = pd.Series([\"a\", \"b\", \"c\"], index=[1, 3, 5])\n",
    "print(A[1]) \n",
    "print(A[1:3]) \n",
    "print(A.loc[1:3]) # explicit\n",
    "print(A.iloc[1:3]) # implicit\n",
    "print(D)\n",
    "print(D.iloc[2,:])"
   ]
  },
  {
   "cell_type": "code",
   "execution_count": 78,
   "id": "de10e249-6b4e-421e-83ab-df77853a28d9",
   "metadata": {},
   "outputs": [
    {
     "data": {
      "text/html": [
       "<div>\n",
       "<style scoped>\n",
       "    .dataframe tbody tr th:only-of-type {\n",
       "        vertical-align: middle;\n",
       "    }\n",
       "\n",
       "    .dataframe tbody tr th {\n",
       "        vertical-align: top;\n",
       "    }\n",
       "\n",
       "    .dataframe thead th {\n",
       "        text-align: right;\n",
       "    }\n",
       "</style>\n",
       "<table border=\"1\" class=\"dataframe\">\n",
       "  <thead>\n",
       "    <tr style=\"text-align: right;\">\n",
       "      <th></th>\n",
       "      <th>fixed acidity</th>\n",
       "      <th>volatile acidity</th>\n",
       "      <th>citric acid</th>\n",
       "      <th>residual sugar</th>\n",
       "      <th>chlorides</th>\n",
       "      <th>free sulfur dioxide</th>\n",
       "      <th>total sulfur dioxide</th>\n",
       "      <th>density</th>\n",
       "      <th>pH</th>\n",
       "      <th>sulphates</th>\n",
       "      <th>alcohol</th>\n",
       "      <th>quality</th>\n",
       "    </tr>\n",
       "  </thead>\n",
       "  <tbody>\n",
       "    <tr>\n",
       "      <th>0</th>\n",
       "      <td>7.0</td>\n",
       "      <td>0.27</td>\n",
       "      <td>0.36</td>\n",
       "      <td>20.7</td>\n",
       "      <td>0.045</td>\n",
       "      <td>45.0</td>\n",
       "      <td>170.0</td>\n",
       "      <td>1.00100</td>\n",
       "      <td>3.00</td>\n",
       "      <td>0.45</td>\n",
       "      <td>8.8</td>\n",
       "      <td>6</td>\n",
       "    </tr>\n",
       "    <tr>\n",
       "      <th>1</th>\n",
       "      <td>6.3</td>\n",
       "      <td>0.30</td>\n",
       "      <td>0.34</td>\n",
       "      <td>1.6</td>\n",
       "      <td>0.049</td>\n",
       "      <td>14.0</td>\n",
       "      <td>132.0</td>\n",
       "      <td>0.99400</td>\n",
       "      <td>3.30</td>\n",
       "      <td>0.49</td>\n",
       "      <td>9.5</td>\n",
       "      <td>6</td>\n",
       "    </tr>\n",
       "    <tr>\n",
       "      <th>2</th>\n",
       "      <td>8.1</td>\n",
       "      <td>0.28</td>\n",
       "      <td>0.40</td>\n",
       "      <td>6.9</td>\n",
       "      <td>0.050</td>\n",
       "      <td>30.0</td>\n",
       "      <td>97.0</td>\n",
       "      <td>0.99510</td>\n",
       "      <td>3.26</td>\n",
       "      <td>0.44</td>\n",
       "      <td>10.1</td>\n",
       "      <td>6</td>\n",
       "    </tr>\n",
       "    <tr>\n",
       "      <th>3</th>\n",
       "      <td>7.2</td>\n",
       "      <td>0.23</td>\n",
       "      <td>0.32</td>\n",
       "      <td>8.5</td>\n",
       "      <td>0.058</td>\n",
       "      <td>47.0</td>\n",
       "      <td>186.0</td>\n",
       "      <td>0.99560</td>\n",
       "      <td>3.19</td>\n",
       "      <td>0.40</td>\n",
       "      <td>9.9</td>\n",
       "      <td>6</td>\n",
       "    </tr>\n",
       "    <tr>\n",
       "      <th>4</th>\n",
       "      <td>7.2</td>\n",
       "      <td>0.23</td>\n",
       "      <td>0.32</td>\n",
       "      <td>8.5</td>\n",
       "      <td>0.058</td>\n",
       "      <td>47.0</td>\n",
       "      <td>186.0</td>\n",
       "      <td>0.99560</td>\n",
       "      <td>3.19</td>\n",
       "      <td>0.40</td>\n",
       "      <td>9.9</td>\n",
       "      <td>6</td>\n",
       "    </tr>\n",
       "    <tr>\n",
       "      <th>...</th>\n",
       "      <td>...</td>\n",
       "      <td>...</td>\n",
       "      <td>...</td>\n",
       "      <td>...</td>\n",
       "      <td>...</td>\n",
       "      <td>...</td>\n",
       "      <td>...</td>\n",
       "      <td>...</td>\n",
       "      <td>...</td>\n",
       "      <td>...</td>\n",
       "      <td>...</td>\n",
       "      <td>...</td>\n",
       "    </tr>\n",
       "    <tr>\n",
       "      <th>4893</th>\n",
       "      <td>6.2</td>\n",
       "      <td>0.21</td>\n",
       "      <td>0.29</td>\n",
       "      <td>1.6</td>\n",
       "      <td>0.039</td>\n",
       "      <td>24.0</td>\n",
       "      <td>92.0</td>\n",
       "      <td>0.99114</td>\n",
       "      <td>3.27</td>\n",
       "      <td>0.50</td>\n",
       "      <td>11.2</td>\n",
       "      <td>6</td>\n",
       "    </tr>\n",
       "    <tr>\n",
       "      <th>4894</th>\n",
       "      <td>6.6</td>\n",
       "      <td>0.32</td>\n",
       "      <td>0.36</td>\n",
       "      <td>8.0</td>\n",
       "      <td>0.047</td>\n",
       "      <td>57.0</td>\n",
       "      <td>168.0</td>\n",
       "      <td>0.99490</td>\n",
       "      <td>3.15</td>\n",
       "      <td>0.46</td>\n",
       "      <td>9.6</td>\n",
       "      <td>5</td>\n",
       "    </tr>\n",
       "    <tr>\n",
       "      <th>4895</th>\n",
       "      <td>6.5</td>\n",
       "      <td>0.24</td>\n",
       "      <td>0.19</td>\n",
       "      <td>1.2</td>\n",
       "      <td>0.041</td>\n",
       "      <td>30.0</td>\n",
       "      <td>111.0</td>\n",
       "      <td>0.99254</td>\n",
       "      <td>2.99</td>\n",
       "      <td>0.46</td>\n",
       "      <td>9.4</td>\n",
       "      <td>6</td>\n",
       "    </tr>\n",
       "    <tr>\n",
       "      <th>4896</th>\n",
       "      <td>5.5</td>\n",
       "      <td>0.29</td>\n",
       "      <td>0.30</td>\n",
       "      <td>1.1</td>\n",
       "      <td>0.022</td>\n",
       "      <td>20.0</td>\n",
       "      <td>110.0</td>\n",
       "      <td>0.98869</td>\n",
       "      <td>3.34</td>\n",
       "      <td>0.38</td>\n",
       "      <td>12.8</td>\n",
       "      <td>7</td>\n",
       "    </tr>\n",
       "    <tr>\n",
       "      <th>4897</th>\n",
       "      <td>6.0</td>\n",
       "      <td>0.21</td>\n",
       "      <td>0.38</td>\n",
       "      <td>0.8</td>\n",
       "      <td>0.020</td>\n",
       "      <td>22.0</td>\n",
       "      <td>98.0</td>\n",
       "      <td>0.98941</td>\n",
       "      <td>3.26</td>\n",
       "      <td>0.32</td>\n",
       "      <td>11.8</td>\n",
       "      <td>6</td>\n",
       "    </tr>\n",
       "  </tbody>\n",
       "</table>\n",
       "<p>4898 rows × 12 columns</p>\n",
       "</div>"
      ],
      "text/plain": [
       "      fixed acidity  volatile acidity  citric acid  residual sugar  chlorides  \\\n",
       "0               7.0              0.27         0.36            20.7      0.045   \n",
       "1               6.3              0.30         0.34             1.6      0.049   \n",
       "2               8.1              0.28         0.40             6.9      0.050   \n",
       "3               7.2              0.23         0.32             8.5      0.058   \n",
       "4               7.2              0.23         0.32             8.5      0.058   \n",
       "...             ...               ...          ...             ...        ...   \n",
       "4893            6.2              0.21         0.29             1.6      0.039   \n",
       "4894            6.6              0.32         0.36             8.0      0.047   \n",
       "4895            6.5              0.24         0.19             1.2      0.041   \n",
       "4896            5.5              0.29         0.30             1.1      0.022   \n",
       "4897            6.0              0.21         0.38             0.8      0.020   \n",
       "\n",
       "      free sulfur dioxide  total sulfur dioxide  density    pH  sulphates  \\\n",
       "0                    45.0                 170.0  1.00100  3.00       0.45   \n",
       "1                    14.0                 132.0  0.99400  3.30       0.49   \n",
       "2                    30.0                  97.0  0.99510  3.26       0.44   \n",
       "3                    47.0                 186.0  0.99560  3.19       0.40   \n",
       "4                    47.0                 186.0  0.99560  3.19       0.40   \n",
       "...                   ...                   ...      ...   ...        ...   \n",
       "4893                 24.0                  92.0  0.99114  3.27       0.50   \n",
       "4894                 57.0                 168.0  0.99490  3.15       0.46   \n",
       "4895                 30.0                 111.0  0.99254  2.99       0.46   \n",
       "4896                 20.0                 110.0  0.98869  3.34       0.38   \n",
       "4897                 22.0                  98.0  0.98941  3.26       0.32   \n",
       "\n",
       "      alcohol  quality  \n",
       "0         8.8        6  \n",
       "1         9.5        6  \n",
       "2        10.1        6  \n",
       "3         9.9        6  \n",
       "4         9.9        6  \n",
       "...       ...      ...  \n",
       "4893     11.2        6  \n",
       "4894      9.6        5  \n",
       "4895      9.4        6  \n",
       "4896     12.8        7  \n",
       "4897     11.8        6  \n",
       "\n",
       "[4898 rows x 12 columns]"
      ]
     },
     "execution_count": 78,
     "metadata": {},
     "output_type": "execute_result"
    }
   ],
   "source": [
    "import pandas as pd\n",
    "import numpy as np\n",
    "from sklearn.impute import SimpleImputer\n",
    "df = pd.read_csv('C:/Users/Administrator/Desktop/CU/CU_SP2022/APANPS5205 - APPLIED ANALYTICS FRAMEWORKS & METHDS II/2/wine.csv', sep=\";\")\n",
    "df"
   ]
  },
  {
   "cell_type": "markdown",
   "id": "5f9b9e88-116c-4a4c-8234-97e94a6099c6",
   "metadata": {},
   "source": [
    "# Matplotlib"
   ]
  },
  {
   "cell_type": "code",
   "execution_count": 90,
   "id": "07f1651c-8f14-4135-8553-28ecfa608b5b",
   "metadata": {},
   "outputs": [
    {
     "name": "stdout",
     "output_type": "stream",
     "text": [
      "[<matplotlib.lines.Line2D object at 0x0000028E487C60D0>]\n"
     ]
    },
    {
     "data": {
      "text/plain": [
       "<matplotlib.collections.PathCollection at 0x28e487c64c0>"
      ]
     },
     "execution_count": 91,
     "metadata": {},
     "output_type": "execute_result"
    },
    {
     "data": {
      "image/png": "[encoded data removed]",
      "text/plain": [
       "<Figure size 432x288 with 1 Axes>"
      ]
     },
     "metadata": {
      "needs_background": "light"
     },
     "output_type": "display_data"
    }
   ],
   "source": [
    "import matplotlib.pyplot as plt\n",
    "x = np.linspace(0, 10, 1000)\n",
    "y = np.sin(x)\n",
    "plt.plot(x, y)"
   ]
  },
  {
   "cell_type": "code",
   "execution_count": 97,
   "id": "77646f63-d6f9-4783-9445-c7a16e787150",
   "metadata": {},
   "outputs": [
    {
     "data": {
      "text/plain": [
       "<matplotlib.collections.PathCollection at 0x28e48915b20>"
      ]
     },
     "execution_count": 97,
     "metadata": {},
     "output_type": "execute_result"
    },
    {
     "data": {
      "image/png": "[encoded data removed]",
      "text/plain": [
       "<Figure size 432x288 with 1 Axes>"
      ]
     },
     "metadata": {
      "needs_background": "light"
     },
     "output_type": "display_data"
    }
   ],
   "source": [
    "plt.scatter(x[:30], y[:30], color=\"red\")"
   ]
  },
  {
   "cell_type": "code",
   "execution_count": 99,
   "id": "93936c89-1370-4e14-acfb-a27e32598f60",
   "metadata": {},
   "outputs": [
    {
     "data": {
      "text/plain": [
       "[<matplotlib.lines.Line2D at 0x28e489d81c0>]"
      ]
     },
     "execution_count": 99,
     "metadata": {},
     "output_type": "execute_result"
    },
    {
     "data": {
      "image/png": "[encoded data removed]",
      "text/plain": [
       "<Figure size 432x288 with 1 Axes>"
      ]
     },
     "metadata": {
      "needs_background": "light"
     },
     "output_type": "display_data"
    }
   ],
   "source": [
    "plt.plot(x, y, color=\"b\")\n",
    "plt.plot(x, np.cos(x), color=\"g\")"
   ]
  },
  {
   "cell_type": "code",
   "execution_count": null,
   "id": "60b91c43-869e-4fea-b547-933a2c5585dd",
   "metadata": {},
   "outputs": [],
   "source": []
  }
 ],
 "metadata": {
  "kernelspec": {
   "display_name": "Python 3 (ipykernel)",
   "language": "python",
   "name": "python3"
  },
  "language_info": {
   "codemirror_mode": {
    "name": "ipython",
    "version": 3
   },
   "file_extension": ".py",
   "mimetype": "text/x-python",
   "name": "python",
   "nbconvert_exporter": "python",
   "pygments_lexer": "ipython3",
   "version": "3.9.7"
  }
 },
 "nbformat": 4,
 "nbformat_minor": 5
}
