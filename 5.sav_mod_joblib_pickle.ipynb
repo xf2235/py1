{
 "cells": [
  {
   "cell_type": "markdown",
   "id": "ed734bb8-a294-482e-b1e8-65187873f518",
   "metadata": {},
   "source": [
    "# Save Model Using Joblib (for large numpy) And Pickle"
   ]
  },
  {
   "cell_type": "markdown",
   "id": "31681cfd-d69e-4f77-93b0-ce5ddf653b83",
   "metadata": {},
   "source": [
    "## ie5"
   ]
  },
  {
   "cell_type": "code",
   "execution_count": 1,
   "id": "f94a7441-c547-4d2c-874c-810870bfe049",
   "metadata": {},
   "outputs": [
    {
     "name": "stdout",
     "output_type": "stream",
     "text": [
      "[135.78767123]\n",
      "180616.43835616432\n"
     ]
    },
    {
     "data": {
      "text/plain": [
       "array([859554.79452055])"
      ]
     },
     "execution_count": 1,
     "metadata": {},
     "output_type": "execute_result"
    }
   ],
   "source": [
    "import pandas as pd\n",
    "from sklearn import linear_model\n",
    "hp = pd.read_csv(\"homeprices.csv\")\n",
    "model = linear_model.LinearRegression()\n",
    "model.fit(hp[[\"area\"]], hp.price)\n",
    "print(model.coef_)\n",
    "print(model.intercept_)\n",
    "model.predict([[5000]])"
   ]
  },
  {
   "cell_type": "markdown",
   "id": "e548103d-d29a-4bf1-b61f-2f78371e94af",
   "metadata": {},
   "source": [
    "### pickle"
   ]
  },
  {
   "cell_type": "code",
   "execution_count": 2,
   "id": "738e3405-e22c-4658-be5a-ca512a7f9802",
   "metadata": {},
   "outputs": [],
   "source": [
    "# upload file\n",
    "import pickle\n",
    "with open(\"model_pickle\", \"wb\") as f:\n",
    "    pickle.dump(model, f)"
   ]
  },
  {
   "cell_type": "code",
   "execution_count": 3,
   "id": "b1ee88f7-f56e-438f-902c-808704c8235b",
   "metadata": {},
   "outputs": [],
   "source": [
    "# download file\n",
    "with open(\"model_pickle\", \"rb\") as f:\n",
    "    mp = pickle.load(f)"
   ]
  },
  {
   "cell_type": "code",
   "execution_count": 4,
   "id": "97620c83-debc-4e79-8880-fa3e296f858d",
   "metadata": {},
   "outputs": [
    {
     "name": "stdout",
     "output_type": "stream",
     "text": [
      "[135.78767123]\n",
      "180616.43835616432\n",
      "[859554.79452055]\n"
     ]
    }
   ],
   "source": [
    "print(mp.coef_)\n",
    "print(mp.intercept_)\n",
    "print(mp.predict([[5000]]))"
   ]
  },
  {
   "cell_type": "markdown",
   "id": "20b71123-961c-45dd-b478-c079f3b72e2f",
   "metadata": {},
   "source": [
    "### jooblib"
   ]
  },
  {
   "cell_type": "code",
   "execution_count": 5,
   "id": "0707e2a6-6e05-46fc-bb3a-994d2c41dd7c",
   "metadata": {},
   "outputs": [
    {
     "data": {
      "text/plain": [
       "['model_joblib']"
      ]
     },
     "execution_count": 5,
     "metadata": {},
     "output_type": "execute_result"
    }
   ],
   "source": [
    "# upload file\n",
    "import joblib\n",
    "joblib.dump(model, \"model_joblib\")"
   ]
  },
  {
   "cell_type": "code",
   "execution_count": 6,
   "id": "bdb5026e-4635-49b6-b1f8-8824f546669c",
   "metadata": {},
   "outputs": [],
   "source": [
    "# download file\n",
    "mj = joblib.load(\"model_joblib\")"
   ]
  },
  {
   "cell_type": "code",
   "execution_count": 7,
   "id": "2d3f27f6-41ec-4b18-8e1a-0e784d4d06c1",
   "metadata": {},
   "outputs": [
    {
     "name": "stdout",
     "output_type": "stream",
     "text": [
      "[135.78767123]\n",
      "180616.43835616432\n",
      "[859554.79452055]\n"
     ]
    }
   ],
   "source": [
    "print(mj.coef_)\n",
    "print(mj.intercept_)\n",
    "print(mj.predict([[5000]]))"
   ]
  }
 ],
 "metadata": {
  "kernelspec": {
   "display_name": "Python 3 (ipykernel)",
   "language": "python",
   "name": "python3"
  },
  "language_info": {
   "codemirror_mode": {
    "name": "ipython",
    "version": 3
   },
   "file_extension": ".py",
   "mimetype": "text/x-python",
   "name": "python",
   "nbconvert_exporter": "python",
   "pygments_lexer": "ipython3",
   "version": "3.9.7"
  }
 },
 "nbformat": 4,
 "nbformat_minor": 5
}
