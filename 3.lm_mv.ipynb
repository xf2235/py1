{
 "cells": [
  {
   "cell_type": "markdown",
   "id": "f7f86266-8266-4c5c-822a-25b24ae1e806",
   "metadata": {},
   "source": [
    "# Linear Regression Multiple Variable"
   ]
  },
  {
   "cell_type": "markdown",
   "id": "5c66c2a2-42bb-4092-8a15-0b7b91ba7f55",
   "metadata": {},
   "source": [
    "## ie3"
   ]
  },
  {
   "cell_type": "code",
   "execution_count": 1,
   "id": "eea6a569-5c42-47b0-b77f-75bbcf735305",
   "metadata": {},
   "outputs": [
    {
     "name": "stdout",
     "output_type": "stream",
     "text": [
      "   area  bedrooms  age   price\n",
      "0  2600       3.0   20  550000\n",
      "1  3000       4.0   15  565000\n",
      "2  3200       NaN   18  610000\n",
      "3  3600       3.0   30  595000\n",
      "4  4000       5.0    8  760000\n",
      "3\n",
      "   area  bedrooms  age   price\n",
      "0  2600       3.0   20  550000\n",
      "1  3000       4.0   15  565000\n",
      "2  3200       3.0   18  610000\n",
      "3  3600       3.0   30  595000\n",
      "4  4000       5.0    8  760000\n"
     ]
    }
   ],
   "source": [
    "import pandas as pd\n",
    "import math\n",
    "from sklearn import linear_model\n",
    "df = pd.read_csv(\"homeprices2.csv\")\n",
    "print(df)\n",
    "median_bedrooms = math.floor(df.bedrooms.median())\n",
    "print(median_bedrooms)\n",
    "df.bedrooms = df.bedrooms.fillna(median_bedrooms)\n",
    "print(df)"
   ]
  },
  {
   "cell_type": "code",
   "execution_count": 8,
   "id": "9cab5ca3-1e81-4a27-a527-b2aac6748833",
   "metadata": {},
   "outputs": [
    {
     "name": "stdout",
     "output_type": "stream",
     "text": [
      "[   137.25 -26025.    -6825.  ]\n",
      "383725.0\n",
      "[615025.]\n",
      "[546400.]\n"
     ]
    }
   ],
   "source": [
    "reg = linear_model.LinearRegression()\n",
    "reg.fit(df[[\"area\", \"bedrooms\", \"age\"]], df.price)\n",
    "print(reg.coef_)\n",
    "print(reg.intercept_)\n",
    "print(reg.predict([[3000, 3, 15]]))\n",
    "print(reg.predict([[2500, 3, 15]]))"
   ]
  },
  {
   "cell_type": "markdown",
   "id": "2a5e7d40-e824-47c3-a369-5ad1e7286c50",
   "metadata": {},
   "source": [
    "## asgn3"
   ]
  },
  {
   "cell_type": "code",
   "execution_count": 10,
   "id": "f96f797d-54a4-4f65-bc50-36827bcf3d85",
   "metadata": {},
   "outputs": [
    {
     "name": "stdout",
     "output_type": "stream",
     "text": [
      "  experience  test_score(out of 10)  interview_score(out of 10)  salary($)\n",
      "0        NaN                    8.0                           9      50000\n",
      "1        NaN                    8.0                           6      45000\n",
      "2       five                    6.0                           7      60000\n",
      "3        two                   10.0                          10      65000\n",
      "4      seven                    9.0                           6      70000\n",
      "5      three                    7.0                          10      62000\n",
      "6        ten                    NaN                           7      72000\n",
      "7     eleven                    7.0                           8      80000\n",
      "   experience  test_score(out of 10)  interview_score(out of 10)  salary($)\n",
      "0           0                    8.0                           9      50000\n",
      "1           0                    8.0                           6      45000\n",
      "2           5                    6.0                           7      60000\n",
      "3           2                   10.0                          10      65000\n",
      "4           7                    9.0                           6      70000\n",
      "5           3                    7.0                          10      62000\n",
      "6          10                    NaN                           7      72000\n",
      "7          11                    7.0                           8      80000\n",
      "7\n",
      "   experience  test_score(out of 10)  interview_score(out of 10)  salary($)\n",
      "0           0                    8.0                           9      50000\n",
      "1           0                    8.0                           6      45000\n",
      "2           5                    6.0                           7      60000\n",
      "3           2                   10.0                          10      65000\n",
      "4           7                    9.0                           6      70000\n",
      "5           3                    7.0                          10      62000\n",
      "6          10                    7.0                           7      72000\n",
      "7          11                    7.0                           8      80000\n"
     ]
    }
   ],
   "source": [
    "from word2number import w2n\n",
    "import math\n",
    "hr = pd.read_csv(\"hiring.csv\")\n",
    "print(hr)\n",
    "hr.experience = hr.experience.fillna(\"zero\")\n",
    "hr.experience = hr.experience.apply(w2n.word_to_num)\n",
    "print(hr)\n",
    "median_test_score = math.floor(hr[\"test_score(out of 10)\"].mean())\n",
    "print(median_test_score)\n",
    "hr[\"test_score(out of 10)\"] = hr[\"test_score(out of 10)\"].fillna(median_test_score)\n",
    "print(hr)"
   ]
  },
  {
   "cell_type": "code",
   "execution_count": 11,
   "id": "2880741a-e3d2-4d72-83b6-8da1705239dc",
   "metadata": {},
   "outputs": [
    {
     "name": "stdout",
     "output_type": "stream",
     "text": [
      "[53713.86677124]\n",
      "[93747.79628651]\n"
     ]
    }
   ],
   "source": [
    "reg = linear_model.LinearRegression()\n",
    "reg.fit(hr[['experience','test_score(out of 10)','interview_score(out of 10)']],hr['salary($)'])\n",
    "print(reg.predict([[2,9,6]]))\n",
    "print(reg.predict([[12,10,10]]))"
   ]
  }
 ],
 "metadata": {
  "kernelspec": {
   "display_name": "Python 3 (ipykernel)",
   "language": "python",
   "name": "python3"
  },
  "language_info": {
   "codemirror_mode": {
    "name": "ipython",
    "version": 3
   },
   "file_extension": ".py",
   "mimetype": "text/x-python",
   "name": "python",
   "nbconvert_exporter": "python",
   "pygments_lexer": "ipython3",
   "version": "3.9.7"
  }
 },
 "nbformat": 4,
 "nbformat_minor": 5
}
