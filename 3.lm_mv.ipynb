{
 "cells": [
  {
   "cell_type": "markdown",
   "id": "f7f86266-8266-4c5c-822a-25b24ae1e806",
   "metadata": {},
   "source": [
    "# Linear Regression Multiple Variable"
   ]
  },
  {
   "cell_type": "markdown",
   "id": "5c66c2a2-42bb-4092-8a15-0b7b91ba7f55",
   "metadata": {},
   "source": [
    "## ie3"
   ]
  },
  {
   "cell_type": "code",
   "execution_count": 77,
   "id": "eea6a569-5c42-47b0-b77f-75bbcf735305",
   "metadata": {},
   "outputs": [
    {
     "name": "stdout",
     "output_type": "stream",
     "text": [
      "   area  bedrooms  age   price\n",
      "0  2600       3.0   20  550000\n",
      "1  3000       4.0   15  565000\n",
      "2  3200       NaN   18  610000\n",
      "3  3600       3.0   30  595000\n",
      "4  4000       5.0    8  760000\n",
      "3\n",
      "   area  bedrooms  age   price\n",
      "0  2600       3.0   20  550000\n",
      "1  3000       4.0   15  565000\n",
      "2  3200       3.0   18  610000\n",
      "3  3600       3.0   30  595000\n",
      "4  4000       5.0    8  760000\n"
     ]
    }
   ],
   "source": [
    "import pandas as pd\n",
    "import math\n",
    "from sklearn import linear_model\n",
    "df = pd.read_csv(\"homeprices2.csv\")\n",
    "print(df)\n",
    "median_bedrooms = math.floor(df.bedrooms.median())\n",
    "print(median_bedrooms)\n",
    "df.bedrooms = df.bedrooms.fillna(median_bedrooms)\n",
    "print(df)"
   ]
  },
  {
   "cell_type": "code",
   "execution_count": 78,
   "id": "9cab5ca3-1e81-4a27-a527-b2aac6748833",
   "metadata": {},
   "outputs": [
    {
     "name": "stdout",
     "output_type": "stream",
     "text": [
      "<class 'pandas.core.series.Series'>\n",
      "<class 'pandas.core.frame.DataFrame'>\n",
      "2\n",
      "0.8322115384615385\n",
      "[   86.25     0.   -4125.  ]\n",
      "408249.9999999999\n",
      "[605125.]\n",
      "[562000.]\n"
     ]
    }
   ],
   "source": [
    "import warnings\n",
    "warnings.simplefilter(action='ignore', category=UserWarning)\n",
    "from sklearn.model_selection import train_test_split\n",
    "from sklearn.linear_model import LinearRegression as LM\n",
    "X = df.drop([\"price\"], axis=\"columns\")\n",
    "y = df.price\n",
    "print(type(x))\n",
    "\n",
    "X_train, X_test, y_train, y_test = train_test_split(X, y, train_size=0.75, random_state=23)\n",
    "print(type(X_train))\n",
    "print(len(X_test))\n",
    "\n",
    "reg = LM()\n",
    "reg.fit(X_train, y_train)\n",
    "print(reg.score(X_test, y_test))\n",
    "print(reg.coef_)\n",
    "print(reg.intercept_)\n",
    "print(reg.predict([[3000, 3, 15]]))\n",
    "print(reg.predict([[2500, 3, 15]]))"
   ]
  },
  {
   "cell_type": "code",
   "execution_count": 79,
   "id": "3fd00a60-2bae-498d-89dd-8bec79546d00",
   "metadata": {},
   "outputs": [
    {
     "name": "stdout",
     "output_type": "stream",
     "text": [
      "coef: [   86.25     0.   -4125.  ]\n",
      "intercept: 408249.9999999999\n"
     ]
    }
   ],
   "source": [
    "print(\"coef:\", reg.coef_)\n",
    "print(\"intercept:\", reg.intercept_)"
   ]
  },
  {
   "cell_type": "markdown",
   "id": "d7e43e40-fc0f-4065-bf2c-15c7f9fafc3e",
   "metadata": {},
   "source": [
    "### Metrics"
   ]
  },
  {
   "cell_type": "code",
   "execution_count": 80,
   "id": "5c0145ef-247f-491e-b07a-ba8de302ccec",
   "metadata": {},
   "outputs": [
    {
     "name": "stdout",
     "output_type": "stream",
     "text": [
      "rsq: 0.8322115384615385\n"
     ]
    },
    {
     "data": {
      "text/plain": [
       "39937.940138419755"
      ]
     },
     "execution_count": 80,
     "metadata": {},
     "output_type": "execute_result"
    }
   ],
   "source": [
    "from sklearn.metrics import mean_squared_error\n",
    "import numpy as np\n",
    "print(\"rsq:\", reg.score(X_test, y_test))\n",
    "np.sqrt(mean_squared_error(y_test, reg.predict(X_test)))"
   ]
  },
  {
   "cell_type": "markdown",
   "id": "edce4f1f-7f2b-48a3-9b98-f55ac0f37834",
   "metadata": {},
   "source": [
    "### Summary"
   ]
  },
  {
   "cell_type": "code",
   "execution_count": 81,
   "id": "2cbeeb5f-d69b-4403-a0ca-e490aa9cd936",
   "metadata": {},
   "outputs": [
    {
     "name": "stdout",
     "output_type": "stream",
     "text": [
      "                            OLS Regression Results                            \n",
      "==============================================================================\n",
      "Dep. Variable:                  price   R-squared:                       1.000\n",
      "Model:                            OLS   Adj. R-squared:                    nan\n",
      "Method:                 Least Squares   F-statistic:                       nan\n",
      "Date:                Sun, 06 Nov 2022   Prob (F-statistic):                nan\n",
      "Time:                        23:03:03   Log-Likelihood:                 58.644\n",
      "No. Observations:                   3   AIC:                            -111.3\n",
      "Df Residuals:                       0   BIC:                            -114.0\n",
      "Df Model:                           2                                         \n",
      "Covariance Type:            nonrobust                                         \n",
      "==============================================================================\n",
      "                 coef    std err          t      P>|t|      [0.025      0.975]\n",
      "------------------------------------------------------------------------------\n",
      "area          86.2500        inf          0        nan         nan         nan\n",
      "bedrooms    1.361e+05        inf          0        nan         nan         nan\n",
      "age        -4125.0000        inf         -0        nan         nan         nan\n",
      "==============================================================================\n",
      "Omnibus:                          nan   Durbin-Watson:                   0.029\n",
      "Prob(Omnibus):                    nan   Jarque-Bera (JB):                0.531\n",
      "Skew:                           0.707   Prob(JB):                        0.767\n",
      "Kurtosis:                       1.500   Cond. No.                     8.24e+03\n",
      "==============================================================================\n",
      "\n",
      "Notes:\n",
      "[1] Standard Errors assume that the covariance matrix of the errors is correctly specified.\n",
      "[2] The condition number is large, 8.24e+03. This might indicate that there are\n",
      "strong multicollinearity or other numerical problems.\n"
     ]
    }
   ],
   "source": [
    "import warnings\n",
    "warnings.simplefilter(action='ignore')\n",
    "import statsmodels.api as sm\n",
    "model = sm.OLS(y_train, X_train).fit()\n",
    "predictions = model.predict(X_test)\n",
    "\n",
    "print_model = model.summary()\n",
    "print(print_model)"
   ]
  },
  {
   "cell_type": "markdown",
   "id": "2a5e7d40-e824-47c3-a369-5ad1e7286c50",
   "metadata": {},
   "source": [
    "## asgn3"
   ]
  },
  {
   "cell_type": "code",
   "execution_count": 82,
   "id": "f96f797d-54a4-4f65-bc50-36827bcf3d85",
   "metadata": {},
   "outputs": [
    {
     "name": "stdout",
     "output_type": "stream",
     "text": [
      "<class 'pandas.core.frame.DataFrame'>\n"
     ]
    },
    {
     "data": {
      "text/html": [
       "<div>\n",
       "<style scoped>\n",
       "    .dataframe tbody tr th:only-of-type {\n",
       "        vertical-align: middle;\n",
       "    }\n",
       "\n",
       "    .dataframe tbody tr th {\n",
       "        vertical-align: top;\n",
       "    }\n",
       "\n",
       "    .dataframe thead th {\n",
       "        text-align: right;\n",
       "    }\n",
       "</style>\n",
       "<table border=\"1\" class=\"dataframe\">\n",
       "  <thead>\n",
       "    <tr style=\"text-align: right;\">\n",
       "      <th></th>\n",
       "      <th>experience</th>\n",
       "      <th>test_score(out of 10)</th>\n",
       "      <th>interview_score(out of 10)</th>\n",
       "      <th>salary($)</th>\n",
       "    </tr>\n",
       "  </thead>\n",
       "  <tbody>\n",
       "    <tr>\n",
       "      <th>0</th>\n",
       "      <td>zero</td>\n",
       "      <td>8.0</td>\n",
       "      <td>9</td>\n",
       "      <td>50000</td>\n",
       "    </tr>\n",
       "    <tr>\n",
       "      <th>1</th>\n",
       "      <td>zero</td>\n",
       "      <td>8.0</td>\n",
       "      <td>6</td>\n",
       "      <td>45000</td>\n",
       "    </tr>\n",
       "    <tr>\n",
       "      <th>2</th>\n",
       "      <td>five</td>\n",
       "      <td>6.0</td>\n",
       "      <td>7</td>\n",
       "      <td>60000</td>\n",
       "    </tr>\n",
       "    <tr>\n",
       "      <th>3</th>\n",
       "      <td>two</td>\n",
       "      <td>10.0</td>\n",
       "      <td>10</td>\n",
       "      <td>65000</td>\n",
       "    </tr>\n",
       "    <tr>\n",
       "      <th>4</th>\n",
       "      <td>seven</td>\n",
       "      <td>9.0</td>\n",
       "      <td>6</td>\n",
       "      <td>70000</td>\n",
       "    </tr>\n",
       "    <tr>\n",
       "      <th>5</th>\n",
       "      <td>three</td>\n",
       "      <td>7.0</td>\n",
       "      <td>10</td>\n",
       "      <td>62000</td>\n",
       "    </tr>\n",
       "    <tr>\n",
       "      <th>6</th>\n",
       "      <td>ten</td>\n",
       "      <td>NaN</td>\n",
       "      <td>7</td>\n",
       "      <td>72000</td>\n",
       "    </tr>\n",
       "    <tr>\n",
       "      <th>7</th>\n",
       "      <td>eleven</td>\n",
       "      <td>7.0</td>\n",
       "      <td>8</td>\n",
       "      <td>80000</td>\n",
       "    </tr>\n",
       "  </tbody>\n",
       "</table>\n",
       "</div>"
      ],
      "text/plain": [
       "  experience  test_score(out of 10)  interview_score(out of 10)  salary($)\n",
       "0       zero                    8.0                           9      50000\n",
       "1       zero                    8.0                           6      45000\n",
       "2       five                    6.0                           7      60000\n",
       "3        two                   10.0                          10      65000\n",
       "4      seven                    9.0                           6      70000\n",
       "5      three                    7.0                          10      62000\n",
       "6        ten                    NaN                           7      72000\n",
       "7     eleven                    7.0                           8      80000"
      ]
     },
     "execution_count": 82,
     "metadata": {},
     "output_type": "execute_result"
    }
   ],
   "source": [
    "from word2number import w2n\n",
    "import math\n",
    "hr = pd.read_csv(\"hiring.csv\")\n",
    "print(type(hr))\n",
    "hr.experience = hr.experience.fillna(\"zero\")\n",
    "hr"
   ]
  },
  {
   "cell_type": "code",
   "execution_count": 83,
   "id": "dd26f607-f39f-4839-a989-d90546168744",
   "metadata": {},
   "outputs": [
    {
     "name": "stdout",
     "output_type": "stream",
     "text": [
      "   experience  test_score(out of 10)  interview_score(out of 10)  salary($)\n",
      "0           0                    8.0                           9      50000\n",
      "1           0                    8.0                           6      45000\n",
      "2           5                    6.0                           7      60000\n",
      "3           2                   10.0                          10      65000\n",
      "4           7                    9.0                           6      70000\n",
      "5           3                    7.0                          10      62000\n",
      "6          10                    NaN                           7      72000\n",
      "7          11                    7.0                           8      80000\n",
      "7\n"
     ]
    },
    {
     "data": {
      "text/html": [
       "<div>\n",
       "<style scoped>\n",
       "    .dataframe tbody tr th:only-of-type {\n",
       "        vertical-align: middle;\n",
       "    }\n",
       "\n",
       "    .dataframe tbody tr th {\n",
       "        vertical-align: top;\n",
       "    }\n",
       "\n",
       "    .dataframe thead th {\n",
       "        text-align: right;\n",
       "    }\n",
       "</style>\n",
       "<table border=\"1\" class=\"dataframe\">\n",
       "  <thead>\n",
       "    <tr style=\"text-align: right;\">\n",
       "      <th></th>\n",
       "      <th>experience</th>\n",
       "      <th>test_score(out of 10)</th>\n",
       "      <th>interview_score(out of 10)</th>\n",
       "      <th>salary($)</th>\n",
       "    </tr>\n",
       "  </thead>\n",
       "  <tbody>\n",
       "    <tr>\n",
       "      <th>0</th>\n",
       "      <td>0</td>\n",
       "      <td>8.0</td>\n",
       "      <td>9</td>\n",
       "      <td>50000</td>\n",
       "    </tr>\n",
       "    <tr>\n",
       "      <th>1</th>\n",
       "      <td>0</td>\n",
       "      <td>8.0</td>\n",
       "      <td>6</td>\n",
       "      <td>45000</td>\n",
       "    </tr>\n",
       "    <tr>\n",
       "      <th>2</th>\n",
       "      <td>5</td>\n",
       "      <td>6.0</td>\n",
       "      <td>7</td>\n",
       "      <td>60000</td>\n",
       "    </tr>\n",
       "    <tr>\n",
       "      <th>3</th>\n",
       "      <td>2</td>\n",
       "      <td>10.0</td>\n",
       "      <td>10</td>\n",
       "      <td>65000</td>\n",
       "    </tr>\n",
       "    <tr>\n",
       "      <th>4</th>\n",
       "      <td>7</td>\n",
       "      <td>9.0</td>\n",
       "      <td>6</td>\n",
       "      <td>70000</td>\n",
       "    </tr>\n",
       "    <tr>\n",
       "      <th>5</th>\n",
       "      <td>3</td>\n",
       "      <td>7.0</td>\n",
       "      <td>10</td>\n",
       "      <td>62000</td>\n",
       "    </tr>\n",
       "    <tr>\n",
       "      <th>6</th>\n",
       "      <td>10</td>\n",
       "      <td>7.0</td>\n",
       "      <td>7</td>\n",
       "      <td>72000</td>\n",
       "    </tr>\n",
       "    <tr>\n",
       "      <th>7</th>\n",
       "      <td>11</td>\n",
       "      <td>7.0</td>\n",
       "      <td>8</td>\n",
       "      <td>80000</td>\n",
       "    </tr>\n",
       "  </tbody>\n",
       "</table>\n",
       "</div>"
      ],
      "text/plain": [
       "   experience  test_score(out of 10)  interview_score(out of 10)  salary($)\n",
       "0           0                    8.0                           9      50000\n",
       "1           0                    8.0                           6      45000\n",
       "2           5                    6.0                           7      60000\n",
       "3           2                   10.0                          10      65000\n",
       "4           7                    9.0                           6      70000\n",
       "5           3                    7.0                          10      62000\n",
       "6          10                    7.0                           7      72000\n",
       "7          11                    7.0                           8      80000"
      ]
     },
     "execution_count": 83,
     "metadata": {},
     "output_type": "execute_result"
    }
   ],
   "source": [
    "hr.experience = hr.experience.apply(w2n.word_to_num)\n",
    "print(hr)\n",
    "median_test_score = math.floor(hr[\"test_score(out of 10)\"].mean())\n",
    "print(median_test_score)\n",
    "hr[\"test_score(out of 10)\"] = hr[\"test_score(out of 10)\"].fillna(median_test_score)\n",
    "hr"
   ]
  },
  {
   "cell_type": "markdown",
   "id": "9bda3dbe-c914-4f27-9935-2b18c3133edd",
   "metadata": {},
   "source": [
    "### single iv"
   ]
  },
  {
   "cell_type": "code",
   "execution_count": 84,
   "id": "97097f03-60fa-4955-981e-fd91c08734d1",
   "metadata": {},
   "outputs": [
    {
     "data": {
      "text/plain": [
       "LinearRegression()"
      ]
     },
     "execution_count": 84,
     "metadata": {},
     "output_type": "execute_result"
    }
   ],
   "source": [
    "X = hr[\"experience\"].astype('category')\n",
    "y = hr[\"salary($)\"]\n",
    "X_train, X_test, y_train, y_test = train_test_split(X, y, train_size=0.8, random_state=1)\n",
    "reg = LM()\n",
    "reg.fit(X_train.values.reshape(-1, 1), y_train)"
   ]
  },
  {
   "cell_type": "code",
   "execution_count": 85,
   "id": "14cbf8d6-8bfb-4dd4-8e47-dfa08d54ebc3",
   "metadata": {},
   "outputs": [
    {
     "data": {
      "text/plain": [
       "(array([2352.45901639]), 52040.983606557376)"
      ]
     },
     "execution_count": 85,
     "metadata": {},
     "output_type": "execute_result"
    }
   ],
   "source": [
    "reg.coef_, reg.intercept_"
   ]
  },
  {
   "cell_type": "code",
   "execution_count": 86,
   "id": "5b3acc61-81f4-4a64-902e-b8f777275d06",
   "metadata": {},
   "outputs": [
    {
     "data": {
      "text/plain": [
       "LinearRegression()"
      ]
     },
     "execution_count": 86,
     "metadata": {},
     "output_type": "execute_result"
    }
   ],
   "source": [
    "X = hr[\"experience\"]\n",
    "y = hr[\"salary($)\"]\n",
    "X_train, X_test, y_train, y_test = train_test_split(X, y, train_size=0.8, random_state=1)\n",
    "reg1 = LM()\n",
    "reg1.fit(X_train.values.reshape(-1, 1), y_train)"
   ]
  },
  {
   "cell_type": "code",
   "execution_count": 87,
   "id": "b72f3b26-438f-4954-b30f-dd433d8c87cd",
   "metadata": {},
   "outputs": [
    {
     "data": {
      "text/plain": [
       "(array([2352.45901639]), 52040.983606557376)"
      ]
     },
     "execution_count": 87,
     "metadata": {},
     "output_type": "execute_result"
    }
   ],
   "source": [
    "reg1.coef_, reg1.intercept_"
   ]
  },
  {
   "cell_type": "markdown",
   "id": "e0a89358-8404-465c-b781-4d5a6ca37f22",
   "metadata": {},
   "source": [
    "### Metrics"
   ]
  },
  {
   "cell_type": "code",
   "execution_count": 96,
   "id": "6451e752-65b4-4bba-8bd3-256922844892",
   "metadata": {},
   "outputs": [
    {
     "name": "stdout",
     "output_type": "stream",
     "text": [
      "rsq: 0.91\n",
      "rmse: 3065.9\n"
     ]
    }
   ],
   "source": [
    "from sklearn.metrics import mean_squared_error\n",
    "print(\"rsq:\", round(reg.score(X_test.values.reshape(-1, 1), y_test), 2))\n",
    "print(\"rmse:\", round(np.sqrt(mean_squared_error(y_test.values.reshape(-1, 1), reg.predict(X_test.values.reshape(-1, 1)))), 2))"
   ]
  },
  {
   "cell_type": "markdown",
   "id": "9d2aba03-fc17-476f-85a3-fc73687c800b",
   "metadata": {},
   "source": [
    "### Summary"
   ]
  },
  {
   "cell_type": "code",
   "execution_count": 97,
   "id": "067daf89-5ffe-482e-a657-208f10effbd5",
   "metadata": {},
   "outputs": [
    {
     "name": "stdout",
     "output_type": "stream",
     "text": [
      "                                 OLS Regression Results                                \n",
      "=======================================================================================\n",
      "Dep. Variable:              salary($)   R-squared (uncentered):                   0.634\n",
      "Model:                            OLS   Adj. R-squared (uncentered):              0.561\n",
      "Method:                 Least Squares   F-statistic:                              8.656\n",
      "Date:                Sun, 06 Nov 2022   Prob (F-statistic):                      0.0322\n",
      "Time:                        23:09:21   Log-Likelihood:                         -71.658\n",
      "No. Observations:                   6   AIC:                                      145.3\n",
      "Df Residuals:                       5   BIC:                                      145.1\n",
      "Df Model:                           1                                                  \n",
      "Covariance Type:            nonrobust                                                  \n",
      "==============================================================================\n",
      "                 coef    std err          t      P>|t|      [0.025      0.975]\n",
      "------------------------------------------------------------------------------\n",
      "experience  9419.7531   3201.747      2.942      0.032    1189.401    1.77e+04\n",
      "==============================================================================\n",
      "Omnibus:                          nan   Durbin-Watson:                   1.658\n",
      "Prob(Omnibus):                    nan   Jarque-Bera (JB):                0.910\n",
      "Skew:                          -0.851   Prob(JB):                        0.635\n",
      "Kurtosis:                       2.137   Cond. No.                         1.00\n",
      "==============================================================================\n",
      "\n",
      "Notes:\n",
      "[1] R² is computed without centering (uncentered) since the model does not contain a constant.\n",
      "[2] Standard Errors assume that the covariance matrix of the errors is correctly specified.\n"
     ]
    }
   ],
   "source": [
    "import statsmodels.api as sm\n",
    "model = sm.OLS(y_train, X_train).fit()\n",
    "predictions = model.predict(X_test)\n",
    "\n",
    "print_model = model.summary()\n",
    "print(print_model)"
   ]
  },
  {
   "cell_type": "markdown",
   "id": "f456b594-a068-4c1d-ba9c-fb6577a15bb5",
   "metadata": {},
   "source": [
    "### multi iv"
   ]
  },
  {
   "cell_type": "code",
   "execution_count": 106,
   "id": "2880741a-e3d2-4d72-83b6-8da1705239dc",
   "metadata": {},
   "outputs": [
    {
     "name": "stdout",
     "output_type": "stream",
     "text": [
      "<class 'pandas.core.frame.DataFrame'>\n",
      "<class 'pandas.core.series.Series'>\n",
      "0.9167614909316278\n",
      "[53704.80156786]\n",
      "[94927.56818553]\n"
     ]
    }
   ],
   "source": [
    "from sklearn.model_selection import train_test_split\n",
    "from sklearn.linear_model import LinearRegression as LM\n",
    "X = hr.drop([\"salary($)\"], axis=\"columns\")\n",
    "y = hr[\"salary($)\"]\n",
    "print(type(x))\n",
    "print(type(y))\n",
    "X_train, X_test, y_train, y_test = train_test_split(X, y, train_size=0.8, random_state=1)\n",
    "reg = LM()\n",
    "reg.fit(X_train, y_train)\n",
    "print(reg.score(X_test, y_test))\n",
    "print(reg.predict([[2,9,6]]))\n",
    "print(reg.predict([[12,10,10]]))"
   ]
  },
  {
   "cell_type": "code",
   "execution_count": 107,
   "id": "15e45ab2-0f85-42b2-89b4-39cb070abc59",
   "metadata": {},
   "outputs": [
    {
     "data": {
      "text/plain": [
       "(array([2938.755512  , 2890.24987751, 2236.24040503]), 8397.599216070586)"
      ]
     },
     "execution_count": 107,
     "metadata": {},
     "output_type": "execute_result"
    }
   ],
   "source": [
    "reg.coef_, reg.intercept_"
   ]
  },
  {
   "cell_type": "markdown",
   "id": "08c666a1-4b5e-4afc-88b5-92ef87b973c0",
   "metadata": {},
   "source": [
    "### Metrics"
   ]
  },
  {
   "cell_type": "code",
   "execution_count": 108,
   "id": "10f5b30a-2a9b-4b51-86e0-92f691cb351c",
   "metadata": {},
   "outputs": [
    {
     "name": "stdout",
     "output_type": "stream",
     "text": [
      "rsq: 0.92\n",
      "rmse: 2885.11\n"
     ]
    }
   ],
   "source": [
    "from sklearn.metrics import mean_squared_error\n",
    "print(\"rsq:\", round(reg.score(X_test, y_test), 2))\n",
    "print(\"rmse:\", round(np.sqrt(mean_squared_error(y_test, reg.predict(X_test))), 2))"
   ]
  },
  {
   "cell_type": "markdown",
   "id": "03da9c03-acbb-4b07-88ee-ddb8ff610029",
   "metadata": {},
   "source": [
    "### Summary"
   ]
  },
  {
   "cell_type": "code",
   "execution_count": 109,
   "id": "bcabc08e-9023-4fe0-8836-da8b03bf99ea",
   "metadata": {},
   "outputs": [
    {
     "name": "stdout",
     "output_type": "stream",
     "text": [
      "                                 OLS Regression Results                                \n",
      "=======================================================================================\n",
      "Dep. Variable:              salary($)   R-squared (uncentered):                   0.999\n",
      "Model:                            OLS   Adj. R-squared (uncentered):              0.998\n",
      "Method:                 Least Squares   F-statistic:                              1291.\n",
      "Date:                Sun, 06 Nov 2022   Prob (F-statistic):                    3.65e-05\n",
      "Time:                        23:10:39   Log-Likelihood:                         -53.179\n",
      "No. Observations:                   6   AIC:                                      112.4\n",
      "Df Residuals:                       3   BIC:                                      111.7\n",
      "Df Model:                           3                                                  \n",
      "Covariance Type:            nonrobust                                                  \n",
      "==============================================================================================\n",
      "                                 coef    std err          t      P>|t|      [0.025      0.975]\n",
      "----------------------------------------------------------------------------------------------\n",
      "experience                  3059.3120    260.780     11.731      0.001    2229.394    3889.230\n",
      "test_score(out of 10)       3571.7842    537.119      6.650      0.007    1862.430    5281.138\n",
      "interview_score(out of 10)  2524.0803    514.383      4.907      0.016     887.085    4161.075\n",
      "==============================================================================\n",
      "Omnibus:                          nan   Durbin-Watson:                   2.634\n",
      "Prob(Omnibus):                    nan   Jarque-Bera (JB):                0.654\n",
      "Skew:                           0.124   Prob(JB):                        0.721\n",
      "Kurtosis:                       1.402   Cond. No.                         9.03\n",
      "==============================================================================\n",
      "\n",
      "Notes:\n",
      "[1] R² is computed without centering (uncentered) since the model does not contain a constant.\n",
      "[2] Standard Errors assume that the covariance matrix of the errors is correctly specified.\n"
     ]
    }
   ],
   "source": [
    "import statsmodels.api as sm\n",
    "model = sm.OLS(y_train, X_train).fit()\n",
    "predictions = model.predict(X_test)\n",
    "\n",
    "print_model = model.summary()\n",
    "print(print_model)"
   ]
  }
 ],
 "metadata": {
  "kernelspec": {
   "display_name": "Python 3 (ipykernel)",
   "language": "python",
   "name": "python3"
  },
  "language_info": {
   "codemirror_mode": {
    "name": "ipython",
    "version": 3
   },
   "file_extension": ".py",
   "mimetype": "text/x-python",
   "name": "python",
   "nbconvert_exporter": "python",
   "pygments_lexer": "ipython3",
   "version": "3.10.0"
  }
 },
 "nbformat": 4,
 "nbformat_minor": 5
}
