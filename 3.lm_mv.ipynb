{
 "cells": [
  {
   "cell_type": "markdown",
   "id": "f7f86266-8266-4c5c-822a-25b24ae1e806",
   "metadata": {},
   "source": [
    "# Linear Regression Multiple Variable"
   ]
  },
  {
   "cell_type": "markdown",
   "id": "5c66c2a2-42bb-4092-8a15-0b7b91ba7f55",
   "metadata": {},
   "source": [
    "## ie3"
   ]
  },
  {
   "cell_type": "code",
   "execution_count": 11,
   "id": "eea6a569-5c42-47b0-b77f-75bbcf735305",
   "metadata": {},
   "outputs": [
    {
     "name": "stdout",
     "output_type": "stream",
     "text": [
      "   area  bedrooms  age   price\n",
      "0  2600       3.0   20  550000\n",
      "1  3000       4.0   15  565000\n",
      "2  3200       NaN   18  610000\n",
      "3  3600       3.0   30  595000\n",
      "4  4000       5.0    8  760000\n",
      "3\n",
      "   area  bedrooms  age   price\n",
      "0  2600       3.0   20  550000\n",
      "1  3000       4.0   15  565000\n",
      "2  3200       3.0   18  610000\n",
      "3  3600       3.0   30  595000\n",
      "4  4000       5.0    8  760000\n"
     ]
    },
    {
     "data": {
      "text/plain": [
       "pandas.core.frame.DataFrame"
      ]
     },
     "execution_count": 11,
     "metadata": {},
     "output_type": "execute_result"
    }
   ],
   "source": [
    "import pandas as pd\n",
    "import math\n",
    "from sklearn import linear_model\n",
    "df = pd.read_csv(\"homeprices2.csv\")\n",
    "print(df)\n",
    "median_bedrooms = math.floor(df.bedrooms.median())\n",
    "print(median_bedrooms)\n",
    "df.bedrooms = df.bedrooms.fillna(median_bedrooms)\n",
    "print(df)"
   ]
  },
  {
   "cell_type": "code",
   "execution_count": 15,
   "id": "9cab5ca3-1e81-4a27-a527-b2aac6748833",
   "metadata": {},
   "outputs": [
    {
     "name": "stdout",
     "output_type": "stream",
     "text": [
      "<class 'pandas.core.frame.DataFrame'>\n",
      "<class 'pandas.core.frame.DataFrame'>\n",
      "2\n",
      "0.8322115384615385\n",
      "[   86.25     0.   -4125.  ]\n",
      "408249.9999999999\n",
      "[605125.]\n",
      "[562000.]\n"
     ]
    }
   ],
   "source": [
    "from sklearn.model_selection import train_test_split\n",
    "x = df.drop([\"price\"], axis=\"columns\")\n",
    "y = df.price\n",
    "print(type(x))\n",
    "x_train, x_test, y_train, y_test = train_test_split(x, y, train_size=0.75, random_state=23)\n",
    "print(type(x_train))\n",
    "print(len(x_test))\n",
    "reg = linear_model.LinearRegression()\n",
    "reg.fit(x_train, y_train)\n",
    "print(reg.score(x_test, y_test))\n",
    "print(reg.coef_)\n",
    "print(reg.intercept_)\n",
    "print(reg.predict([[3000, 3, 15]]))\n",
    "print(reg.predict([[2500, 3, 15]]))"
   ]
  },
  {
   "cell_type": "markdown",
   "id": "2a5e7d40-e824-47c3-a369-5ad1e7286c50",
   "metadata": {},
   "source": [
    "## asgn3"
   ]
  },
  {
   "cell_type": "code",
   "execution_count": 30,
   "id": "f96f797d-54a4-4f65-bc50-36827bcf3d85",
   "metadata": {},
   "outputs": [
    {
     "name": "stdout",
     "output_type": "stream",
     "text": [
      "<class 'pandas.core.frame.DataFrame'>\n",
      "  experience  test_score(out of 10)  interview_score(out of 10)  salary($)\n",
      "0        NaN                    8.0                           9      50000\n",
      "1        NaN                    8.0                           6      45000\n",
      "2       five                    6.0                           7      60000\n",
      "3        two                   10.0                          10      65000\n",
      "4      seven                    9.0                           6      70000\n",
      "5      three                    7.0                          10      62000\n",
      "6        ten                    NaN                           7      72000\n",
      "7     eleven                    7.0                           8      80000\n",
      "   experience  test_score(out of 10)  interview_score(out of 10)  salary($)\n",
      "0           0                    8.0                           9      50000\n",
      "1           0                    8.0                           6      45000\n",
      "2           5                    6.0                           7      60000\n",
      "3           2                   10.0                          10      65000\n",
      "4           7                    9.0                           6      70000\n",
      "5           3                    7.0                          10      62000\n",
      "6          10                    NaN                           7      72000\n",
      "7          11                    7.0                           8      80000\n",
      "7\n",
      "   experience  test_score(out of 10)  interview_score(out of 10)  salary($)\n",
      "0           0                    8.0                           9      50000\n",
      "1           0                    8.0                           6      45000\n",
      "2           5                    6.0                           7      60000\n",
      "3           2                   10.0                          10      65000\n",
      "4           7                    9.0                           6      70000\n",
      "5           3                    7.0                          10      62000\n",
      "6          10                    7.0                           7      72000\n",
      "7          11                    7.0                           8      80000\n"
     ]
    }
   ],
   "source": [
    "from word2number import w2n\n",
    "import math\n",
    "hr = pd.read_csv(\"hiring.csv\")\n",
    "print(type(hr))\n",
    "print(hr)\n",
    "hr.experience = hr.experience.fillna(\"zero\")\n",
    "hr.experience = hr.experience.apply(w2n.word_to_num)\n",
    "print(hr)\n",
    "median_test_score = math.floor(hr[\"test_score(out of 10)\"].mean())\n",
    "print(median_test_score)\n",
    "hr[\"test_score(out of 10)\"] = hr[\"test_score(out of 10)\"].fillna(median_test_score)\n",
    "print(hr)"
   ]
  },
  {
   "cell_type": "code",
   "execution_count": 53,
   "id": "2880741a-e3d2-4d72-83b6-8da1705239dc",
   "metadata": {},
   "outputs": [
    {
     "name": "stdout",
     "output_type": "stream",
     "text": [
      "<class 'pandas.core.frame.DataFrame'>\n",
      "<class 'pandas.core.series.Series'>\n",
      "0.9167614909316284\n",
      "[53704.80156786]\n",
      "[94927.56818553]\n"
     ]
    }
   ],
   "source": [
    "from sklearn.model_selection import train_test_split\n",
    "from sklearn.linear_model import LinearRegression as LR\n",
    "x = hr.drop([\"salary($)\"], axis=\"columns\")\n",
    "y = hr[\"salary($)\"]\n",
    "print(type(x))\n",
    "print(type(y))\n",
    "x_train, x_test, y_train, y_test = train_test_split(x, y, train_size=0.8, random_state=1)\n",
    "reg = LR()\n",
    "reg.fit(x_train, y_train)\n",
    "print(reg.score(x_test, y_test))\n",
    "print(reg.predict([[2,9,6]]))\n",
    "print(reg.predict([[12,10,10]]))"
   ]
  }
 ],
 "metadata": {
  "kernelspec": {
   "display_name": "Python 3 (ipykernel)",
   "language": "python",
   "name": "python3"
  },
  "language_info": {
   "codemirror_mode": {
    "name": "ipython",
    "version": 3
   },
   "file_extension": ".py",
   "mimetype": "text/x-python",
   "name": "python",
   "nbconvert_exporter": "python",
   "pygments_lexer": "ipython3",
   "version": "3.9.7"
  }
 },
 "nbformat": 4,
 "nbformat_minor": 5
}
